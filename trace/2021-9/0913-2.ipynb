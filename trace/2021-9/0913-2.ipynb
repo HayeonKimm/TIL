{
 "cells": [
  {
   "cell_type": "code",
   "execution_count": 1,
   "id": "feccc75b",
   "metadata": {},
   "outputs": [],
   "source": [
    "import pandas as pd\n",
    "import seaborn as sns\n",
    "import matplotlib.pyplot as plt"
   ]
  },
  {
   "cell_type": "code",
   "execution_count": 2,
   "id": "ef8346dc",
   "metadata": {},
   "outputs": [
    {
     "name": "stdout",
     "output_type": "stream",
     "text": [
      " C 드라이브의 볼륨에는 이름이 없습니다.\n",
      " 볼륨 일련 번호: 3C26-45E0\n",
      "\n",
      " C:\\Users\\cityo\\Desktop\\Git_Space\\jupyter\\교통 디렉터리\n",
      "\n",
      "2021-09-13  오후 05:31    <DIR>          .\n",
      "2021-09-13  오후 05:31    <DIR>          ..\n",
      "2021-09-13  오후 05:31    <DIR>          .ipynb_checkpoints\n",
      "2021-09-09  오후 07:59            50,355 0909.ipynb\n",
      "2021-09-13  오전 08:53         1,642,643 0911.ipynb\n",
      "2021-09-13  오후 05:31            60,143 0913.ipynb\n",
      "2021-09-13  오후 05:31                72 0913-2.ipynb\n",
      "2021-09-07  오후 04:38             8,045 1.csv\n",
      "2021-09-11  오후 04:14            25,769 19년.csv\n",
      "2021-09-07  오후 04:38            10,712 2.csv\n",
      "2021-09-04  오후 07:03            21,714 20210701_01_데이터수집_selenium-checkpoint.ipynb\n",
      "2021-09-04  오후 07:42             6,981 20210701_02_데이터수집_coffeebean(자바스크립트)-checkpoint.ipynb\n",
      "2021-07-18  오전 02:50        11,177,472 chromedriver.exe\n",
      "2021-09-07  오후 04:39            92,547 Untitled.ipynb\n",
      "2021-09-13  오전 08:40    <DIR>          교통데이터\n",
      "2021-09-08  오후 05:12           256,528 교통사고_강남구.csv\n",
      "2021-09-08  오후 05:11           151,623 교통사고_강동구.csv\n",
      "2021-09-08  오후 05:12           191,288 교통사고_강북구.csv\n",
      "2021-09-09  오전 11:09           263,279 교통사고_송파구.csv\n",
      "2021-09-09  오전 11:46           269,334 교통사고_영등포구.csv\n",
      "2021-09-10  오전 10:24           209,202 교통사고_종로구.csv\n",
      "2021-09-09  오후 02:42            25,353 셀리니움 실습 0905.ipynb\n",
      "2021-09-13  오후 03:57             1,501 종로구_교통량장소.csv\n",
      "2021-09-13  오후 04:19            24,916 종로구_발생날짜.csv\n",
      "2021-09-13  오후 03:57               876 종로구_사고다발구간_위치.csv\n",
      "              21개 파일          14,490,353 바이트\n",
      "               4개 디렉터리  205,877,485,568 바이트 남음\n"
     ]
    }
   ],
   "source": [
    "%ls"
   ]
  },
  {
   "cell_type": "code",
   "execution_count": 6,
   "id": "bb224c4f",
   "metadata": {},
   "outputs": [],
   "source": [
    "df = pd.read_csv('종로구_발생날짜.csv',encoding='cp949')"
   ]
  },
  {
   "cell_type": "code",
   "execution_count": 9,
   "id": "c32c222b",
   "metadata": {},
   "outputs": [
    {
     "data": {
      "text/html": [
       "<div>\n",
       "<style scoped>\n",
       "    .dataframe tbody tr th:only-of-type {\n",
       "        vertical-align: middle;\n",
       "    }\n",
       "\n",
       "    .dataframe tbody tr th {\n",
       "        vertical-align: top;\n",
       "    }\n",
       "\n",
       "    .dataframe thead th {\n",
       "        text-align: right;\n",
       "    }\n",
       "</style>\n",
       "<table border=\"1\" class=\"dataframe\">\n",
       "  <thead>\n",
       "    <tr style=\"text-align: right;\">\n",
       "      <th></th>\n",
       "      <th>지점명</th>\n",
       "      <th>년도</th>\n",
       "      <th>월</th>\n",
       "      <th>일</th>\n",
       "      <th>시각</th>\n",
       "    </tr>\n",
       "  </thead>\n",
       "  <tbody>\n",
       "    <tr>\n",
       "      <th>0</th>\n",
       "      <td>관철동14-1번지사거리</td>\n",
       "      <td>2017</td>\n",
       "      <td>7</td>\n",
       "      <td>13</td>\n",
       "      <td>9</td>\n",
       "    </tr>\n",
       "    <tr>\n",
       "      <th>1</th>\n",
       "      <td>관철동14-1번지사거리</td>\n",
       "      <td>2017</td>\n",
       "      <td>9</td>\n",
       "      <td>1</td>\n",
       "      <td>3</td>\n",
       "    </tr>\n",
       "    <tr>\n",
       "      <th>2</th>\n",
       "      <td>관철동14-1번지사거리</td>\n",
       "      <td>2017</td>\n",
       "      <td>11</td>\n",
       "      <td>24</td>\n",
       "      <td>1</td>\n",
       "    </tr>\n",
       "    <tr>\n",
       "      <th>3</th>\n",
       "      <td>관철동14-1번지사거리</td>\n",
       "      <td>2018</td>\n",
       "      <td>3</td>\n",
       "      <td>24</td>\n",
       "      <td>20</td>\n",
       "    </tr>\n",
       "    <tr>\n",
       "      <th>4</th>\n",
       "      <td>관철동14-1번지사거리</td>\n",
       "      <td>2018</td>\n",
       "      <td>7</td>\n",
       "      <td>28</td>\n",
       "      <td>18</td>\n",
       "    </tr>\n",
       "  </tbody>\n",
       "</table>\n",
       "</div>"
      ],
      "text/plain": [
       "            지점명    년도   월   일  시각\n",
       "0  관철동14-1번지사거리  2017   7  13   9\n",
       "1  관철동14-1번지사거리  2017   9   1   3\n",
       "2  관철동14-1번지사거리  2017  11  24   1\n",
       "3  관철동14-1번지사거리  2018   3  24  20\n",
       "4  관철동14-1번지사거리  2018   7  28  18"
      ]
     },
     "execution_count": 9,
     "metadata": {},
     "output_type": "execute_result"
    }
   ],
   "source": [
    "df.head()"
   ]
  },
  {
   "cell_type": "code",
   "execution_count": 12,
   "id": "6d03dd12",
   "metadata": {},
   "outputs": [
    {
     "data": {
      "text/plain": [
       "<AxesSubplot:>"
      ]
     },
     "execution_count": 12,
     "metadata": {},
     "output_type": "execute_result"
    },
    {
     "data": {
      "image/png": "[encoded data removed]",
      "text/plain": [
       "<Figure size 432x288 with 1 Axes>"
      ]
     },
     "metadata": {
      "needs_background": "light"
     },
     "output_type": "display_data"
    }
   ],
   "source": [
    "df['년도'].value_counts().plot.bar(rot=0)"
   ]
  },
  {
   "cell_type": "code",
   "execution_count": 23,
   "id": "fc279ffa",
   "metadata": {},
   "outputs": [
    {
     "data": {
      "text/plain": [
       "<AxesSubplot:>"
      ]
     },
     "execution_count": 23,
     "metadata": {},
     "output_type": "execute_result"
    },
    {
     "data": {
      "image/png": "[encoded data removed]",
      "text/plain": [
       "<Figure size 432x288 with 1 Axes>"
      ]
     },
     "metadata": {
      "needs_background": "light"
     },
     "output_type": "display_data"
    }
   ],
   "source": [
    "df['월'].value_counts().plot.bar()"
   ]
  },
  {
   "cell_type": "code",
   "execution_count": 24,
   "id": "856b88ce",
   "metadata": {},
   "outputs": [
    {
     "data": {
      "text/html": [
       "<div>\n",
       "<style scoped>\n",
       "    .dataframe tbody tr th:only-of-type {\n",
       "        vertical-align: middle;\n",
       "    }\n",
       "\n",
       "    .dataframe tbody tr th {\n",
       "        vertical-align: top;\n",
       "    }\n",
       "\n",
       "    .dataframe thead th {\n",
       "        text-align: right;\n",
       "    }\n",
       "</style>\n",
       "<table border=\"1\" class=\"dataframe\">\n",
       "  <thead>\n",
       "    <tr style=\"text-align: right;\">\n",
       "      <th></th>\n",
       "      <th>년도</th>\n",
       "      <th>월</th>\n",
       "      <th>일</th>\n",
       "    </tr>\n",
       "  </thead>\n",
       "  <tbody>\n",
       "    <tr>\n",
       "      <th>0</th>\n",
       "      <td>2017</td>\n",
       "      <td>7</td>\n",
       "      <td>13</td>\n",
       "    </tr>\n",
       "    <tr>\n",
       "      <th>1</th>\n",
       "      <td>2017</td>\n",
       "      <td>9</td>\n",
       "      <td>1</td>\n",
       "    </tr>\n",
       "    <tr>\n",
       "      <th>2</th>\n",
       "      <td>2017</td>\n",
       "      <td>11</td>\n",
       "      <td>24</td>\n",
       "    </tr>\n",
       "    <tr>\n",
       "      <th>3</th>\n",
       "      <td>2018</td>\n",
       "      <td>3</td>\n",
       "      <td>24</td>\n",
       "    </tr>\n",
       "    <tr>\n",
       "      <th>4</th>\n",
       "      <td>2018</td>\n",
       "      <td>7</td>\n",
       "      <td>28</td>\n",
       "    </tr>\n",
       "    <tr>\n",
       "      <th>...</th>\n",
       "      <td>...</td>\n",
       "      <td>...</td>\n",
       "      <td>...</td>\n",
       "    </tr>\n",
       "    <tr>\n",
       "      <th>838</th>\n",
       "      <td>2019</td>\n",
       "      <td>11</td>\n",
       "      <td>15</td>\n",
       "    </tr>\n",
       "    <tr>\n",
       "      <th>839</th>\n",
       "      <td>2019</td>\n",
       "      <td>11</td>\n",
       "      <td>7</td>\n",
       "    </tr>\n",
       "    <tr>\n",
       "      <th>840</th>\n",
       "      <td>2019</td>\n",
       "      <td>11</td>\n",
       "      <td>15</td>\n",
       "    </tr>\n",
       "    <tr>\n",
       "      <th>841</th>\n",
       "      <td>2019</td>\n",
       "      <td>12</td>\n",
       "      <td>10</td>\n",
       "    </tr>\n",
       "    <tr>\n",
       "      <th>842</th>\n",
       "      <td>2019</td>\n",
       "      <td>12</td>\n",
       "      <td>29</td>\n",
       "    </tr>\n",
       "  </tbody>\n",
       "</table>\n",
       "<p>843 rows × 3 columns</p>\n",
       "</div>"
      ],
      "text/plain": [
       "       년도   월   일\n",
       "0    2017   7  13\n",
       "1    2017   9   1\n",
       "2    2017  11  24\n",
       "3    2018   3  24\n",
       "4    2018   7  28\n",
       "..    ...  ..  ..\n",
       "838  2019  11  15\n",
       "839  2019  11   7\n",
       "840  2019  11  15\n",
       "841  2019  12  10\n",
       "842  2019  12  29\n",
       "\n",
       "[843 rows x 3 columns]"
      ]
     },
     "execution_count": 24,
     "metadata": {},
     "output_type": "execute_result"
    }
   ],
   "source": [
    "df[['년도','월','일']]"
   ]
  },
  {
   "cell_type": "markdown",
   "id": "b111f7cf",
   "metadata": {},
   "source": [
    "# 셀레니움"
   ]
  },
  {
   "cell_type": "code",
   "execution_count": 4,
   "id": "14e6d703",
   "metadata": {},
   "outputs": [],
   "source": [
    "# 필요 라이브러리 import\n",
    "\n",
    "from bs4 import BeautifulSoup\n",
    "import requests\n",
    "import pandas as pd\n",
    "import datetime\n",
    "from selenium import webdriver\n",
    "import time"
   ]
  },
  {
   "cell_type": "code",
   "execution_count": 6,
   "id": "598a3c2c",
   "metadata": {},
   "outputs": [],
   "source": [
    "# chromedriver를 이용하여 셀레니움 동작\n",
    "path = 'chromedriver.exe'\n",
    "driver = webdriver.Chrome(path)"
   ]
  },
  {
   "cell_type": "code",
   "execution_count": 7,
   "id": "a0725067",
   "metadata": {},
   "outputs": [],
   "source": [
    "# url\n",
    "url = 'https://data.kma.go.kr/data/grnd/selectAsosRltmList.do?pgmNo=36'\n",
    "driver.get(url)"
   ]
  },
  {
   "cell_type": "code",
   "execution_count": null,
   "id": "a2b6522c",
   "metadata": {},
   "outputs": [],
   "source": [
    "trans11tnn= driver.find_element_by_css_selector('#Year')\n",
    "trans11tnn.click()\n",
    "\n",
    "\n",
    "trans12tnn= driver.find_element_by_css_selector('#Year > option:nth-child(4)')\n",
    "trans12tnn.click()\n",
    "\n",
    "\n",
    "transbtnn = driver.find_element_by_css_selector('#sido')\n",
    "transbtnn.click()\n",
    "\n",
    "trans2 = driver.find_element_by_css_selector('#sido > option:nth-child(2)')\n",
    "trans2.click()\n",
    "\n",
    "trans3 = driver.find_element_by_css_selector('#content > div.cont_box > div.filterForm.h_md > div.btn_wrap > a')\n",
    "trans3.click()\n",
    "time.sleep(30)\n",
    "\n",
    "pass_number=0\n",
    "\n",
    "\n",
    "\n",
    "\n",
    "for i in range(2,1000):\n",
    "    \n",
    "    \n",
    "    try:\n",
    "        \n",
    "        \n",
    "\n",
    "        \n",
    "        #rMateH5__Content69 > div:nth-child(36) > span > img\n",
    "        \n",
    "        trans4 = driver.find_element_by_xpath('//*[@id=\"rMateH5__Content69\"]/div[%d]/span/img'%i)\n",
    "        trans4.click()\n",
    "        \n",
    "        \n",
    "        time.sleep(1)\n",
    "        \n",
    "        # 최근 열린 탭으로 전환\n",
    "        driver.switch_to.window(driver.window_handles[-1])\n",
    "\n",
    "        \n",
    "        # 로딩 기다리기\n",
    "        trans5 = driver.find_element_by_css_selector('#tabId03 > a')\n",
    "        trans5.click()\n",
    "        time.sleep(13)\n",
    "        trans6 = driver.find_element_by_css_selector('#new_popup > div.pop_cont > div.btn_box > a.btn.exbtn')\n",
    "        trans6.click()\n",
    "        \n",
    "        time.sleep(2)\n",
    "        \n",
    "        driver.switch_to.window(driver.window_handles[0])\n",
    "        \n",
    "        print('')\n",
    "        #rMateH5__Content69 > span:nth-child(11)\n",
    "        \n",
    "    \n",
    "        #new_popup > div.pop_cont > div.btn_box > a.btn.exbtn\n",
    "        \n",
    "    except:\n",
    "        pass_number+=1\n",
    "        print(pass_number)\n",
    "\n",
    "print('총 add 값은 {}입니다.'.format(pass_number))"
   ]
  }
 ],
 "metadata": {
  "kernelspec": {
   "display_name": "Python 3 (ipykernel)",
   "language": "python",
   "name": "python3"
  },
  "language_info": {
   "codemirror_mode": {
    "name": "ipython",
    "version": 3
   },
   "file_extension": ".py",
   "mimetype": "text/x-python",
   "name": "python",
   "nbconvert_exporter": "python",
   "pygments_lexer": "ipython3",
   "version": "3.8.11"
  }
 },
 "nbformat": 4,
 "nbformat_minor": 5
}
