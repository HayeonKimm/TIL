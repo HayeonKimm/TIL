{
 "cells": [
  {
   "cell_type": "markdown",
   "id": "fc9f015b",
   "metadata": {},
   "source": [
    "# 구글 API"
   ]
  },
  {
   "cell_type": "code",
   "execution_count": 68,
   "id": "33bd0a8b",
   "metadata": {},
   "outputs": [],
   "source": [
    "import urllib\n",
    "import json\n",
    "import requests\n",
    "import pprint\n",
    "\n",
    "\n",
    "\n",
    "key = '-------------' ############# key 발급"
   ]
  },
  {
   "cell_type": "code",
   "execution_count": 165,
   "id": "1c8b3ee3",
   "metadata": {},
   "outputs": [],
   "source": [
    "name_list=('휘경센트레빌 사거리(101동 북서)','회기역 앞 교차로','화양사거리','화랑대사거리(공릉2치안센터)','화곡역 앞 사거리','화곡로입구(광명여고 부근)','화곡4동우체국 사거리',\n",
    "'홍제초 사거리','홍제역 삼거리','홍제역 3번출구 ','홍제삼거리',\n",
    "'홍제3동주민센터 부근','홍익병원','홍은사거리','홍연2교 ')"
   ]
  },
  {
   "cell_type": "code",
   "execution_count": 163,
   "id": "e0e98e6b",
   "metadata": {},
   "outputs": [
    {
     "data": {
      "text/plain": [
       "('휘경센트레빌 사거리(101동 북서)',\n",
       " '회기역 앞 교차로',\n",
       " '화양사거리',\n",
       " '화랑대사거리(공릉2치안센터)',\n",
       " '화곡역 앞 사거리',\n",
       " '화곡로입구(광명여고 부근)',\n",
       " '화곡4동우체국 사거리(동쪽)',\n",
       " '홍제초 사거리',\n",
       " '홍제역 삼거리',\n",
       " '홍제역 3번출구 앞 삼거리',\n",
       " '홍제삼거리',\n",
       " '홍제3동주민센터 부근',\n",
       " '홍익병원 앞 사거리',\n",
       " '홍은사거리',\n",
       " '홍연2교 북단 교차로')"
      ]
     },
     "execution_count": 163,
     "metadata": {},
     "output_type": "execute_result"
    }
   ],
   "source": [
    "name_list"
   ]
  },
  {
   "cell_type": "code",
   "execution_count": 150,
   "id": "894955cd",
   "metadata": {},
   "outputs": [],
   "source": [
    "# names = df['상권_코드_명'].unique()\n",
    "# names"
   ]
  },
  {
   "cell_type": "code",
   "execution_count": 91,
   "id": "155f6fae",
   "metadata": {},
   "outputs": [],
   "source": [
    "name_list= '홍연2교 북단 교차로','서울시 홍익대학교'"
   ]
  },
  {
   "cell_type": "code",
   "execution_count": 138,
   "id": "d91fe3c8",
   "metadata": {},
   "outputs": [],
   "source": [
    "import googlemaps\n",
    "from datetime import datetime\n",
    "\n",
    "def getLoc(addr):    \n",
    "    gmaps = googlemaps.Client(key='-----------')  \n",
    "    geocode_result = gmaps.geocode(addr)   \n",
    "    n_lat = geocode_result[0]['geometry']['location']['lat']\n",
    "    n_lng = geocode_result[0]['geometry']['location']['lng']\n",
    "    loc = {'lat':n_lat, 'lng':n_lng}\n",
    "    return loc"
   ]
  },
  {
   "cell_type": "code",
   "execution_count": 1,
   "id": "e0584e3d",
   "metadata": {},
   "outputs": [],
   "source": [
    "# getLoc(i)['lat']>36.00"
   ]
  },
  {
   "cell_type": "code",
   "execution_count": 166,
   "id": "3f010353",
   "metadata": {},
   "outputs": [
    {
     "name": "stdout",
     "output_type": "stream",
     "text": [
      "{'lat': 37.5910458, 'lng': 127.0684105}\n",
      "{'lat': 37.58993, 'lng': 127.0575}\n",
      "{'lat': 37.5483164, 'lng': 127.0674613}\n",
      "{'lat': 37.6225855, 'lng': 127.086624}\n",
      "{'lat': 37.5416187, 'lng': 126.8403726}\n",
      "{'lat': 37.4693147, 'lng': 126.8770946}\n",
      "{'lat': 37.5323703, 'lng': 126.8625095}\n",
      "{'lat': 37.59243, 'lng': 126.941289}\n",
      "{'lat': 37.5858869, 'lng': 126.9466493}\n",
      "{'lat': 37.58815, 'lng': 126.94466}\n",
      "{'lat': 37.5858869, 'lng': 126.9466493}\n",
      "{'lat': 37.5937254, 'lng': 126.9497493}\n",
      "{'lat': 37.5284349, 'lng': 126.8636189}\n",
      "{'lat': 37.5913922, 'lng': 126.9414446}\n",
      "{'lat': 37.5778104, 'lng': 126.9308627}\n"
     ]
    }
   ],
   "source": [
    "for i in name_list:\n",
    "    \n",
    "    if getLoc(i)['lat']>1==True:\n",
    "        \n",
    "        print(getLoc(i))\n",
    "        \n",
    "    else:\n",
    "        pass"
   ]
  },
  {
   "cell_type": "code",
   "execution_count": 44,
   "id": "9f5c3be8",
   "metadata": {},
   "outputs": [
    {
     "data": {
      "text/plain": [
       "[{'address_components': [{'long_name': '８７',\n",
       "    'short_name': '８７',\n",
       "    'types': ['premise']},\n",
       "   {'long_name': '포은로',\n",
       "    'short_name': '포은로',\n",
       "    'types': ['political', 'sublocality', 'sublocality_level_4']},\n",
       "   {'long_name': '마포구',\n",
       "    'short_name': '마포구',\n",
       "    'types': ['political', 'sublocality', 'sublocality_level_2']},\n",
       "   {'long_name': '마포구',\n",
       "    'short_name': '마포구',\n",
       "    'types': ['political', 'sublocality', 'sublocality_level_1']},\n",
       "   {'long_name': '서울특별시',\n",
       "    'short_name': '서울특별시',\n",
       "    'types': ['administrative_area_level_1', 'political']},\n",
       "   {'long_name': '대한민국',\n",
       "    'short_name': 'KR',\n",
       "    'types': ['country', 'political']},\n",
       "   {'long_name': '04015', 'short_name': '04015', 'types': ['postal_code']}],\n",
       "  'formatted_address': '대한민국 서울특별시 마포구 포은로 87',\n",
       "  'geometry': {'location': {'lat': 37.5547782, 'lng': 126.905092},\n",
       "   'location_type': 'ROOFTOP',\n",
       "   'viewport': {'northeast': {'lat': 37.5561271802915,\n",
       "     'lng': 126.9064409802915},\n",
       "    'southwest': {'lat': 37.55342921970851, 'lng': 126.9037430197085}}},\n",
       "  'partial_match': True,\n",
       "  'place_id': 'ChIJNQM5JCqZfDURslIpjO-l_-8',\n",
       "  'plus_code': {'compound_code': 'HW34+W2 대한민국 서울특별시',\n",
       "   'global_code': '8Q98HW34+W2'},\n",
       "  'types': ['cafe', 'establishment', 'food', 'point_of_interest']}]"
      ]
     },
     "execution_count": 44,
     "metadata": {},
     "output_type": "execute_result"
    }
   ],
   "source": [
    "import googlemaps\n",
    "\n",
    "\n",
    "gmaps_key = '-------------'  # API설정할 때 얻은 key\n",
    "gmaps = googlemaps.Client(key=gmaps_key)\n",
    "\n",
    "gmaps.geocode('망원동 티라미슈', language='ko')\n"
   ]
  },
  {
   "cell_type": "markdown",
   "id": "9cab6192",
   "metadata": {},
   "source": [
    "## 쓰지 않았지만 여러 변형 종류"
   ]
  },
  {
   "cell_type": "code",
   "execution_count": 167,
   "id": "d9753387",
   "metadata": {},
   "outputs": [],
   "source": [
    "url= 'https://maps.googleapis.com/maps/api/place/findplacefromtext'"
   ]
  },
  {
   "cell_type": "code",
   "execution_count": 168,
   "id": "b4055550",
   "metadata": {},
   "outputs": [],
   "source": [
    "def request_json(url):\n",
    "    response = requests.get(url)\n",
    "    response_json = json.loads(response.text)\n",
    "    return response_json\n",
    "\n",
    "def search(query):\n",
    "    search_url = f'https://maps.googleapis.com/maps/api/place/findplacefromtext/json?input={query}&inputtype=textquery&key={key}'\n",
    "    places_json = request_json(search_url)\n",
    "    places = places_json['candidates']\n",
    "    \n",
    "    if len(places) == 0:\n",
    "        return\n",
    "    \n",
    "    place_id = places[0]['place_id']\n",
    "    detail_url = f'https://maps.googleapis.com/maps/api/place/details/json?place_id={place_id}&key={key}&language=ko'\n",
    "    response_json = request_json(detail_url)\n",
    "    \n",
    "    result = response_json['result']\n",
    "    geometry = result['geometry']\n",
    "    location = geometry['location']\n",
    "\n",
    "    lat = location['lat']\n",
    "    lng = location['lng']\n",
    "        \n",
    "    gu = None\n",
    "    address_components = result['address_components']\n",
    "    for component in address_components:\n",
    "        if 'sublocality_level_1' in component['types']:\n",
    "            gu = component['long_name']\n",
    "\n",
    "    return lat, lng, gu"
   ]
  },
  {
   "cell_type": "code",
   "execution_count": 2,
   "id": "6be829d3",
   "metadata": {},
   "outputs": [],
   "source": [
    "# res = search('홍대 설빙')\n",
    "# res"
   ]
  },
  {
   "cell_type": "code",
   "execution_count": null,
   "id": "c68282fd",
   "metadata": {},
   "outputs": [],
   "source": [
    "휘경센트레빌 사거리(101동 북서)\n",
    "회기역 앞 교차로(1번출구)\n",
    "화양사거리\n",
    "화랑대사거리(공릉2치안센터)\n",
    "화곡역 앞 사거리\n",
    "화곡로입구(광명여고 부근)\n",
    "화곡4동우체국 사거리(동쪽)\n",
    "홍제초 사거리(남서)\n",
    "홍제초 사거리(남서)\n",
    "홍제역 삼거리(4번출구)\n",
    "홍제역 3번출구 앞 삼거리\n",
    "홍제역 3번출구 앞 삼거리\n",
    "홍제삼거리(한신휴플러스)\n",
    "홍제3동주민센터 부근(동쪽)\n",
    "홍익병원 앞 사거리\n",
    "홍은사거리(서대문도시관리공단)\n",
    "홍은사거리(서대문도시관리공단)\n",
    "홍연2교 북단 교차로\n",
    "홍대입구역(2번출구)\n",
    "홍대입구역(1번출구)\n",
    "홍남교교차로\n",
    "홈플러스 앞 사거리(방학점)\n",
    "홈플러스 삼거리(시흥점 남동)\n",
    "호정타워아파트 삼거리(서쪽)\n",
    "호남선터미널 앞 사거리\n",
    "호남선터미널 앞 사거리\n",
    "혜화동로터리(가톨릭대)\n",
    "혜화동로터리(가톨릭대)\n",
    "혜민병원 남쪽 삼거리\n",
    "현대지식산업센터삼거리(남쪽)\n",
    "현대지식산업센터삼거리(남쪽)\n",
    "현대안성타워아파트(동쪽)\n",
    "현대시장입구교차로\n",
    "현대백화점 앞(무역센터점 남서)\n",
    "현대백화점 신촌점 앞\n",
    "현대리버티하우스(서쪽)\n",
    "현대리버티하우스(서쪽)\n",
    "현대그린아파트 사거리(서쪽)\n",
    "현대그린아파트 사거리(서쪽)\n",
    "현대그린아파트 사거리(서쪽)\n",
    "현대그린아파트 사거리(서쪽)\n",
    "현대2차 사거리(112동 동쪽)\n",
    "현대(74-30번지)아파트 (1동) 앞\n",
    "헤스티아 앞 사거리\n",
    "항목그라비스아파트(북서)\n",
    "합정역사거리(8번출구)\n",
    "합정역사거리(8번출구)\n",
    "합정역사거리(8번출구)\n",
    "한일유앤아이앞교차로\n",
    "한양수자인아파트(101동 북서)\n",
    "한신휴아파트 사거리(105동)\n",
    "한성대입구역 사거리\n",
    "한남동 551번지 앞 삼거리\n",
    "한국은행앞사거리(소공별관)\n",
    "한국외국어대 앞 사거리\n",
    "한강대교 북단 교차로\n",
    "한강대교 북단 교차로\n",
    "한강대교 남단 사거리\n",
    "한강대교 남단 사거리\n",
    "한강대교 남단 사거리\n",
    "학여울역 사거리\n",
    "학동역사거리\n",
    "학동사거리\n",
    "하왕십리치안센터 앞 사거리\n",
    "하왕십리치안센터 앞 사거리\n",
    "하나저축은행 강남지점(남쪽)\n",
    "하계역 사거리\n",
    "하계역 사거리\n",
    "하계6단지 사거리(601동)\n",
    "플라자호텔 앞 사거리\n",
    "포스코사거리\n",
    "트윈트리타워 앞(경복궁)\n",
    "트럭터미널앞교차로\n",
    "트럭터미널앞교차로\n",
    "트럭터미널앞교차로\n",
    "트럭터미널 앞 사거리\n",
    "트럭터미널 앞 사거리\n",
    "태영아파트 삼거리(105동)\n",
    "태릉입구역 사거리(7호선)\n",
    "태릉입구역 사거리(7호선)\n",
    "총신대입구역사거리(7호선)\n",
    "총신대입구역사거리(7호선)\n",
    "청암인터그린타워 앞 삼거리\n",
    "청소년수련관 사거리(남서)\n",
    "청소년수련관 사거리(남서)\n",
    "청소년수련관 사거리(남서)\n",
    "청량리역 부근 삼거리(서쪽)\n",
    "청량리역 교차로\n",
    "청량리역 교차로\n",
    "청량리역 교차로\n",
    "청량리역 교차로\n",
    "청량리동주민센터 부근\n",
    "청담사거리\n",
    "청담사거리\n",
    "청년창업플러스센터 앞 사거리\n",
    "청년창업플러스센터 앞 사거리\n",
    "청구성심병원 앞 삼거리\n",
    "청과시장입구(영등포역)\n",
    "청계9가교차로(청계벽산아파트)\n",
    "청계6가 앞(흥인시장)\n",
    "청계4가교차로\n",
    "천호역 삼거리(2번출구 북쪽)\n",
    "천호신사거리(현대백화점천호점)\n",
    "천호신사거리(현대백화점천호점)\n",
    "천호시장 사거리(남쪽)\n",
    "천호시장 사거리(남쪽)\n",
    "천호사거리(천호역 앞)\n",
    "천호사거리(천호역 앞)\n",
    "천호동공원 사거리(북서)\n",
    "천동초 입구 사거리\n",
    "창신1동주민센터(남쪽)\n",
    "창동중 사거리(남서)\n",
    "창동시장입구(강북힘찬병원)\n",
    "창동교 동단 사거리\n",
    "창동교 동단 사거리\n",
    "창4동사거리(창4동주민센터)\n",
    "차병원 사거리\n",
    "차관아파트 사거리(경기고 남서)\n",
    "차관아파트 사거리\n",
    "질병관리본부 부근 사거리\n",
    "질병관리본부 부근 사거리\n",
    "증산3교 서단 사거리\n",
    "중화중 삼거리(북쪽)\n",
    "중화역 삼거리(4번출구)\n",
    "중화역 사거리(2번출구)"
   ]
  }
 ],
 "metadata": {
  "kernelspec": {
   "display_name": "Python 3 (ipykernel)",
   "language": "python",
   "name": "python3"
  },
  "language_info": {
   "codemirror_mode": {
    "name": "ipython",
    "version": 3
   },
   "file_extension": ".py",
   "mimetype": "text/x-python",
   "name": "python",
   "nbconvert_exporter": "python",
   "pygments_lexer": "ipython3",
   "version": "3.8.11"
  }
 },
 "nbformat": 4,
 "nbformat_minor": 5
}
