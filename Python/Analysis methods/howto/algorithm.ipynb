{
 "cells": [
  {
   "cell_type": "markdown",
   "id": "08f369f5",
   "metadata": {},
   "source": [
    "# 알고리즘 노트\n",
    "\n",
    "2021-08-17 작성시작\n",
    "\n",
    "- 코드업"
   ]
  },
  {
   "cell_type": "code",
   "execution_count": 1,
   "id": "f91773bf",
   "metadata": {},
   "outputs": [
    {
     "name": "stdout",
     "output_type": "stream",
     "text": [
      "4 4 5 6\n",
      "5801\n"
     ]
    }
   ],
   "source": [
    "a,m,d,n = map(int,input().split())\n",
    "\n",
    "\n",
    "\n",
    "for i in range(1,n):\n",
    "    \n",
    "    a=a*m+d\n",
    "\n",
    "print(a)\n",
    "    \n",
    "    "
   ]
  },
  {
   "cell_type": "code",
   "execution_count": null,
   "id": "6d39eb29",
   "metadata": {},
   "outputs": [],
   "source": []
  }
 ],
 "metadata": {
  "kernelspec": {
   "display_name": "Python 3",
   "language": "python",
   "name": "python3"
  },
  "language_info": {
   "codemirror_mode": {
    "name": "ipython",
    "version": 3
   },
   "file_extension": ".py",
   "mimetype": "text/x-python",
   "name": "python",
   "nbconvert_exporter": "python",
   "pygments_lexer": "ipython3",
   "version": "3.8.10"
  }
 },
 "nbformat": 4,
 "nbformat_minor": 5
}
