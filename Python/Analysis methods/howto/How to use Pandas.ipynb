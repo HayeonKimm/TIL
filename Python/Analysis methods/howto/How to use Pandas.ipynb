{
 "cells": [
  {
   "cell_type": "markdown",
   "id": "0adc239d",
   "metadata": {},
   "source": [
    "# How to use Pandas\n",
    "\n",
    "update 210715 ~"
   ]
  },
  {
   "cell_type": "markdown",
   "id": "393b4236",
   "metadata": {},
   "source": [
    "------------------"
   ]
  },
  {
   "cell_type": "markdown",
   "id": "c2da71f6",
   "metadata": {},
   "source": [
    "## Base & Theme"
   ]
  },
  {
   "cell_type": "code",
   "execution_count": null,
   "id": "50c0e247",
   "metadata": {},
   "outputs": [],
   "source": [
    "import pandas as pd\n",
    "import seaborn as sns\n",
    "import matplotlib as mp\n",
    "import matplotlib.pyplot as plt\n",
    "# plt.rcParams['font.family'] = 'NanumGothic'\n",
    "plt.rcParams['font.family']='Malgun Gothic'  # Windows\n",
    "plt.style.use(\"seaborn-pastel\")"
   ]
  },
  {
   "cell_type": "markdown",
   "id": "803b25b9",
   "metadata": {},
   "source": [
    "## pastel & palette"
   ]
  },
  {
   "cell_type": "code",
   "execution_count": null,
   "id": "cc8541f3",
   "metadata": {},
   "outputs": [],
   "source": [
    "plt.style.use(\"fivethirtyeight\")\n",
    "\n",
    "\n",
    "sns.lineplot(x=\"년도\", y=\"사망자수\",hue='구', data=df_yang, estimator=sum, palette='Spectral')\n",
    "sns.lineplot(x=\"년도\", y=\"사망자수\",hue='구', data=df_yang, estimator=sum, palette='viridis')"
   ]
  },
  {
   "cell_type": "markdown",
   "id": "4dd0dec7",
   "metadata": {},
   "source": [
    "## csv import"
   ]
  },
  {
   "cell_type": "code",
   "execution_count": null,
   "id": "61e12904",
   "metadata": {},
   "outputs": [],
   "source": [
    "df=pd.read_csv(\"제주특별자치도_제주도장소(POI)데이터_20151231.csv\",encoding='cp949',low_memory=False)"
   ]
  },
  {
   "cell_type": "markdown",
   "id": "2f89f247",
   "metadata": {
    "ExecuteTime": {
     "end_time": "2021-07-15T14:01:36.807922Z",
     "start_time": "2021-07-15T14:01:36.794931Z"
    }
   },
   "source": [
    "## csv save"
   ]
  },
  {
   "cell_type": "code",
   "execution_count": null,
   "id": "446add63",
   "metadata": {},
   "outputs": [],
   "source": [
    "df.to_csv('jeoncheori_ver_poi.csv',index=False,encoding='cp949')"
   ]
  },
  {
   "cell_type": "markdown",
   "id": "24833d9e",
   "metadata": {},
   "source": [
    "## data shape"
   ]
  },
  {
   "cell_type": "code",
   "execution_count": null,
   "id": "089400a9",
   "metadata": {},
   "outputs": [],
   "source": [
    "df.shape"
   ]
  },
  {
   "cell_type": "markdown",
   "id": "327b0c11",
   "metadata": {},
   "source": [
    "## data sample"
   ]
  },
  {
   "cell_type": "code",
   "execution_count": null,
   "id": "d3994943",
   "metadata": {},
   "outputs": [],
   "source": [
    "df.sample()"
   ]
  },
  {
   "cell_type": "markdown",
   "id": "2a6e8620",
   "metadata": {},
   "source": [
    "## making dataframe by '장소명' "
   ]
  },
  {
   "cell_type": "code",
   "execution_count": null,
   "id": "83c88023",
   "metadata": {},
   "outputs": [],
   "source": [
    "df[df['장소명']=='5'].head()"
   ]
  },
  {
   "cell_type": "markdown",
   "id": "b1c645b7",
   "metadata": {},
   "source": [
    "## making dataframe   "
   ]
  },
  {
   "cell_type": "code",
   "execution_count": null,
   "id": "d956998c",
   "metadata": {},
   "outputs": [],
   "source": [
    "name_list = ['박명수','유재석','노홍철','길','정준하']\n",
    "math_list =[65,95,70,80]\n",
    "english_list=[75,69,29,52,92,92]\n",
    "exam = pd.DataFrame({\"name\":name_list, \"math\":math_list, \"english\":english_list})\n",
    "exam"
   ]
  },
  {
   "cell_type": "markdown",
   "id": "cc6ed058",
   "metadata": {},
   "source": [
    "## by '장소명' == 5 and  '구분'== '레져/스포츠'"
   ]
  },
  {
   "cell_type": "code",
   "execution_count": null,
   "id": "8a54416a",
   "metadata": {},
   "outputs": [],
   "source": [
    "df[(df['장소명']=='5')&(df['구분']=='레져/스포츠')]"
   ]
  },
  {
   "cell_type": "markdown",
   "id": "da920b95",
   "metadata": {},
   "source": [
    "## '점포수' in '상권명'== '잠실 관광특구'"
   ]
  },
  {
   "cell_type": "code",
   "execution_count": null,
   "id": "3ea18f7a",
   "metadata": {},
   "outputs": [],
   "source": [
    "df[df['상권명']=='잠실 관광특구']['점포수']"
   ]
  },
  {
   "cell_type": "markdown",
   "id": "b1923b05",
   "metadata": {},
   "source": [
    "## Remove duplicate values ​​and create a list"
   ]
  },
  {
   "cell_type": "code",
   "execution_count": null,
   "id": "a3bb1310",
   "metadata": {},
   "outputs": [],
   "source": [
    "df[df['구분']=='레져/스포츠']['장소명'].unique().tolist()"
   ]
  },
  {
   "cell_type": "markdown",
   "id": "3f9fad3c",
   "metadata": {},
   "source": [
    "## number range"
   ]
  },
  {
   "cell_type": "code",
   "execution_count": null,
   "id": "cdd64ca9",
   "metadata": {},
   "outputs": [],
   "source": [
    "df['value'].between(10,50)"
   ]
  },
  {
   "cell_type": "markdown",
   "id": "5787ea02",
   "metadata": {},
   "source": [
    "## Sum Missing Values"
   ]
  },
  {
   "cell_type": "code",
   "execution_count": null,
   "id": "ce2412bb",
   "metadata": {},
   "outputs": [],
   "source": [
    "df.isnull().sum()"
   ]
  },
  {
   "cell_type": "markdown",
   "id": "cfaa61d0",
   "metadata": {},
   "source": [
    "## Sort numerical values ​​in order"
   ]
  },
  {
   "cell_type": "code",
   "execution_count": null,
   "id": "18f2e3f3",
   "metadata": {},
   "outputs": [],
   "source": [
    "df['구분'].sort_values().value_counts()"
   ]
  },
  {
   "cell_type": "markdown",
   "id": "7530ec49",
   "metadata": {},
   "source": [
    "## Resizing the graph"
   ]
  },
  {
   "cell_type": "code",
   "execution_count": null,
   "id": "5e82bf5e",
   "metadata": {},
   "outputs": [],
   "source": [
    "plt.figure(figsize=(10,10))"
   ]
  },
  {
   "cell_type": "markdown",
   "id": "0eead972",
   "metadata": {},
   "source": [
    "## pivot table"
   ]
  },
  {
   "cell_type": "code",
   "execution_count": null,
   "id": "a63c81bd",
   "metadata": {},
   "outputs": [],
   "source": [
    "pd.pivot_table(df, index = ['계정코드','계정과목'], values = '차변금액', aggfunc = 'sum')"
   ]
  },
  {
   "cell_type": "markdown",
   "id": "e43f2b30",
   "metadata": {},
   "source": [
    "## 다음 행에서 이전 행값 빼기shift"
   ]
  },
  {
   "cell_type": "code",
   "execution_count": null,
   "id": "0d2221a7",
   "metadata": {},
   "outputs": [],
   "source": [
    "df['FF3']=df['stopFlag'] -df['stopFlag'].shift(1)"
   ]
  },
  {
   "cell_type": "markdown",
   "id": "550ed05d",
   "metadata": {},
   "source": [
    "## Conditional expression"
   ]
  },
  {
   "cell_type": "code",
   "execution_count": null,
   "id": "d1f8f8b9",
   "metadata": {},
   "outputs": [],
   "source": [
    "titanic_df[(titanic_df['Age']>30) & (titanic_df['Age']<=50)]"
   ]
  },
  {
   "cell_type": "code",
   "execution_count": null,
   "id": "01cc229a",
   "metadata": {},
   "outputs": [],
   "source": [
    "df[\"FF4\"] = np.where( (df[\"FF3\"] == -1) | (df[\"FF3\"]==1) , \"change\" ,\"none\")"
   ]
  },
  {
   "cell_type": "code",
   "execution_count": null,
   "id": "c27c2a05",
   "metadata": {},
   "outputs": [],
   "source": [
    "# lambda\n",
    "df['new'] = df['FF3'].apply(lambda x: 'Start' if x==-1 else('Stop' if x==1 else 'Running'))"
   ]
  },
  {
   "cell_type": "markdown",
   "id": "db71fdd1",
   "metadata": {},
   "source": [
    "# 칼럼 공백제거"
   ]
  },
  {
   "cell_type": "code",
   "execution_count": null,
   "id": "d9f3724c",
   "metadata": {},
   "outputs": [],
   "source": [
    "df['ColumnName'].str.strip()"
   ]
  },
  {
   "cell_type": "markdown",
   "id": "18d89011",
   "metadata": {},
   "source": [
    "# 칼럼 전체보기"
   ]
  },
  {
   "cell_type": "code",
   "execution_count": null,
   "id": "68964655",
   "metadata": {},
   "outputs": [],
   "source": [
    "pd.set_option('display.max_columns', None) "
   ]
  },
  {
   "cell_type": "markdown",
   "id": "952c668b",
   "metadata": {},
   "source": [
    "## Grouping and Summing"
   ]
  },
  {
   "cell_type": "code",
   "execution_count": null,
   "id": "e1797e40",
   "metadata": {},
   "outputs": [],
   "source": [
    "df.groupby('상권명').sum()"
   ]
  },
  {
   "cell_type": "markdown",
   "id": "1aa5dfee",
   "metadata": {},
   "source": [
    "## ValueError:Cannot mask with non-boolean array containing Na/Nan values"
   ]
  },
  {
   "cell_type": "code",
   "execution_count": null,
   "id": "795d53a6",
   "metadata": {},
   "outputs": [],
   "source": [
    "df['주소'].str.contains('서울','na=False')"
   ]
  },
  {
   "cell_type": "markdown",
   "id": "306e3984",
   "metadata": {},
   "source": [
    "## count_values -> DataFrame"
   ]
  },
  {
   "cell_type": "code",
   "execution_count": null,
   "id": "2b34e602",
   "metadata": {},
   "outputs": [],
   "source": [
    "df_j_1 = pd.DataFrame({'장소명': co_value.index, 'Values': co_value.values})\n",
    "\n",
    "plt.figure(figsize=(10,6))\n",
    "sns.barplot(x= \"장소명\",y='Values', data=df_j_1.head(10), palette=\"bright\")"
   ]
  },
  {
   "cell_type": "markdown",
   "id": "436c804d",
   "metadata": {},
   "source": [
    "## 중복된 칼럼 제거 "
   ]
  },
  {
   "cell_type": "code",
   "execution_count": null,
   "id": "e3e29c99",
   "metadata": {},
   "outputs": [],
   "source": [
    "df_acci=df_jo_.drop_duplicates(['지점명','위도','경도'], keep='first')"
   ]
  },
  {
   "cell_type": "markdown",
   "id": "7f14f410",
   "metadata": {},
   "source": [
    "## 조건식"
   ]
  },
  {
   "cell_type": "code",
   "execution_count": null,
   "id": "7353ee43",
   "metadata": {},
   "outputs": [],
   "source": [
    "df2['Age_gr'] = np.where(df2.Age<20,'10',\n",
    "                         np.where(df2.Age<30,'20',\n",
    "                         np.where(df2.Age<40,'30',\n",
    "                         np.where(df2.Age<50,'40',\n",
    "                         np.where(df2.Age<60,'50','60'"
   ]
  },
  {
   "cell_type": "markdown",
   "id": "30fa6f4d",
   "metadata": {},
   "source": [
    "## 회귀계수 구하기"
   ]
  },
  {
   "cell_type": "code",
   "execution_count": null,
   "id": "16fbc91b",
   "metadata": {},
   "outputs": [],
   "source": [
    "# df1=df1.dropna()\n",
    "\n",
    "from sklearn.linear_model import LinearRegression\n",
    "\n",
    "\n",
    "x_var = ['TV','Radio','Social_Media']\n",
    "\n",
    "\n",
    "lm1 = LinearRegression(fit_intercept=True)\n",
    "lm1.fit(df1[x_var], df1.Sales)\n",
    "\n",
    "dir(lm1)\n",
    "\n",
    "lm1.intercept_\n",
    "lm1.coef_"
   ]
  },
  {
   "cell_type": "markdown",
   "id": "2a6673f1",
   "metadata": {},
   "source": [
    "## 의사결정나무"
   ]
  },
  {
   "cell_type": "code",
   "execution_count": null,
   "id": "02b7158d",
   "metadata": {},
   "outputs": [],
   "source": [
    "from sklearn.tree import DecisionTreeClassifier, plot_tree, export_text\n",
    "\n",
    "\n",
    "dt = DecisionTreeClassifier().fit(df[x_var],df.Drug)\n",
    "dt\n",
    "\n",
    "\n",
    "plot_tree(dt, max_depth=2, feature_names=x_var,\n",
    "          class_names=df.Drug.unique())\n",
    "\n",
    "export_text(dt, feature_names=x_var,decimals=5) # 다섯째 자리까지."
   ]
  },
  {
   "cell_type": "markdown",
   "id": "4cb01b14",
   "metadata": {},
   "source": [
    "## 독립성 검정"
   ]
  },
  {
   "cell_type": "code",
   "execution_count": null,
   "id": "f5d8fde1",
   "metadata": {},
   "outputs": [],
   "source": [
    "# - Sex, BP, Cholesterol, Age_gr, Na_K_gr이 Drug 변수와 영향이 있는지 독립성 검정을\n",
    "# 수행하시오.\n",
    "# - 검정 수행 결과, Drug 타입과 연관성이 있는 변수는 몇 개인가? 연관성이 있는 변수\n",
    "# 가운데 가장 큰 p-value를 찾아 소수점 여섯 번째 자리 이하는 버리고 소수점 다섯\n",
    "# 번째 자리까지 기술하시오."
   ]
  },
  {
   "cell_type": "code",
   "execution_count": null,
   "id": "bbf56a5e",
   "metadata": {},
   "outputs": [],
   "source": [
    "from scipy.stats import chi2_contingency\n",
    "\n",
    "temp =pd.crosstab(index=df_2.Sex, columns=df_2.Drug)\n",
    "temp\n",
    "\n",
    "\n",
    "out = chi2_contingency(temp)[1]\n",
    "out\n",
    "\n",
    "df2.columns\n",
    "var_list=['Sex', 'BP', 'Cholesterol','Age_gr','Na_K_gr']\n",
    "\n",
    "\n",
    "out2=[]\n",
    "for i in var_list:\n",
    "    temp=pd.crosstab(index=df2[i], columns=df2.Drug)\n",
    "    out= chi2_contingency(temp)[1]\n",
    "    out2+=out2+[[i,out]]\n",
    "    \n",
    "out3 = pd.DataFrame(out2, columns=['var','pvalue'])\n",
    "out3.pvalue\n",
    "\n",
    "out4=out3[out3.pvalue <0.05]\n",
    "out4['pvalue'].nlargest(1)"
   ]
  },
  {
   "cell_type": "markdown",
   "id": "d789518a",
   "metadata": {},
   "source": [
    "## 상관계수"
   ]
  },
  {
   "cell_type": "code",
   "execution_count": null,
   "id": "657ebfa1",
   "metadata": {},
   "outputs": [],
   "source": [
    "df1[['TV','Radio','Social_Media','Sales']].corr()"
   ]
  },
  {
   "cell_type": "markdown",
   "id": "86652279",
   "metadata": {},
   "source": [
    "## Frame concat"
   ]
  },
  {
   "cell_type": "code",
   "execution_count": null,
   "id": "54772de5",
   "metadata": {},
   "outputs": [],
   "source": [
    "start = pd.concat([df_0,df_route_st])"
   ]
  },
  {
   "cell_type": "markdown",
   "id": "0da82fdc",
   "metadata": {},
   "source": [
    "## Frame merge"
   ]
  },
  {
   "cell_type": "code",
   "execution_count": null,
   "id": "ab8b0a3b",
   "metadata": {},
   "outputs": [],
   "source": [
    "df_merge = pd.merge(df,df_2, how='left', left_on='sectionId', right_on='section')\n",
    "df_merge"
   ]
  },
  {
   "cell_type": "markdown",
   "id": "1b828942",
   "metadata": {},
   "source": [
    "## 컬럼 기준 정렬"
   ]
  },
  {
   "cell_type": "code",
   "execution_count": null,
   "id": "e1296b64",
   "metadata": {},
   "outputs": [],
   "source": [
    "df_route=df_route.sort_values(by=['arsId'], axis=0)"
   ]
  },
  {
   "cell_type": "markdown",
   "id": "85c2c895",
   "metadata": {},
   "source": [
    "## 로우 인덱스 기준 정렬"
   ]
  },
  {
   "cell_type": "code",
   "execution_count": null,
   "id": "233cf470",
   "metadata": {},
   "outputs": [],
   "source": [
    "s1.sort_index()"
   ]
  },
  {
   "cell_type": "markdown",
   "id": "bdbf64c1",
   "metadata": {},
   "source": [
    "## 내림차순 정렬"
   ]
  },
  {
   "cell_type": "markdown",
   "id": "e85afdcf",
   "metadata": {},
   "source": [
    "df_sort_index(axis=1, ascending=False)"
   ]
  },
  {
   "cell_type": "markdown",
   "id": "e704cd4f",
   "metadata": {},
   "source": [
    "## 결측치 드랍"
   ]
  },
  {
   "cell_type": "code",
   "execution_count": null,
   "id": "34bc9958",
   "metadata": {},
   "outputs": [],
   "source": [
    "# 1\n",
    "df_dop_row = df.dropna(axis=0)"
   ]
  },
  {
   "cell_type": "code",
   "execution_count": null,
   "id": "f38fade1",
   "metadata": {},
   "outputs": [],
   "source": [
    "# 2\n",
    "df=df.dropna(subset=['주소'])"
   ]
  },
  {
   "cell_type": "markdown",
   "id": "33bcd355",
   "metadata": {},
   "source": [
    "## How to remove a column"
   ]
  },
  {
   "cell_type": "code",
   "execution_count": null,
   "id": "967ea4fd",
   "metadata": {},
   "outputs": [],
   "source": [
    "df = df.drop(['기준_분기_코드','상권_구분_코드','기준_년_코드','서비스_업종_코드','기준_년_코드'], axis=1)"
   ]
  },
  {
   "cell_type": "markdown",
   "id": "55c73c75",
   "metadata": {},
   "source": [
    "## column Rename"
   ]
  },
  {
   "cell_type": "code",
   "execution_count": null,
   "id": "6f97541d",
   "metadata": {},
   "outputs": [],
   "source": [
    "df.rename(columns={'Before':'After'})"
   ]
  },
  {
   "cell_type": "markdown",
   "id": "6a3163a4",
   "metadata": {
    "ExecuteTime": {
     "end_time": "2021-07-15T14:06:03.738792Z",
     "start_time": "2021-07-15T14:06:03.733795Z"
    }
   },
   "source": [
    "## Separating Dates"
   ]
  },
  {
   "cell_type": "code",
   "execution_count": null,
   "id": "afb59422",
   "metadata": {},
   "outputs": [],
   "source": [
    "f_2['데이터기준일자'] = pd.to_datetime(df_2['데이터기준일자'], errors='coerce')\n",
    "\n",
    "df_2['year'] = df_2['데이터기준일자'].dt.year #연도\n",
    "df_2['month'] = df_2['데이터기준일자'].dt.month #월\n",
    "df_2['day'] = df_2['데이터기준일자'].dt.day #일\n",
    "df_2['dayofweek'] = df_2['데이터기준일자'].dt.dayofweek #요일 (월 = 0)"
   ]
  },
  {
   "cell_type": "markdown",
   "id": "5e0cdeb0",
   "metadata": {},
   "source": [
    "## sort_values and heading"
   ]
  },
  {
   "cell_type": "code",
   "execution_count": null,
   "id": "0006fc7e",
   "metadata": {},
   "outputs": [],
   "source": [
    "df_sang['분기당_매출_금액'].sort_values(ascending=False).head(15)"
   ]
  },
  {
   "cell_type": "markdown",
   "id": "34d8585c",
   "metadata": {},
   "source": [
    "## Get multiple value from dataframe"
   ]
  },
  {
   "cell_type": "code",
   "execution_count": null,
   "id": "58d41715",
   "metadata": {},
   "outputs": [],
   "source": [
    "df_ildo2=df_ildo[df_ildo['장소명'].str.contains('호텔|모텔|여관')]"
   ]
  },
  {
   "cell_type": "markdown",
   "id": "69d833f5",
   "metadata": {},
   "source": [
    "## Get multiple values at the same time by dataframe"
   ]
  },
  {
   "cell_type": "code",
   "execution_count": null,
   "id": "d55b0cd7",
   "metadata": {},
   "outputs": [],
   "source": [
    "df_sang[['연령대_10_매출_건수','연령대_20_매출_건수','연령대_30_매출_건수','연령대_40_매출_건수','연령대_50_매출_건수']]"
   ]
  },
  {
   "cell_type": "markdown",
   "id": "440c6f71",
   "metadata": {},
   "source": [
    "## how to making dataframe by data"
   ]
  },
  {
   "cell_type": "code",
   "execution_count": null,
   "id": "73e74350",
   "metadata": {},
   "outputs": [],
   "source": [
    "age_sales=pd.Series({'10대':te_sale,'20대':tw_sale,'30대':th_sale,'40대':fo_sale,'50대':fi_sale})\n",
    "age_sales\n"
   ]
  },
  {
   "cell_type": "code",
   "execution_count": null,
   "id": "1e462c61",
   "metadata": {},
   "outputs": [],
   "source": [
    "age_sales2 = { 'Age' : ['10대', '20대', '30대', '40대','50대'], 'Sale':[te_sale,tw_sale,th_sale,fo_sale,fi_sale]}\n",
    "age_sale_df = pd.DataFrame(age_sales2)\n",
    "age_sale_df"
   ]
  },
  {
   "cell_type": "markdown",
   "id": "6f8f0e86",
   "metadata": {},
   "source": [
    "## SNS barplot "
   ]
  },
  {
   "cell_type": "code",
   "execution_count": null,
   "id": "7b9a8028",
   "metadata": {},
   "outputs": [],
   "source": [
    "# way 1\n",
    "\n",
    "plt.figure(figsize=(9,6))\n",
    "sns.barplot(x='Age',y='Sale',data=age_nor)"
   ]
  },
  {
   "cell_type": "code",
   "execution_count": null,
   "id": "337c0acc",
   "metadata": {},
   "outputs": [],
   "source": [
    "plt.figure(figsize=(15,8))\n",
    "sns.barplot(x='서비스업종',y='점포수',data=service_jumpo_head.reset_index())"
   ]
  },
  {
   "cell_type": "code",
   "execution_count": null,
   "id": "a9ff05f9",
   "metadata": {},
   "outputs": [],
   "source": [
    "sns.barplot(x='점포수',y='서비스업종',data=service_jumpo_head.reset_index())\n",
    "\n",
    "# sns.countplot(data=df_seoul, x='시군구명')"
   ]
  },
  {
   "cell_type": "code",
   "execution_count": null,
   "id": "5fb4008e",
   "metadata": {},
   "outputs": [],
   "source": [
    "# density graph\n",
    "df_gu_jum.plot.density(rot=30)"
   ]
  },
  {
   "cell_type": "markdown",
   "id": "9311a90d",
   "metadata": {},
   "source": [
    "## isin\n",
    "\n",
    "### finding '-' str"
   ]
  },
  {
   "cell_type": "code",
   "execution_count": null,
   "id": "6ac8dceb",
   "metadata": {},
   "outputs": [],
   "source": [
    "df=df[~df['장소명'].isin(['-'])]"
   ]
  },
  {
   "cell_type": "markdown",
   "id": "04989984",
   "metadata": {},
   "source": [
    "# map visualization"
   ]
  },
  {
   "cell_type": "code",
   "execution_count": null,
   "id": "ca6ef2cb",
   "metadata": {},
   "outputs": [],
   "source": [
    "# way 1\n",
    "\n",
    "df[['경도','위도','구']].plot.scatter(x='경도',y='위도',figsize=(12,7),grid=True)"
   ]
  },
  {
   "cell_type": "markdown",
   "id": "5618d61e",
   "metadata": {},
   "source": [
    "-------------"
   ]
  },
  {
   "cell_type": "code",
   "execution_count": null,
   "id": "149c048d",
   "metadata": {},
   "outputs": [],
   "source": [
    "# way 2 \n",
    "\n",
    "plt.figure(figsize=(12,9))\n",
    "sns.scatterplot(data=df, x=\"경도\",y='위도',hue='구')"
   ]
  },
  {
   "cell_type": "markdown",
   "id": "19a85f9c",
   "metadata": {},
   "source": [
    "---------------"
   ]
  },
  {
   "cell_type": "code",
   "execution_count": null,
   "id": "76c832b8",
   "metadata": {},
   "outputs": [],
   "source": [
    "# way 3 \n",
    "\n",
    "plt.figure(figsize=(23,18))\n",
    "sns.scatterplot(data=df, x=\"경도\",y='위도',hue='서비스업종')"
   ]
  },
  {
   "cell_type": "markdown",
   "id": "deaa45ac",
   "metadata": {},
   "source": [
    "-------------------"
   ]
  },
  {
   "cell_type": "markdown",
   "id": "ca4fab68",
   "metadata": {},
   "source": [
    "## how to use folium"
   ]
  },
  {
   "cell_type": "code",
   "execution_count": null,
   "id": "1d401e03",
   "metadata": {},
   "outputs": [],
   "source": [
    "import folium\n",
    "df['위도'].mean() #위도의 평균값\n",
    "df['경도'].mean() #경도"
   ]
  },
  {
   "cell_type": "code",
   "execution_count": null,
   "id": "3ade4040",
   "metadata": {},
   "outputs": [],
   "source": [
    "map=folium.Map(location=[df_sample['위도'].mean(),df_sample['경도'].mean()],zoom_start=12)\n",
    "\n",
    "\n",
    "for n in df_sample.index:\n",
    "    name=df_sample.loc[n,'서비스업종']\n",
    "    \n",
    "    location=[df_sample.loc[n,'위도'], df_sample.loc[n,'경도']]\n",
    "    adress=df_sample.loc[n,'구']\n",
    "    popup=f'{name}-{adress}'\n",
    "\n",
    "    folium.Marker(\n",
    "        location = location,\n",
    "        popup = popup,\n",
    "    ).add_to(map)\n",
    "map"
   ]
  },
  {
   "cell_type": "markdown",
   "id": "5fcac3ce",
   "metadata": {},
   "source": [
    "## simple version folium"
   ]
  },
  {
   "cell_type": "code",
   "execution_count": null,
   "id": "04dfbe44",
   "metadata": {},
   "outputs": [],
   "source": [
    "import folium\n",
    "map=folium.Map(location=[df_route_p['gpsY'].mean(),df_route_p['gpsX'].mean()],zoom_start=12)\n",
    "\n",
    "\n",
    "for n in df_route_p.index:\n",
    "#     name=df_route_p.loc[n,'_']\n",
    "    \n",
    "    location=[df_route_p.loc[n,'gpsY'], df_route_p.loc[n,'gpsX']]\n",
    "#     adress=df_sample.loc[n,'구']\n",
    "#     popup=f'{name}-{adress}'\n",
    "\n",
    "    folium.Marker(\n",
    "        location = location,\n",
    "        icon=folium.Icon(color = 'green')\n",
    "#         popup = popup,\n",
    "    ).add_to(map)\n",
    "map"
   ]
  },
  {
   "cell_type": "markdown",
   "id": "c0bc74a3",
   "metadata": {},
   "source": [
    "## how to use heatmap"
   ]
  },
  {
   "cell_type": "code",
   "execution_count": null,
   "id": "8f08caad",
   "metadata": {},
   "outputs": [],
   "source": [
    "from glob import glob\n",
    "import numpy as np\n",
    "import folium\n",
    "from folium import plugins\n",
    "from folium.plugins import HeatMap"
   ]
  },
  {
   "cell_type": "code",
   "execution_count": null,
   "id": "7dc0c258",
   "metadata": {},
   "outputs": [],
   "source": [
    "import folium\n",
    "from folium.plugins import HeatMap\n",
    "\n",
    "\n",
    "m = folium.Map([35.9078, 127.7669], tiles=\"stamentoner\", zoom_start=6)\n",
    "\n",
    "HeatMap(sample_w).add_to(m)\n",
    "\n",
    "m"
   ]
  },
  {
   "cell_type": "markdown",
   "id": "85619ef4",
   "metadata": {},
   "source": [
    "## box plot \n",
    "### Used to check outliers."
   ]
  },
  {
   "cell_type": "code",
   "execution_count": 14,
   "id": "8e2f9876",
   "metadata": {},
   "outputs": [
    {
     "data": {
      "image/png": "[encoded data removed]",
      "text/plain": [
       "<IPython.core.display.Image object>"
      ]
     },
     "execution_count": 14,
     "metadata": {},
     "output_type": "execute_result"
    }
   ],
   "source": [
    "from IPython.display import Image\n",
    " \n",
    "Image(\"boxplot.png\") # code안에서 나오게 할 때"
   ]
  },
  {
   "cell_type": "markdown",
   "id": "5f7020a5",
   "metadata": {},
   "source": [
    "## subplot \n",
    "### It is used when writing multiple graphs at the same time."
   ]
  },
  {
   "cell_type": "code",
   "execution_count": 16,
   "id": "5e605d6d",
   "metadata": {},
   "outputs": [
    {
     "data": {
      "image/png": "[encoded data removed]",
      "text/plain": [
       "<IPython.core.display.Image object>"
      ]
     },
     "execution_count": 16,
     "metadata": {},
     "output_type": "execute_result"
    }
   ],
   "source": [
    "from IPython.display import Image\n",
    " \n",
    "Image(\"subplot.png\") # code안에서 나오게 할 때"
   ]
  },
  {
   "cell_type": "markdown",
   "id": "886daef5",
   "metadata": {},
   "source": [
    "## quantile\n",
    "### 1분위 수와 3분위 안의 수를 구할 때 쓴다."
   ]
  },
  {
   "cell_type": "code",
   "execution_count": 15,
   "id": "77752eff",
   "metadata": {
    "scrolled": true
   },
   "outputs": [
    {
     "data": {
      "image/png": "[encoded data removed]",
      "text/plain": [
       "<IPython.core.display.Image object>"
      ]
     },
     "execution_count": 15,
     "metadata": {},
     "output_type": "execute_result"
    }
   ],
   "source": [
    "from IPython.display import Image\n",
    " \n",
    "Image(\"quantile.png\") # code안에서 나오게 할 때"
   ]
  },
  {
   "cell_type": "markdown",
   "id": "ceff1dc1",
   "metadata": {},
   "source": [
    "## conda force install"
   ]
  },
  {
   "cell_type": "code",
   "execution_count": null,
   "id": "2b0f5226",
   "metadata": {},
   "outputs": [],
   "source": [
    "conda install -c conda-forge fbprophet"
   ]
  }
 ],
 "metadata": {
  "hide_input": false,
  "kernelspec": {
   "display_name": "Python 3 (ipykernel)",
   "language": "python",
   "name": "python3"
  },
  "language_info": {
   "codemirror_mode": {
    "name": "ipython",
    "version": 3
   },
   "file_extension": ".py",
   "mimetype": "text/x-python",
   "name": "python",
   "nbconvert_exporter": "python",
   "pygments_lexer": "ipython3",
   "version": "3.8.11"
  },
  "toc": {
   "base_numbering": 1,
   "nav_menu": {},
   "number_sections": true,
   "sideBar": true,
   "skip_h1_title": false,
   "title_cell": "Table of Contents",
   "title_sidebar": "Contents",
   "toc_cell": false,
   "toc_position": {},
   "toc_section_display": true,
   "toc_window_display": false
  },
  "varInspector": {
   "cols": {
    "lenName": 16,
    "lenType": 16,
    "lenVar": 40
   },
   "kernels_config": {
    "python": {
     "delete_cmd_postfix": "",
     "delete_cmd_prefix": "del ",
     "library": "var_list.py",
     "varRefreshCmd": "print(var_dic_list())"
    },
    "r": {
     "delete_cmd_postfix": ") ",
     "delete_cmd_prefix": "rm(",
     "library": "var_list.r",
     "varRefreshCmd": "cat(var_dic_list()) "
    }
   },
   "types_to_exclude": [
    "module",
    "function",
    "builtin_function_or_method",
    "instance",
    "_Feature"
   ],
   "window_display": false
  }
 },
 "nbformat": 4,
 "nbformat_minor": 5
}
