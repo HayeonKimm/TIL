{
  "nbformat": 4,
  "nbformat_minor": 0,
  "metadata": {
    "colab": {
      "name": "HowtousePython.ipynb",
      "provenance": [],
      "collapsed_sections": []
    },
    "kernelspec": {
      "name": "python3",
      "display_name": "Python 3"
    },
    "language_info": {
      "name": "python"
    }
  },
  "cells": [
    {
      "cell_type": "markdown",
      "metadata": {
        "id": "PsZ8GQ7Cd9uB"
      },
      "source": [
        "# HowtousePython\n",
        "\n",
        "## 211024~"
      ]
    },
    {
      "cell_type": "markdown",
      "metadata": {
        "id": "cK1lCBpAeM41"
      },
      "source": [
        "## 사칙연산"
      ]
    },
    {
      "cell_type": "code",
      "metadata": {
        "colab": {
          "base_uri": "https://localhost:8080/"
        },
        "id": "B4Xv894UeMMa",
        "outputId": "cd2ad176-0ad5-4718-fcbe-cc702eaf3826"
      },
      "source": [
        "a = 3 \n",
        "b = 4\n",
        "print(a+b) # 더하기\n",
        "print(a*b) # 곱하기\n",
        "print(a/b) # 나누기\n",
        "print(a**b) # 제곱"
      ],
      "execution_count": 6,
      "outputs": [
        {
          "output_type": "stream",
          "name": "stdout",
          "text": [
            "7\n",
            "12\n",
            "0.75\n",
            "81\n"
          ]
        }
      ]
    },
    {
      "cell_type": "code",
      "metadata": {
        "colab": {
          "base_uri": "https://localhost:8080/"
        },
        "id": "Il_ABWjderLa",
        "outputId": "dda9de25-c51b-4f8c-c205-96f05cf921d4"
      },
      "source": [
        "print(3%7) # 나눗셈 후 나머지를 반환하는 연산자\n",
        "print(7%3)"
      ],
      "execution_count": 7,
      "outputs": [
        {
          "output_type": "stream",
          "name": "stdout",
          "text": [
            "3\n",
            "1\n"
          ]
        }
      ]
    },
    {
      "cell_type": "code",
      "metadata": {
        "colab": {
          "base_uri": "https://localhost:8080/"
        },
        "id": "iIAd3Ho0erbO",
        "outputId": "1602fbf9-cc25-4329-c339-3c2d2c956026"
      },
      "source": [
        "7/4 # 나눗셈 후 몫을 반환하는 연산자"
      ],
      "execution_count": 8,
      "outputs": [
        {
          "output_type": "execute_result",
          "data": {
            "text/plain": [
              "1.75"
            ]
          },
          "metadata": {},
          "execution_count": 8
        }
      ]
    },
    {
      "cell_type": "markdown",
      "metadata": {
        "id": "aInMAxgQeret"
      },
      "source": [
        "## 문자열에 작은 따옴표 (') 포함시키기 "
      ]
    },
    {
      "cell_type": "code",
      "metadata": {
        "colab": {
          "base_uri": "https://localhost:8080/"
        },
        "id": "Cv6eYjqPerhr",
        "outputId": "c031575e-0482-422f-ea7e-61fcf7b1bc7d"
      },
      "source": [
        "print(\"Python's favorite food is perl\")\n",
        "# 큰 따옴표로 감싸면 된다."
      ],
      "execution_count": 11,
      "outputs": [
        {
          "output_type": "stream",
          "name": "stdout",
          "text": [
            "Python's favorite food is perl\n"
          ]
        }
      ]
    },
    {
      "cell_type": "markdown",
      "metadata": {
        "id": "7wqUsJqnerkk"
      },
      "source": [
        "## 백슬래시를 사용해서 작은따옴표와 큰따옴표를 문자열에 포함시키기"
      ]
    },
    {
      "cell_type": "code",
      "metadata": {
        "colab": {
          "base_uri": "https://localhost:8080/"
        },
        "id": "CqgYm9dygT9i",
        "outputId": "e2713c0a-2ead-439e-e54b-04af40afd16c"
      },
      "source": [
        "print('python \\'s favorite food is perl')"
      ],
      "execution_count": 14,
      "outputs": [
        {
          "output_type": "stream",
          "name": "stdout",
          "text": [
            "python 's favorite food is perl\n"
          ]
        }
      ]
    },
    {
      "cell_type": "markdown",
      "metadata": {
        "id": "GZjGQfUUgx86"
      },
      "source": [
        "## 여러 줄인 문자열을 변수에 대입하고 싶을 때 "
      ]
    },
    {
      "cell_type": "code",
      "metadata": {
        "colab": {
          "base_uri": "https://localhost:8080/"
        },
        "id": "Qu4z5gC5g2H-",
        "outputId": "0263ab89-1111-4611-c175-d7b7f967e31a"
      },
      "source": [
        "# 방법 1\n",
        "print('Life is too short \\nYou need Python')\n",
        "# \\n을 대입하면 된다."
      ],
      "execution_count": 19,
      "outputs": [
        {
          "output_type": "stream",
          "name": "stdout",
          "text": [
            "Life is too short \n",
            "You need Python\n"
          ]
        }
      ]
    },
    {
      "cell_type": "code",
      "metadata": {
        "colab": {
          "base_uri": "https://localhost:8080/"
        },
        "id": "Nv3rAGLZg2oQ",
        "outputId": "873e29b8-8fc6-43c1-d294-675eb596a63c"
      },
      "source": [
        "# 방법 2 \n",
        "\n",
        "multiline = '''\n",
        "\n",
        "Life is too short \n",
        "You need Python\n",
        "\n",
        "'''\n",
        "\n",
        "\n",
        "print(multiline)"
      ],
      "execution_count": 22,
      "outputs": [
        {
          "output_type": "stream",
          "name": "stdout",
          "text": [
            "\n",
            "\n",
            "Life is too short \n",
            "You need Python\n",
            "\n",
            "\n"
          ]
        }
      ]
    },
    {
      "cell_type": "markdown",
      "metadata": {
        "id": "hr8TIgXbhe_p"
      },
      "source": [
        "## 문자열 연산하기"
      ]
    },
    {
      "cell_type": "code",
      "metadata": {
        "colab": {
          "base_uri": "https://localhost:8080/",
          "height": 35
        },
        "id": "akcNHXaAhfTR",
        "outputId": "1ec9fcbe-9419-4e4f-ce36-5d18de5facdc"
      },
      "source": [
        "# 문자열 더해서 연결하기\n",
        "\n",
        "head = 'Python'\n",
        "tail = ' is fun!'\n",
        "\n",
        "head + tail"
      ],
      "execution_count": 24,
      "outputs": [
        {
          "output_type": "execute_result",
          "data": {
            "application/vnd.google.colaboratory.intrinsic+json": {
              "type": "string"
            },
            "text/plain": [
              "'Python is fun!'"
            ]
          },
          "metadata": {},
          "execution_count": 24
        }
      ]
    },
    {
      "cell_type": "code",
      "metadata": {
        "colab": {
          "base_uri": "https://localhost:8080/",
          "height": 35
        },
        "id": "QT1v6ovuhfWN",
        "outputId": "bb71ae65-92b9-4e98-cf47-aefc5507b6d7"
      },
      "source": [
        "# 문자열 곱하기\n",
        "a = 'python '\n",
        "a*2"
      ],
      "execution_count": 26,
      "outputs": [
        {
          "output_type": "execute_result",
          "data": {
            "application/vnd.google.colaboratory.intrinsic+json": {
              "type": "string"
            },
            "text/plain": [
              "'python python '"
            ]
          },
          "metadata": {},
          "execution_count": 26
        }
      ]
    },
    {
      "cell_type": "code",
      "metadata": {
        "colab": {
          "base_uri": "https://localhost:8080/"
        },
        "id": "v0Ga-RTbhfZK",
        "outputId": "85e69435-0bef-4fc1-9b9c-07b317dff2f5"
      },
      "source": [
        "# 문자열 길이 구하기\n",
        "\n",
        "a = 'Life is too short You need Python'\n",
        "\n",
        "len(a)"
      ],
      "execution_count": 27,
      "outputs": [
        {
          "output_type": "execute_result",
          "data": {
            "text/plain": [
              "33"
            ]
          },
          "metadata": {},
          "execution_count": 27
        }
      ]
    },
    {
      "cell_type": "markdown",
      "metadata": {
        "id": "u9rUKRKfhfbO"
      },
      "source": [
        "##  문자열 인덱싱과 슬라이싱"
      ]
    },
    {
      "cell_type": "code",
      "metadata": {
        "colab": {
          "base_uri": "https://localhost:8080/"
        },
        "id": "zgslq2h7hfd6",
        "outputId": "11956fe3-3efd-47cb-80d8-b011879bd18e"
      },
      "source": [
        "a = \"Life is too short You need Python\"\n",
        "\n",
        "a=a.split(' ')\n",
        "print(a)"
      ],
      "execution_count": 29,
      "outputs": [
        {
          "output_type": "stream",
          "name": "stdout",
          "text": [
            "['Life', 'is', 'too', 'short', 'You', 'need', 'Python']\n"
          ]
        }
      ]
    },
    {
      "cell_type": "code",
      "metadata": {
        "colab": {
          "base_uri": "https://localhost:8080/",
          "height": 35
        },
        "id": "Y4sw3aYkhfgp",
        "outputId": "d0f65d69-8a9f-44f3-fd0b-38101325f150"
      },
      "source": [
        "# 파이썬은 0부터 센다.\n",
        "a = \"Life is too short You need Python\"\n",
        "a[3] # L부터 0이다. 고로 e는 3"
      ],
      "execution_count": 31,
      "outputs": [
        {
          "output_type": "execute_result",
          "data": {
            "application/vnd.google.colaboratory.intrinsic+json": {
              "type": "string"
            },
            "text/plain": [
              "'e'"
            ]
          },
          "metadata": {},
          "execution_count": 31
        }
      ]
    },
    {
      "cell_type": "code",
      "metadata": {
        "colab": {
          "base_uri": "https://localhost:8080/",
          "height": 35
        },
        "id": "0Q5FvCeOhfje",
        "outputId": "61a532d7-8522-4304-aeeb-ea71a7462369"
      },
      "source": [
        "# 응용\n",
        "\n",
        "a[0:4] + a[4:8] + a[8:]"
      ],
      "execution_count": 34,
      "outputs": [
        {
          "output_type": "execute_result",
          "data": {
            "application/vnd.google.colaboratory.intrinsic+json": {
              "type": "string"
            },
            "text/plain": [
              "'Life is too short You need Python'"
            ]
          },
          "metadata": {},
          "execution_count": 34
        }
      ]
    },
    {
      "cell_type": "code",
      "metadata": {
        "id": "Vy84ISUbhfl-"
      },
      "source": [
        ""
      ],
      "execution_count": null,
      "outputs": []
    },
    {
      "cell_type": "code",
      "metadata": {
        "id": "ohCiBu7nhfoY"
      },
      "source": [
        ""
      ],
      "execution_count": null,
      "outputs": []
    },
    {
      "cell_type": "code",
      "metadata": {
        "id": "ctajpXm7hfrE"
      },
      "source": [
        ""
      ],
      "execution_count": null,
      "outputs": []
    },
    {
      "cell_type": "markdown",
      "metadata": {
        "id": "ZMkIo19Wd1mB"
      },
      "source": [
        "## 데이터프레임 만들기"
      ]
    },
    {
      "cell_type": "code",
      "metadata": {
        "id": "U8OmOun_zw25"
      },
      "source": [
        "import pandas as pd\n",
        "df = pd.DataFrame({'size':[100055,21512,25252] ,'bottom':[8882828,12525,12322]},index=['a','b','c'])"
      ],
      "execution_count": 2,
      "outputs": []
    },
    {
      "cell_type": "code",
      "metadata": {
        "colab": {
          "base_uri": "https://localhost:8080/",
          "height": 142
        },
        "id": "n_Uqo5Zqz1Ni",
        "outputId": "18351071-d6f2-48ff-bb7b-928afff7d80c"
      },
      "source": [
        "df"
      ],
      "execution_count": 18,
      "outputs": [
        {
          "output_type": "execute_result",
          "data": {
            "text/html": [
              "<div>\n",
              "<style scoped>\n",
              "    .dataframe tbody tr th:only-of-type {\n",
              "        vertical-align: middle;\n",
              "    }\n",
              "\n",
              "    .dataframe tbody tr th {\n",
              "        vertical-align: top;\n",
              "    }\n",
              "\n",
              "    .dataframe thead th {\n",
              "        text-align: right;\n",
              "    }\n",
              "</style>\n",
              "<table border=\"1\" class=\"dataframe\">\n",
              "  <thead>\n",
              "    <tr style=\"text-align: right;\">\n",
              "      <th></th>\n",
              "      <th>size</th>\n",
              "      <th>bottom</th>\n",
              "    </tr>\n",
              "  </thead>\n",
              "  <tbody>\n",
              "    <tr>\n",
              "      <th>a</th>\n",
              "      <td>100055</td>\n",
              "      <td>8882828</td>\n",
              "    </tr>\n",
              "    <tr>\n",
              "      <th>b</th>\n",
              "      <td>21512</td>\n",
              "      <td>12525</td>\n",
              "    </tr>\n",
              "    <tr>\n",
              "      <th>c</th>\n",
              "      <td>25252</td>\n",
              "      <td>12322</td>\n",
              "    </tr>\n",
              "  </tbody>\n",
              "</table>\n",
              "</div>"
            ],
            "text/plain": [
              "     size   bottom\n",
              "a  100055  8882828\n",
              "b   21512    12525\n",
              "c   25252    12322"
            ]
          },
          "metadata": {},
          "execution_count": 18
        }
      ]
    }
  ]
}