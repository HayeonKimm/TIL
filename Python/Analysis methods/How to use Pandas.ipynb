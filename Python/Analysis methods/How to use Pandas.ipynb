{
 "cells": [
  {
   "cell_type": "markdown",
   "id": "0adc239d",
   "metadata": {},
   "source": [
    "# pandas dictionary"
   ]
  },
  {
   "cell_type": "markdown",
   "id": "393b4236",
   "metadata": {},
   "source": [
    "------------------"
   ]
  },
  {
   "cell_type": "markdown",
   "id": "c2da71f6",
   "metadata": {},
   "source": [
    "## Base"
   ]
  },
  {
   "cell_type": "code",
   "execution_count": null,
   "id": "50c0e247",
   "metadata": {},
   "outputs": [],
   "source": [
    "import pandas as pd\n",
    "import seaborn as sns\n",
    "import matplotlib.pyplot as plt\n",
    "plt.rcParams['font.family'] = 'NanumGothic'"
   ]
  },
  {
   "cell_type": "markdown",
   "id": "4dd0dec7",
   "metadata": {},
   "source": [
    "## csv import"
   ]
  },
  {
   "cell_type": "code",
   "execution_count": null,
   "id": "61e12904",
   "metadata": {},
   "outputs": [],
   "source": [
    "df=pd.read_csv(\"제주특별자치도_제주도장소(POI)데이터_20151231.csv\",encoding='cp949',low_memory=False)"
   ]
  },
  {
   "cell_type": "markdown",
   "id": "24833d9e",
   "metadata": {},
   "source": [
    "## data shape"
   ]
  },
  {
   "cell_type": "code",
   "execution_count": null,
   "id": "089400a9",
   "metadata": {},
   "outputs": [],
   "source": [
    "df.shape"
   ]
  },
  {
   "cell_type": "markdown",
   "id": "327b0c11",
   "metadata": {},
   "source": [
    "## data sample"
   ]
  },
  {
   "cell_type": "code",
   "execution_count": null,
   "id": "d3994943",
   "metadata": {},
   "outputs": [],
   "source": [
    "df.sample()"
   ]
  },
  {
   "cell_type": "markdown",
   "id": "2a6e8620",
   "metadata": {},
   "source": [
    "## making dataframe by '장소명' "
   ]
  },
  {
   "cell_type": "code",
   "execution_count": null,
   "id": "83c88023",
   "metadata": {},
   "outputs": [],
   "source": [
    "df[df['장소명']=='5'].head()"
   ]
  },
  {
   "cell_type": "markdown",
   "id": "cc6ed058",
   "metadata": {},
   "source": [
    "## making dataframe   \n",
    "## by '장소명' == 5 and  '구분'== '레져/스포츠'"
   ]
  },
  {
   "cell_type": "code",
   "execution_count": null,
   "id": "8a54416a",
   "metadata": {},
   "outputs": [],
   "source": [
    "df[(df['장소명']=='5')&(df['구분']=='레져/스포츠')]"
   ]
  },
  {
   "cell_type": "markdown",
   "id": "da920b95",
   "metadata": {},
   "source": [
    "## '점포수' in '상권명'== '잠실 관광특구'"
   ]
  },
  {
   "cell_type": "code",
   "execution_count": null,
   "id": "3ea18f7a",
   "metadata": {},
   "outputs": [],
   "source": [
    "df[df['상권명']=='잠실 관광특구']['점포수']"
   ]
  },
  {
   "cell_type": "markdown",
   "id": "b1923b05",
   "metadata": {},
   "source": [
    "## Remove duplicate values ​​and create a list"
   ]
  },
  {
   "cell_type": "code",
   "execution_count": null,
   "id": "a3bb1310",
   "metadata": {},
   "outputs": [],
   "source": [
    "df[df['구분']=='레져/스포츠']['장소명'].unique().tolist()"
   ]
  },
  {
   "cell_type": "markdown",
   "id": "5787ea02",
   "metadata": {},
   "source": [
    "## Sum Missing Values"
   ]
  },
  {
   "cell_type": "code",
   "execution_count": null,
   "id": "ce2412bb",
   "metadata": {},
   "outputs": [],
   "source": [
    "df.isnull().sum()"
   ]
  },
  {
   "cell_type": "markdown",
   "id": "cfaa61d0",
   "metadata": {},
   "source": [
    "## Sort numerical values ​​in order"
   ]
  },
  {
   "cell_type": "code",
   "execution_count": null,
   "id": "18f2e3f3",
   "metadata": {},
   "outputs": [],
   "source": [
    "df['구분'].sort_values().value_counts()"
   ]
  },
  {
   "cell_type": "markdown",
   "id": "7530ec49",
   "metadata": {},
   "source": [
    "## Resizing the graph"
   ]
  },
  {
   "cell_type": "code",
   "execution_count": null,
   "id": "5e82bf5e",
   "metadata": {},
   "outputs": [],
   "source": [
    "plt.figure(figsize=(10,10))"
   ]
  },
  {
   "cell_type": "markdown",
   "id": "952c668b",
   "metadata": {},
   "source": [
    "## Grouping and Summing"
   ]
  },
  {
   "cell_type": "code",
   "execution_count": null,
   "id": "e1797e40",
   "metadata": {},
   "outputs": [],
   "source": [
    "df.groupby('상권명').sum()"
   ]
  },
  {
   "cell_type": "markdown",
   "id": "5e0cdeb0",
   "metadata": {},
   "source": [
    "## sort_values and heading"
   ]
  },
  {
   "cell_type": "code",
   "execution_count": null,
   "id": "0006fc7e",
   "metadata": {},
   "outputs": [],
   "source": [
    "df_sang['분기당_매출_금액'].sort_values(ascending=False).head(15)"
   ]
  },
  {
   "cell_type": "markdown",
   "id": "69d833f5",
   "metadata": {},
   "source": [
    "## Get multiple values at the same time by dataframe"
   ]
  },
  {
   "cell_type": "code",
   "execution_count": null,
   "id": "d55b0cd7",
   "metadata": {},
   "outputs": [],
   "source": [
    "df_sang[['연령대_10_매출_건수','연령대_20_매출_건수','연령대_30_매출_건수','연령대_40_매출_건수','연령대_50_매출_건수']]"
   ]
  },
  {
   "cell_type": "markdown",
   "id": "440c6f71",
   "metadata": {},
   "source": [
    "## how to making dataframe by data"
   ]
  },
  {
   "cell_type": "code",
   "execution_count": null,
   "id": "73e74350",
   "metadata": {},
   "outputs": [],
   "source": [
    "age_sales=pd.Series({'10대':te_sale,'20대':tw_sale,'30대':th_sale,'40대':fo_sale,'50대':fi_sale})\n",
    "age_sales\n"
   ]
  },
  {
   "cell_type": "code",
   "execution_count": null,
   "id": "1e462c61",
   "metadata": {},
   "outputs": [],
   "source": [
    "age_sales2 = { 'Age' : ['10대', '20대', '30대', '40대','50대'], 'Sale':[te_sale,tw_sale,th_sale,fo_sale,fi_sale]}\n",
    "age_sale_df = pd.DataFrame(age_sales2)\n",
    "age_sale_df"
   ]
  },
  {
   "cell_type": "markdown",
   "id": "6f8f0e86",
   "metadata": {},
   "source": [
    "## SNS barplot "
   ]
  },
  {
   "cell_type": "code",
   "execution_count": null,
   "id": "7b9a8028",
   "metadata": {},
   "outputs": [],
   "source": [
    "# way 1\n",
    "\n",
    "plt.figure(figsize=(9,6))\n",
    "sns.barplot(x='Age',y='Sale',data=age_nor)"
   ]
  },
  {
   "cell_type": "code",
   "execution_count": null,
   "id": "337c0acc",
   "metadata": {},
   "outputs": [],
   "source": [
    "plt.figure(figsize=(15,8))\n",
    "sns.barplot(x='서비스업종',y='점포수',data=service_jumpo_head.reset_index())"
   ]
  },
  {
   "cell_type": "code",
   "execution_count": null,
   "id": "a9ff05f9",
   "metadata": {},
   "outputs": [],
   "source": [
    "sns.barplot(x='점포수',y='서비스업종',data=service_jumpo_head.reset_index())\n",
    "\n",
    "# sns.countplot(data=df_seoul, x='시군구명')"
   ]
  },
  {
   "cell_type": "code",
   "execution_count": null,
   "id": "5fb4008e",
   "metadata": {},
   "outputs": [],
   "source": [
    "# density graph\n",
    "df_gu_jum.plot.density(rot=30)"
   ]
  },
  {
   "cell_type": "markdown",
   "id": "04989984",
   "metadata": {},
   "source": [
    "# map visualization"
   ]
  },
  {
   "cell_type": "code",
   "execution_count": null,
   "id": "ca6ef2cb",
   "metadata": {},
   "outputs": [],
   "source": [
    "# way 1\n",
    "\n",
    "df[['경도','위도','구']].plot.scatter(x='경도',y='위도',figsize=(12,7),grid=True)"
   ]
  },
  {
   "cell_type": "markdown",
   "id": "5618d61e",
   "metadata": {},
   "source": [
    "-------------"
   ]
  },
  {
   "cell_type": "code",
   "execution_count": null,
   "id": "149c048d",
   "metadata": {},
   "outputs": [],
   "source": [
    "# way 2 \n",
    "\n",
    "plt.figure(figsize=(12,9))\n",
    "sns.scatterplot(data=df, x=\"경도\",y='위도',hue='구')"
   ]
  },
  {
   "cell_type": "markdown",
   "id": "19a85f9c",
   "metadata": {},
   "source": [
    "---------------"
   ]
  },
  {
   "cell_type": "code",
   "execution_count": null,
   "id": "76c832b8",
   "metadata": {},
   "outputs": [],
   "source": [
    "# way 3 \n",
    "\n",
    "plt.figure(figsize=(23,18))\n",
    "sns.scatterplot(data=df, x=\"경도\",y='위도',hue='서비스업종')"
   ]
  },
  {
   "cell_type": "markdown",
   "id": "deaa45ac",
   "metadata": {},
   "source": [
    "-------------------"
   ]
  },
  {
   "cell_type": "markdown",
   "id": "ca4fab68",
   "metadata": {},
   "source": [
    "## how to use folium"
   ]
  },
  {
   "cell_type": "code",
   "execution_count": null,
   "id": "1d401e03",
   "metadata": {},
   "outputs": [],
   "source": [
    "import folium\n",
    "df['위도'].mean() #위도의 평균값\n",
    "df['경도'].mean() #경도"
   ]
  },
  {
   "cell_type": "code",
   "execution_count": null,
   "id": "3ade4040",
   "metadata": {},
   "outputs": [],
   "source": [
    "map=folium.Map(location=[df_sample['위도'].mean(),df_sample['경도'].mean()],zoom_start=12)\n",
    "\n",
    "\n",
    "for n in df_sample.index:\n",
    "    name=df_sample.loc[n,'서비스업종']\n",
    "    \n",
    "    location=[df_sample.loc[n,'위도'], df_sample.loc[n,'경도']]\n",
    "    adress=df_sample.loc[n,'구']\n",
    "    popup=f'{name}-{adress}'\n",
    "\n",
    "    folium.Marker(\n",
    "        location = location,\n",
    "        popup = popup,\n",
    "    ).add_to(map)\n",
    "map"
   ]
  },
  {
   "cell_type": "markdown",
   "id": "c0bc74a3",
   "metadata": {},
   "source": [
    "## how to use heatmap"
   ]
  },
  {
   "cell_type": "code",
   "execution_count": null,
   "id": "8f08caad",
   "metadata": {},
   "outputs": [],
   "source": [
    "from glob import glob\n",
    "import numpy as np\n",
    "import folium\n",
    "from folium import plugins\n",
    "from folium.plugins import HeatMap"
   ]
  },
  {
   "cell_type": "code",
   "execution_count": null,
   "id": "7dc0c258",
   "metadata": {},
   "outputs": [],
   "source": [
    "import folium\n",
    "from folium.plugins import HeatMap\n",
    "\n",
    "\n",
    "m = folium.Map([35.9078, 127.7669], tiles=\"stamentoner\", zoom_start=6)\n",
    "\n",
    "HeatMap(sample_w).add_to(m)\n",
    "\n",
    "m"
   ]
  }
 ],
 "metadata": {
  "kernelspec": {
   "display_name": "Python 3.9.5 64-bit",
   "language": "python",
   "name": "python395jvsc74a57bd0247ab06e135bb35fa78c5eff31b2a9a0050dcb5fb773c2631d2a29ac689eeccb"
  },
  "language_info": {
   "codemirror_mode": {
    "name": "ipython",
    "version": 3
   },
   "file_extension": ".py",
   "mimetype": "text/x-python",
   "name": "python",
   "nbconvert_exporter": "python",
   "pygments_lexer": "ipython3",
   "version": "3.9.5"
  }
 },
 "nbformat": 4,
 "nbformat_minor": 5
}
