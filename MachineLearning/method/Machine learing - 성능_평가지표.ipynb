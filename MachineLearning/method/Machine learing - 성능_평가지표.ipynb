{
 "cells": [
  {
   "cell_type": "markdown",
   "metadata": {},
   "source": [
    "지도학습 - 분류(정확도), 회귀(R^2)"
   ]
  },
  {
   "cell_type": "markdown",
   "metadata": {},
   "source": [
    "기계학습(머신러닝) 프로세스 \n",
    " - 데이터 가옥/변환\n",
    " - 모델 학습/예측\n",
    " - 평가\n",
    " \n",
    "분류 성능 평가 지표\n",
    " - 정확도(Accuracy)\n",
    " - 오차행렬(Confusion Matrix)\n",
    " - 정밀도(Precision)\n",
    " - 재현율(Recall)\n",
    " - F1 스코어\n",
    " - ROC AUC\n",
    " \n",
    "분류 유형\n",
    " - 이진 분류 \n",
    "    - 결정 클래스 값 종류의 유형에 따라 긍정/부정과 같은 2개의 결과값만 가지는 분류\n",
    "\n",
    " -  멀티 분류\n",
    "     - 여러 개의 결정 클래스 값을 가지는 분류\n",
    "     \n",
    "※  분류 성능 평가 지표는 이진/멀티 분류에 모두 적용되는 지표이지만  \n",
    "이진 분류에서 더 중요하게 강조되는 지표이다.\n",
    "\n"
   ]
  },
  {
   "cell_type": "code",
   "execution_count": 1,
   "metadata": {},
   "outputs": [],
   "source": [
    "import mglearn"
   ]
  },
  {
   "cell_type": "code",
   "execution_count": 2,
   "metadata": {},
   "outputs": [
    {
     "data": {
      "image/png": "[encoded data removed]",
      "text/plain": [
       "<Figure size 576x576 with 1 Axes>"
      ]
     },
     "metadata": {
      "needs_background": "light"
     },
     "output_type": "display_data"
    }
   ],
   "source": [
    "mglearn.plots.plot_confusion_matrix_illustration()"
   ]
  },
  {
   "cell_type": "markdown",
   "metadata": {},
   "source": [
    "이진 분류하는 confusion matrix에서 각 위치를 다음과 같이 이름 붙인다.\n",
    "\n",
    "|||Predict||\n",
    "|---|---|---|---|                                          \n",
    "|   |    |Negative|Positive|                                 \n",
    "|Actual|False|True Negative (TN)|False Positive (FP)|        \n",
    "|   |True|False Negative (FN)|True Positive (TP)|            \n",
    "\n",
    "\n",
    "- accuracy(정확도)\n",
    "\n",
    "    전체 데이터 중에 예측이 맞은 비율\n",
    "\n",
    "    $$accuracy = \\frac{TP+TN}{TP+FP+TN+FN}$$\n",
    "\n",
    "- precision(정밀도,민감도) - PPV(Positive Predictive Value) \n",
    "\n",
    "    양성으로 예측한 것 중에서 양성이 맞는 비율\n",
    "\n",
    "    즉, 예측한 거 중에 맞은 비율\n",
    "\n",
    "    $$precision = \\frac{TP}{TP+FP}$$\n",
    "\n",
    "- recall(재현률) -  TPR(True Positive Rate)\n",
    "\n",
    "    실제 양성인 것  중에서 양성으로 예측한 비율\n",
    "\n",
    "    즉, 맞은 비율\n",
    "\n",
    "    $$reacll = \\frac{TP}{TP+FN}$$    \n",
    "    \n",
    "- F1 Score\n",
    "   precision(정밀도)와 recall(재현률)의 조화평균\n",
    "   $$F1 Score == \\frac{2*(정밀도*재현율)}{정밀도+재현율}$$ \n",
    "   \n",
    "- 특이성(Specificity)  \n",
    "   Negative(음성)을 Negative(음성)으로 예측한 비율\n",
    "   $$TNR = \\frac{TN}{FP+TN}$$\n",
    "\n",
    "- FPR  \n",
    "  Negative(음성)을 Positive(양성)으로 예측한 비율\n",
    "   $$FPR = \\frac{FP}{TN+FP}$$\n",
    "   \n",
    "\n"
   ]
  },
  {
   "cell_type": "code",
   "execution_count": null,
   "metadata": {},
   "outputs": [],
   "source": [
    "\n"
   ]
  },
  {
   "cell_type": "markdown",
   "metadata": {},
   "source": [
    "정확도(Accuracy) 지표가 ML(머신러닝)모델의 성능을 왜곡"
   ]
  },
  {
   "cell_type": "code",
   "execution_count": 4,
   "metadata": {},
   "outputs": [],
   "source": [
    "import numpy as np\n",
    "from sklearn.base import BaseEstimator"
   ]
  },
  {
   "cell_type": "code",
   "execution_count": 32,
   "metadata": {},
   "outputs": [],
   "source": [
    "class MyDummyClassifier(BaseEstimator):\n",
    "    # fit( ) : 아무것도 학습하지 않음\n",
    "    def fit(self, X, y=None):\n",
    "        pass\n",
    "    \n",
    "    \n",
    "    \n",
    "    def predict(self, X):\n",
    "        # 모든 예측값 초기화를  0이되도록 구현\n",
    "        pred = np.zeros((X.shape[0], 1)) # 예측값 초기화 : 2차원 형태(m,1) - m행 1열의  2차원 형태\n",
    "        for i in range(X.shape[0]):\n",
    "            if X['Sex'].iloc[i]==1: # '남자'인 경우\n",
    "                pred[i] = 0         # '사망'\n",
    "            else:                  # '여자'인 경우\n",
    "                pred[i] = 1        # '생존'\n",
    "                \n",
    "        return pred"
   ]
  },
  {
   "cell_type": "code",
   "execution_count": 33,
   "metadata": {},
   "outputs": [],
   "source": [
    "from sklearn.preprocessing import LabelEncoder\n",
    "\n",
    "# Null 처리 함수\n",
    "def fillna(df):\n",
    "    df['Age'].fillna(df['Age'].mean(),inplace=True)\n",
    "    df['Cabin'].fillna('N',inplace=True)\n",
    "    df['Embarked'].fillna('N',inplace=True)\n",
    "    df['Fare'].fillna(0,inplace=True)\n",
    "    return df\n",
    "\n",
    "# 머신러닝 알고리즘에 불필요한 속성 제거\n",
    "def drop_features(df):\n",
    "    df.drop(['PassengerId','Name','Ticket'],axis=1,inplace=True)\n",
    "    return df\n",
    "\n",
    "# 레이블 인코딩 수행. \n",
    "def format_features(df):\n",
    "    df['Cabin'] = df['Cabin'].str[:1]\n",
    "    features = ['Cabin','Sex','Embarked']\n",
    "    for feature in features:\n",
    "        le = LabelEncoder()\n",
    "        le = le.fit(df[feature])\n",
    "        df[feature] = le.transform(df[feature])\n",
    "    return df\n",
    "\n",
    "# 앞에서 설정한 Data Preprocessing 함수 호출\n",
    "def transform_features(df):\n",
    "    df = fillna(df)\n",
    "    df = drop_features(df)\n",
    "    df = format_features(df)\n",
    "    return df"
   ]
  },
  {
   "cell_type": "code",
   "execution_count": null,
   "metadata": {},
   "outputs": [],
   "source": []
  },
  {
   "cell_type": "code",
   "execution_count": 35,
   "metadata": {},
   "outputs": [
    {
     "name": "stdout",
     "output_type": "stream",
     "text": [
      "Dummy Classifier의 정확도는 :  0.8324\n"
     ]
    }
   ],
   "source": [
    "import pandas as pd\n",
    "from sklearn.model_selection import train_test_split\n",
    "from sklearn.metrics import accuracy_score\n",
    "\n",
    "titanic_df = pd.read_csv('./data/titanic/train.csv')\n",
    "y_titanic_df = titanic_df['Survived']\n",
    "X_titanic_df= titanic_df.drop('Survived',axis=1)\n",
    "\n",
    "X_titanic_df = transform_features(X_titanic_df)\n",
    "\n",
    "# train과 test : 80 대 20\n",
    "X_train, X_test, y_train, y_test=train_test_split(X_titanic_df, y_titanic_df, \\\n",
    "                                                  test_size=0.2, random_state=11)\n",
    "\n",
    "# MyDummyClassifier를 이용해 학습/예측/평가 수행\n",
    "myclf = MyDummyClassifier()\n",
    "myclf.fit(X_train, y_train)\n",
    "\n",
    "mypredictions = myclf.predict(X_test)\n",
    "print('Dummy Classifier의 정확도는 : {0: .4f}'.format(accuracy_score(y_test, mypredictions)))\n",
    "\n"
   ]
  },
  {
   "cell_type": "markdown",
   "metadata": {},
   "source": [
    "단순한 알고리즘으로 예측한 정확도 결과 : 83% 으로 상당히 높게 평가가 되었다.\n",
    "특히 정확도는 불균형한(imbalanced)레이블 값 분포에서 ML모델의 성능을 판단할 경우, 적합한 평가 지표가 아니다.\n",
    "\n"
   ]
  },
  {
   "cell_type": "code",
   "execution_count": 19,
   "metadata": {},
   "outputs": [
    {
     "name": "stdout",
     "output_type": "stream",
     "text": [
      "(2, 5)\n",
      "2\n",
      "[[0.]\n",
      " [0.]]\n"
     ]
    }
   ],
   "source": [
    "# 참고\n",
    "k = np.arange(10)\n",
    "k = k.reshape(2,5)\n",
    "print(k.shape)\n",
    "m= k.shape[0]\n",
    "print(m)\n",
    "p = np.zeros((m,1))\n",
    "print(p)"
   ]
  },
  {
   "cell_type": "markdown",
   "metadata": {},
   "source": [
    "MNIST 데이터 셋을 이용해서 정확도 지표가 ML모델의 성능을 왜곡하는 예2"
   ]
  },
  {
   "cell_type": "markdown",
   "metadata": {},
   "source": [
    "MNIST 데이터 셋\n",
    " - 0 ~ 9까지 숫자 이미지의 픽셀 정보를 가지고 있다.\n",
    " - 이를 기반으로 숫자 digit를 예측하는데 사용한다.\n",
    " - sklearn의 load_digit() API를 통해 MNIST 데이터 셋을 제공한다."
   ]
  },
  {
   "cell_type": "code",
   "execution_count": 41,
   "metadata": {},
   "outputs": [
    {
     "name": "stdout",
     "output_type": "stream",
     "text": [
      "[[ 0.  0.  5. ...  0.  0.  0.]\n",
      " [ 0.  0.  0. ... 10.  0.  0.]\n",
      " [ 0.  0.  0. ... 16.  9.  0.]\n",
      " ...\n",
      " [ 0.  0.  1. ...  6.  0.  0.]\n",
      " [ 0.  0.  2. ... 12.  0.  0.]\n",
      " [ 0.  0. 10. ... 12.  1.  0.]]\n",
      "digits.data.shape: (1797, 64)\n",
      "digits.target.shape: (1797,)\n"
     ]
    }
   ],
   "source": [
    "from sklearn.datasets import load_digits\n",
    "from sklearn.model_selection import train_test_split\n",
    "from sklearn.base import BaseEstimator\n",
    "from sklearn.metrics import accuracy_score\n",
    "\n",
    "import numpy as np\n",
    "import pandas as pd\n",
    "\n",
    "# 모델 정의\n",
    "class MyFakeClassifier(BaseEstimator):\n",
    "    \n",
    "    def fit(self, X, y):\n",
    "        pass\n",
    "    \n",
    "    # 입력값으로 들어오는 X데이터 세트의 크기만큼 모두 0값으로 만들어서 반환\n",
    "    def predict(self, X):\n",
    "        return np.zeros((len(X),1), dtype=bool) # 예측값 초기화 : m행 1열의 2차원 형태에 0으로 초기화\n",
    "\n",
    "# 데이터 로드    \n",
    "digits = load_digits()    \n",
    "\n",
    "print( digits.data)\n",
    "print('digits.data.shape:',digits.data.shape)\n",
    "print('digits.target.shape:', digits.target.shape)"
   ]
  },
  {
   "cell_type": "code",
   "execution_count": 43,
   "metadata": {},
   "outputs": [
    {
     "data": {
      "text/plain": [
       "array([0, 1, 2, 3, 4, 5, 6, 7, 8, 9])"
      ]
     },
     "execution_count": 43,
     "metadata": {},
     "output_type": "execute_result"
    }
   ],
   "source": [
    "# 참고\n",
    "a = digits.target[:10]\n",
    "print(a)"
   ]
  },
  {
   "cell_type": "code",
   "execution_count": 44,
   "metadata": {},
   "outputs": [
    {
     "data": {
      "text/plain": [
       "array([False, False, False, False, False, False, False,  True, False,\n",
       "       False])"
      ]
     },
     "execution_count": 44,
     "metadata": {},
     "output_type": "execute_result"
    }
   ],
   "source": [
    "# 참고\n",
    "a==7"
   ]
  },
  {
   "cell_type": "code",
   "execution_count": 45,
   "metadata": {},
   "outputs": [
    {
     "data": {
      "text/plain": [
       "array([0, 0, 0, 0, 0, 0, 0, 1, 0, 0])"
      ]
     },
     "execution_count": 45,
     "metadata": {},
     "output_type": "execute_result"
    }
   ],
   "source": [
    "# 참고\n",
    "b = (a==7).astype(int)\n",
    "b"
   ]
  },
  {
   "cell_type": "code",
   "execution_count": 46,
   "metadata": {},
   "outputs": [
    {
     "data": {
      "text/plain": [
       "array([0, 0, 0, ..., 0, 0, 0])"
      ]
     },
     "execution_count": 46,
     "metadata": {},
     "output_type": "execute_result"
    }
   ],
   "source": [
    "# digits 번호가 7번이면 True이고 이를 astype(int)로 1로 변환, 7번이 아니면 False이고 0으로 변환\n",
    "y = (digits.target==7).astype(int)\n",
    "y"
   ]
  },
  {
   "cell_type": "code",
   "execution_count": 48,
   "metadata": {},
   "outputs": [],
   "source": [
    "# 학습/테스트 데이터 셋으로 분리\n",
    "X_train, X_test, y_train, y_test = train_test_split(digits.data, y, random_state=11) #test_size=0.25"
   ]
  },
  {
   "cell_type": "code",
   "execution_count": 50,
   "metadata": {},
   "outputs": [
    {
     "name": "stdout",
     "output_type": "stream",
     "text": [
      "(1347, 64)\n",
      "(450, 64)\n"
     ]
    }
   ],
   "source": [
    "print(X_train.shape)\n",
    "print(X_test.shape)"
   ]
  },
  {
   "cell_type": "code",
   "execution_count": 56,
   "metadata": {},
   "outputs": [
    {
     "name": "stdout",
     "output_type": "stream",
     "text": [
      "레이블 테스트 세트 크기: (450,)\n",
      "테스트 세트 레이블 0과 1의 분포도\n",
      "0    405\n",
      "1     45\n",
      "dtype: int64\n"
     ]
    }
   ],
   "source": [
    "# 불균형한 레이블 데이터 분포도 확인\n",
    "print('레이블 테스트 세트 크기:', y_test.shape)\n",
    "print('테스트 세트 레이블 0과 1의 분포도')\n",
    "#print(type(y_test))\n",
    "#print(pd.Series(y_test).unique())\n",
    "print(pd.Series(y_test).value_counts())"
   ]
  },
  {
   "cell_type": "code",
   "execution_count": 58,
   "metadata": {},
   "outputs": [
    {
     "name": "stdout",
     "output_type": "stream",
     "text": [
      "정확도 : 0.900\n"
     ]
    }
   ],
   "source": [
    "# MyFakeClassifier로 학습/예측/정확도 평가\n",
    "fake_clf = MyFakeClassifier()\n",
    "fake_clf.fit(X_train, y_train)\n",
    "fakepred = fake_clf.predict(X_test)\n",
    "print('정확도 :{0: .3f}'.format(accuracy_score(y_test, fakepred)))\n",
    "\n",
    "# 모든 예측을 '0'으로 해도 정확도가 90%이다."
   ]
  },
  {
   "cell_type": "code",
   "execution_count": 59,
   "metadata": {},
   "outputs": [],
   "source": [
    "# 단순히 predict()의 결과를 np.zeros()로 모두 0값으로 반환함에도불구하고\n",
    "# 450개의 테스트 데이터 세트에 수행한 예측 정확도는 90%\n",
    "# 단지 모든 것을 0으로만 예측해도\n",
    "# MyFakeClassifier의 정확도가 90%\n",
    "\n",
    "# 우수한 ML 알고리즘과 동등한 성능이란 것은 말도 안되는 결과\n",
    "\n",
    "# 이처럼 정확도 평가 지표는 불균형한 레이블 데이터 세트에서는\n",
    "# 성능 평가 수치로 사용해서는 안 됨\n",
    "\n",
    "# 정확도가 가지는 분류 평가 지표로서\n",
    "# 이러한 한계점을 극복하기 위해\n",
    "# 여러 가지 분류 지표와 함께 적용해야 함"
   ]
  },
  {
   "cell_type": "markdown",
   "metadata": {},
   "source": [
    "### 오차행렬(Confusion Matrix)"
   ]
  },
  {
   "cell_type": "markdown",
   "metadata": {},
   "source": [
    "오차행렬 (Confusion Matrix) (혼동 행렬)\n",
    "\n",
    "분류의 성능을 평가하는 행렬  \n",
    "실제로 참(True)인지 거짓(False)인지,  \n",
    "예측을 긍정(Positive)으로 했는지, 부정(Negative)로 했는지에 따라  \n",
    "4개의 경우의 수로 구분한 표  \n",
    "4분면 행렬에서 예측 클래스와 실제 클래스의 값 유형에 따라 TN, FP, FN, TP 형태  \n",
    "학습된 분류 모델이 예측을 수행하면서 얼마나 헷갈리고(confused) 있는지도 함께 보여주는 지표  \n",
    "머신러닝에서 오차행렬이 중요한 이유  \n",
    "\n",
    "머신러닝 모델의 예측이 얼마나 잘 한 예측인지를 판단하는 중요한 기준을 제공  \n",
    "오차행렬로부터 머신러인 모델의 우수성을 평가하는 다른 여러 지표들을 도출  "
   ]
  },
  {
   "cell_type": "markdown",
   "metadata": {},
   "source": [
    "TN, FP, FN, TP는 예측 클래스와 실제 클래스의  \n",
    "- Positive 결정값(1)과 Negativ(0)의 결합에 따라 결정  \n",
    "- 앞 문자 T/F(True/False) : 예측값과 실제값이 '같은가/틀린가'의미  \n",
    "- 뒤 문자 N/P(Negative/Positive) : 예측 결과 같이 부정(0)/긍정(1)의 의미  \n",
    "- 예: TN(True Negative)  \n",
    "    - 앞 True : 예측 클래스 값과 실제 클래스 값이 같다는 의미  \n",
    "    - 뒤 Negative : 예측 값이 Negative 값이라는 의미  "
   ]
  },
  {
   "cell_type": "markdown",
   "metadata": {},
   "source": [
    "사이킷런은 오차행렬을 구하기 위해 confusion_matrix() API 제공\n",
    "-  앞의 예제 MyFakeClassifier 의  예측 성능 지표를 오차행렬로 표현\n",
    "-  MyFakeClassifier의 예측 결과인 fakepred와 실제 결과인 y_test를\n",
    "-  confusion_matrix()의 인자로 입력해 \n",
    "-  오차행렬 배열 형태로 출력(반환)"
   ]
  },
  {
   "cell_type": "code",
   "execution_count": 60,
   "metadata": {},
   "outputs": [
    {
     "data": {
      "text/plain": [
       "array([[405,   0],\n",
       "       [ 45,   0]], dtype=int64)"
      ]
     },
     "execution_count": 60,
     "metadata": {},
     "output_type": "execute_result"
    }
   ],
   "source": [
    "from sklearn.metrics import confusion_matrix\n",
    "# confusion_matrix(실제값, 예측값)\n",
    "confusion_matrix(y_test, fakepred)"
   ]
  },
  {
   "cell_type": "markdown",
   "metadata": {},
   "source": [
    "결과  \n",
    "([[TN,   FP],  \n",
    " [ FN,   TP]]  \n",
    " \n",
    " MyFakeClassifier는 load_digits()에서 target=7인지 아닌지에 따라  \n",
    "클래스 값을 True/False 이진 분류로 변경한 데이터 세트를 사용해서  \n",
    "무조건 Negative로 예측하는 Classifier였고  \n",
    "테스트 데이터 세트의 클래스 값 분포는 0이 450건, 1이 45건 이었음  \n",
    "\n",
    "- TN : 전체 450건 데이터 중 무조건 Negative 0으로 예측해서 True가 된 결과 405건\n",
    "    - 실제값/예측값 동일, Negative로 예측  \n",
    "- FP : Positive 1로 예측한 건수가 없으므로 0건\n",
    "    - 실제값/예측값 다름, Positive로 예측  \n",
    "- FN : Positive 1인 건수 45건을  Negative 0으로 예측해서 False가 된 결과 45건\n",
    "    - 실제값/예측값 다름, Negative로 예측  \n",
    "- TP : Positive 1로 예측한 건수가 없으므로 0건\n",
    "    - 실제값/예측값 동일, Positive로 예측"
   ]
  },
  {
   "cell_type": "markdown",
   "metadata": {},
   "source": [
    " TN, FP, FN, TP 값은 Classifier 성능의 여러 면모를 판단할 수 있는 기반 정보 제공   \n",
    "이 값을 조합해서 Classifier의 성능을 측정할 수 있는 주요 지표인   \n",
    "정확도(Accuracy), 정밀도(Precision), 재현율(Recall) 값을 알 수 있음   "
   ]
  },
  {
   "cell_type": "markdown",
   "metadata": {},
   "source": [
    "오차행렬 상에서 정확도\n",
    "- 정확도 = 예측 결과와 실제 값이 동일한 건수 / 전체 데이터 수\n",
    "- (TN + TP) / (TN, FP, FN, TP)"
   ]
  },
  {
   "cell_type": "markdown",
   "metadata": {},
   "source": [
    "일반적으 불균형한 레이블 클래스 가지는 이진 분류 모델에서는  \n",
    "- 많은 데이터 중에서 중점적으로 찾아야 하는 아주 적은 수의 결과값에 Positive를 설정해서 1 값을 부여하고\n",
    "- 그렇지 않은 경우는 Negative로 0을 부여하는 경우가 많음\n",
    "\n",
    "예1 : 사기 행위 예측 모델\n",
    "- 사기 행위 : Positive 양성으로 1 값 부여\n",
    "- 정상 행위 : Negative 음성으로 0 값 부여\n",
    "    \n",
    "예2 : 암 검진 모델\n",
    "- 양성 : Positive 양성으로 1 값 부여\n",
    "- 음성 : Negative 음성으로 0 값 부여"
   ]
  },
  {
   "cell_type": "markdown",
   "metadata": {},
   "source": [
    "불공평한 이진 분류 데이터 세트에서는 Positive 데이터 건수가 매우 작기 때문에\n",
    "데이터에 기반한 ML 알고리즘은\n",
    "Positive 보다는 Negative로 예측 정확도가 높아지는 경향이 발생\n",
    "\n",
    "10,000 건의 데이터 세트에서 9,900 건이 Negative이고 100건이 Positive라면\n",
    "Negative로 예측하는 경향이 강해져서 TN 매우 커지고 TP는 매우 작아지게 됨\n",
    "\n",
    "또한 Negative로 예측할 때 정확도가 높기 대문에\n",
    "FN(Negative로 예측할 때 틀린 데이터 수)이 매우 작고\n",
    "Positive로 예측하는 경우가 작기 때문에 FP 역시 매우 작아짐\n",
    "\n",
    "결과적으로 정확도 지표는 비대칭한 데이터 세트에서\n",
    "Positive에 대한 예측 정확도를 판단하지 못한 채\n",
    "Negative에 대한 예측 정확도만으로\n",
    "분류의 정확도가 매우 높게 나타나는 수치적인 판단 오류를 일으키게 됨\n",
    "\n",
    "불균형 데이터 세트에서 정확도보다 더 선호되는 평가 재표\n",
    "- 정밀도와 재현율"
   ]
  },
  {
   "cell_type": "markdown",
   "metadata": {},
   "source": [
    "### 정밀도(Precision)와 재현율(Recall)"
   ]
  },
  {
   "cell_type": "markdown",
   "metadata": {},
   "source": [
    "정밀도(Precision)와 재현율(Recall)\n",
    "- Positive 데이터 세트의 예측 성능에 더 초점을 맞춘 평가 지표\n",
    "- 앞의 MyFakeClassifier는 Positive로 예측한 TP 값이 하나도 없기 때문에\n",
    "- 정밀도와 재현율 값이 모두 0"
   ]
  },
  {
   "cell_type": "markdown",
   "metadata": {},
   "source": [
    "정밀도와 재현율 계산 공식  \n",
    "- 정밀도 = TP / (FP + TP)  \n",
    "- 재현율 = TP/ (FN + TP)  "
   ]
  },
  {
   "cell_type": "code",
   "execution_count": null,
   "metadata": {},
   "outputs": [],
   "source": [
    "정밀도 = TP / (FP + TP)\n",
    "- 예측을 Positive로 한 대상 중에\n",
    "- 예측과 실제 값이 Positive로 일치한 데이터의 비율\n",
    "- 예측한 양성 대 맞춘 양성\n",
    "- 공식의 분모인 (FP + TP)는 예측을 Positive로 한 모든 데이터 건수 (예측한 양성)\n",
    "- 분자인 TP는 예측과 실제값이 Positive로 일치한 데이터 건수 (맞춘 양성)\n",
    "- Positive 예측 성능을 더 정밀하게 측정하기 위한 평가 지료\n",
    "- 양성 예측도라고도 함"
   ]
  },
  {
   "cell_type": "markdown",
   "metadata": {},
   "source": [
    "재현율 = TP/ (FN + TP)\n",
    "- 실제값이 Positive인 대상 중에\n",
    "- 예측과 실제 값이 Positive로 일치한 비율\n",
    "- 실제 양성 대 예측한(맞춘) 양성 비율\n",
    "- 공식의 분모인 (FN + TP)는 실제값이 Positive인 모든 데이터 건수(실제 양성)\n",
    "- 분자인 TP는 예측과 실제값이 Positive로 일치한 데이터 건수(맞춘 양성)\n",
    "- 민감도(Sensitivity) 또는 TPR(True Positive Rate)"
   ]
  },
  {
   "cell_type": "code",
   "execution_count": null,
   "metadata": {},
   "outputs": [],
   "source": [
    "재현율이 중요 지표인 경우\n",
    "- 실제 Positive 양성 데이터를 Negative로 잘못 판단하게 되면\n",
    "- 업무상 큰 영향이 발생하는 경우\n",
    "\n",
    "예1: 암 판단 모델\n",
    "- 실제 Positive인 암 환자를\n",
    "- Positive 양성이 아닌 Negative 음성으로\n",
    "- 잘못 판단했을 경우 생명과 밀접한 문제가 발생\n",
    "- 판대로 실제 Negative인 환자를 암 환자인 Positive로 예측하더라도 (심각한 문제 발생)\n",
    "- 재검사 등 수준의 비용(문제) 문제 발생(심각할 정도는 아닌 문제 발생)\n",
    "\n",
    "예2: 보험 사기와 같은 금융 사기 적발 모델\n",
    "- 실제 금융거래 사기인 Positive건을 Negative로 잘못 판단하게 되면\n",
    "- 회사에 미치는 손해가 큼\n",
    "- 반대로 정상 금융 거래인 Negative를 금융 사기인 Positive로 잘못 판단해도\n",
    "- 재확인 등의 절차로 큰 문제가 되지 않을 수 있음"
   ]
  },
  {
   "cell_type": "code",
   "execution_count": null,
   "metadata": {},
   "outputs": [],
   "source": [
    "보통은 재현율이 정밀도보다 상대적으로 중요한 업무가 많지만\n",
    "정밀도가 더 중요한 지표인 경우도 있음\n",
    "\n",
    "예: 스팸메일 여부를 판단하는 모델\n",
    "- 실제 Positive인 스팸메일 Negative인 일반 메일로 분류하더라도\n",
    "- 사용자 불편한 정도로 큰 문제를 발생시키지는 않음\n",
    "- 실제 Negative인 일반 메일을 Positive인 스팸메일로 분류할 경우\n",
    "- 아예 메일을 받지 못하게 되어 큰 문제가 발생할 수도 있음"
   ]
  },
  {
   "cell_type": "code",
   "execution_count": null,
   "metadata": {},
   "outputs": [],
   "source": [
    "재현율이 상대적으로 더 중요한 지표인 경우\n",
    "- 실제 Positive 양성 데이터 예측을 Negative로 잘못 판단하게 되면 업무상 큰 영향이 발생하는 경우\n",
    "\n",
    "\n",
    "정밀도가 상대적으로 더 중요한 지표인 경우\n",
    "- 실제 Negative 음성인 데이터 예측을 Positive 양성으로 잘못 판단하게 되면 업무상 큰 영향이 발생하는 경우"
   ]
  },
  {
   "cell_type": "code",
   "execution_count": null,
   "metadata": {},
   "outputs": [],
   "source": [
    "정밀도와 재현율 계산 공식\n",
    "- 정밀도 = TP / (FP + TP)\n",
    "- 재현율 = TP/ (FN + TP)\n",
    "\n",
    "\n",
    "재현율과 정밀도의 보완적 관계\n",
    "- 재현율과 정밀도 모두 TP를 높이는데 동일하게 초점을 맞추지만\n",
    "- 재현율은 FN(실제 Positive, 예측 Negative)을 낮추는데 초점을 맞추고\n",
    "- 정밀도는 FP(실제 Negative, 예측 Positive)를 낮추는데 초점을 맞출\n",
    "\n",
    "- 이 같은 특성 때문에 재현율과 정밀도는 서로 보완적인 지표로\n",
    "- 분류의 성능을 평가하눈데 적용\n",
    "\n",
    "- 가장 좋은 성능 평가는 재현율과 정밀도 모두 높은 수치를 얻는 것\n",
    "- 반면에 둘 중 어는 한 평가 지표만 매우 높고,\n",
    "- 다른 수치는 매우 낮은 결과를 나타내는 경우는 바람직하지 않음"
   ]
  },
  {
   "cell_type": "markdown",
   "metadata": {},
   "source": [
    "###  MyFakeClassifier의 예측 결과로 정밀도와 재현율 측정\n",
    "\n"
   ]
  },
  {
   "cell_type": "code",
   "execution_count": 61,
   "metadata": {},
   "outputs": [],
   "source": [
    "#  MNIST에서 정밀도, 재현율 확인\n",
    "# 정밀도와 재현율 계산을 위해 하나로 모아서 적용\n",
    "\n",
    "from sklearn.base import BaseEstimator\n",
    "from sklearn.model_selection import train_test_split\n",
    "from sklearn.metrics import accuracy_score\n",
    "from sklearn.datasets import load_digits\n",
    "import numpy as np\n",
    "import pandas as pd\n",
    "\n",
    "class MyFakeClassifier(BaseEstimator) :\n",
    "    # fit() 메서드는 아무것도 학습하지 않음\n",
    "    def fit(self, X, y):\n",
    "        pass\n",
    "    \n",
    "    # 입력값으로 들어오는 X 데이터 셋의 크기만큼 모두 0값으로 만들어서 반환\n",
    "    def predict(self, X):\n",
    "        return np.zeros((len(X), 1), dtype=bool)\n",
    "    \n",
    "# 데이터 로드\n",
    "digits = load_digits()\n",
    "\n",
    "# 7번이면 1, 아니면 0\n",
    "y = (digits.target == 7).astype(int)\n",
    "\n",
    "# 학습/테스트 데이터 세트로 분리 (디폴트 : 25%)\n",
    "X_train, X_test, y_train, y_test = train_test_split(digits.data, y, random_state=11)\n",
    "\n",
    "# MyFakeClassifier로 학습/예측\n",
    "fake_clf = MyFakeClassifier()\n",
    "fake_clf.fit(X_train, y_train)\n",
    "fakepred = fake_clf.predict(X_test)\n"
   ]
  },
  {
   "cell_type": "code",
   "execution_count": 63,
   "metadata": {},
   "outputs": [
    {
     "data": {
      "text/plain": [
       "0"
      ]
     },
     "execution_count": 63,
     "metadata": {},
     "output_type": "execute_result"
    }
   ],
   "source": [
    "# 참고 :fakepred 값 확인\n",
    "# fakepred : 모두 0으로 예측\n",
    "fakepred.sum() "
   ]
  },
  {
   "cell_type": "code",
   "execution_count": 66,
   "metadata": {},
   "outputs": [
    {
     "name": "stdout",
     "output_type": "stream",
     "text": [
      "정밀도 :  0.0\n",
      "재현율 :  0.0\n"
     ]
    },
    {
     "name": "stderr",
     "output_type": "stream",
     "text": [
      "C:\\Users\\TECH-29\\anaconda3\\lib\\site-packages\\sklearn\\metrics\\_classification.py:1221: UndefinedMetricWarning: Precision is ill-defined and being set to 0.0 due to no predicted samples. Use `zero_division` parameter to control this behavior.\n",
      "  _warn_prf(average, modifier, msg_start, len(result))\n"
     ]
    }
   ],
   "source": [
    "# 정밀도와 재현율 확인\n",
    "# 정밀도 계산 : precision_score(실제값, 예측값)\n",
    "# 재현율 계산 : recall_score(실제값, 예측값)\n",
    "from sklearn.metrics import accuracy_score, precision_score, recall_score\n",
    "\n",
    "print(\"정밀도 : \", precision_score(y_test, fakepred))\n",
    "print(\"재현율 : \", recall_score(y_test, fakepred))\n",
    "\n",
    "# 정밀도와 재현율 계산 공식\n",
    "# - 정밀도 = TP / (FP + TP)\n",
    "# - 재현율 = TP/ (FN + TP)\n",
    "# Positive로 예측한 값이 하나도 없음\n",
    "# 분자인 TP가 0이기 때문에 계산 결과 0"
   ]
  },
  {
   "cell_type": "markdown",
   "metadata": {},
   "source": [
    "### 타이타닉 데이터를 로지스틱 회귀로 분류 수행"
   ]
  },
  {
   "cell_type": "markdown",
   "metadata": {},
   "source": [
    "타이타닉 예제로 오차행렬, 정밀도, 재현율을 구해서 예측 성능 평가\n",
    "- 사이킷런 API 사용\n",
    "  - 정밀도 계산 : precision_score()\n",
    "  - 재현율 계산 : recall_score()\n",
    "  - 오차행렬 : confusion_matrix()"
   ]
  },
  {
   "cell_type": "markdown",
   "metadata": {},
   "source": [
    "평가를 간편 적용하기 위한 함수 작성\n",
    "- 정밀도, 재현율, 오차행렬 등의 평가를 한꺼번에 수행하는 함수"
   ]
  },
  {
   "cell_type": "code",
   "execution_count": 67,
   "metadata": {},
   "outputs": [],
   "source": [
    "from sklearn.metrics import precision_score, recall_score, accuracy_score, confusion_matrix\n",
    "\n",
    "def get_clf_eval(y_test, pred):\n",
    "    confusion = confusion_matrix(y_test, pred) # 오차행렬\n",
    "    accuracy = accuracy_score(y_test, pred)    # 정확도\n",
    "    precision = precision_score(y_test, pred) # 정밀도\n",
    "    recall = recall_score(y_test, pred)        # 재현율\n",
    "                                \n",
    "    print(\"오차 행렬\")\n",
    "    print(confusion)\n",
    "                                \n",
    "    print('정확도 : {0:.4f}, 정밀도: {1:.4f}, 재현율 : {2:.4f}'.format(accuracy, precision, recall))"
   ]
  },
  {
   "cell_type": "code",
   "execution_count": null,
   "metadata": {},
   "outputs": [],
   "source": [
    "# 타이타닉 데이터 세트 전처리 작업 내용\n",
    "from sklearn.preprocessing import LabelEncoder\n",
    "\n",
    "# Null 처리 함수\n",
    "def fillna(df):\n",
    "    df['Age'].fillna(df['Age'].mean(), inplace=True)\n",
    "    df['Cabin'].fillna('N', inplace=True)\n",
    "    df['Embarked'].fillna('N', inplace=True)\n",
    "    df['Fare'].fillna(0, inplace=True)\n",
    "    \n",
    "    return df\n",
    "\n",
    "# 머신러닝 알고리즘에 불필요한 속성 제거\n",
    "def drop_features(df):\n",
    "    df.drop(['PassengerId', 'Name', 'Ticket'], axis=1, inplace=True)\n",
    "    return df\n",
    "\n",
    "# 레이블 인코딩 수행 함수\n",
    "def format_features(df):\n",
    "    df['Cabin'] = df['Cabin'].str[:1] # 첫 문자만 추출\n",
    "    \n",
    "    features = ['Cabin', 'Sex', 'Embarked']\n",
    "    \n",
    "    for feature in features:\n",
    "        le = LabelEncoder()\n",
    "        le = le.fit(df[feature])\n",
    "        df[feature] = le.transform(df[feature])\n",
    "    \n",
    "    return df\n",
    "\n",
    "# 위에서 만든 모든 함수를 한 번에 호출해서 사용하기 위한\n",
    "# 함수 작성\n",
    "def transform_features(df):\n",
    "    df = fillna(df)\n",
    "    df = drop_features(df)\n",
    "    df = format_features(df)\n",
    "    \n",
    "    return df"
   ]
  },
  {
   "cell_type": "code",
   "execution_count": 70,
   "metadata": {},
   "outputs": [
    {
     "name": "stdout",
     "output_type": "stream",
     "text": [
      "오차 행렬\n",
      "[[104  14]\n",
      " [ 13  48]]\n",
      "정확도 : 0.8492, 정밀도: 0.7742, 재현율 : 0.7869\n"
     ]
    }
   ],
   "source": [
    "# 로지스틱 회귀 기반으로\n",
    "# 타이타닉 생존자 예측하고\n",
    "# 오차행렬, 정확도, 정밀도, 재현율 평가 수행\n",
    "\n",
    "import numpy as np\n",
    "import pandas as pd\n",
    "\n",
    "from sklearn.model_selection import train_test_split\n",
    "from sklearn.linear_model import LogisticRegression\n",
    "\n",
    "\n",
    "# 원본 데이터 재로딩, 데이터 가공, 학습/테스트 데이터 분할\n",
    "titanic_df = pd.read_csv('data/titanic/train.csv')\n",
    "y_titanic_df = titanic_df['Survived']\n",
    "X_titanic_df = titanic_df.drop('Survived', axis=1)\n",
    "X_titanic_df = transform_features(X_titanic_df)\n",
    "\n",
    "X_train, X_test, y_train, y_test = train_test_split(X_titanic_df, y_titanic_df, \\\n",
    "                                                    test_size=0.2, random_state=11)\n",
    "\n",
    "lr_clf = LogisticRegression(max_iter=4000)\n",
    "\n",
    "lr_clf.fit(X_train, y_train)\n",
    "pred = lr_clf.predict(X_test)\n",
    "get_clf_eval(y_test, pred)"
   ]
  },
  {
   "cell_type": "markdown",
   "metadata": {},
   "source": [
    "### 정밀도 / 재현율 트레이드 오프 (Trade-off)"
   ]
  },
  {
   "cell_type": "markdown",
   "metadata": {},
   "source": [
    "정밀도 / 재현율 트레이드 오프 (Trade-off)\n",
    "- 업무에 따라 정밀도/재현율 중요도 다름\n",
    "- 분류하려는 업무 특성상 정밀도 또는 재현율이 특별히 강조되어야 할 경우\n",
    "- 분류의 결정 임계값(Threshold)을 조정해서\n",
    "- 정밀도 또는 재현율의 수치를 높일 수 있음\n",
    "- 그러나 정밀도와 재현율은 상호 보완적인 평가 지표이기 때문에\n",
    "- 어느 한쪽을 강제로 높이면 다른 하나의 수치는 떨어지는데\n",
    "- 이를 정밀도/재현율의 트레이드 오프라고 함\n",
    "\n",
    "- 사이킷런에서는 분류 결정 임계값을 조절해서\n",
    "- 정밀도와 재현율의 성능 수치를 상호 보완적으로 조정 가능\n",
    "\n",
    "분류 결정 임계값\n",
    "- Positive 예측값을 결정하는 확률의 기준\n",
    "- 임계값을 낮출수록 True 값이 많아짐"
   ]
  },
  {
   "cell_type": "code",
   "execution_count": null,
   "metadata": {},
   "outputs": [],
   "source": [
    "사이킷런의 분류 알고리즘에서 결정 확률을 구하는 방식\n",
    "- 예측 데이터가 특정 레이블(결정 클래스 값)에 속하는지를 계산하기 위해\n",
    "- 먼저 개별 레이블 별로 결정 확률을 구하고\n",
    "- 예측 확률이 큰 레이블 값으로 예측 \n",
    "\n",
    "- 예: 이진 분류 모델\n",
    "    - 특정 데이터가 0이 될 확률 : 10%\n",
    "    - 1이 될 확률 : 90%로 예측한 경우\n",
    "    - 최종 예측은 더 큰 확률을 가진 1로 예측\n",
    "    \n",
    "- 일반적으로 이진 분류에서는 이 임계값을 0.5(50%)로 정하고\n",
    "- 기준값보다 확률이 크면 Positive\n",
    "- 작으면 Negative로 결정"
   ]
  },
  {
   "cell_type": "code",
   "execution_count": null,
   "metadata": {},
   "outputs": [],
   "source": [
    "사이킷런에서 개별 데이터 별로 예측 확률을 구하는 메서도\n",
    "- predict_proba()\n",
    "- 학습이 완료된 사이킷런 Classfier 객체에서 호출이 가능하고\n",
    "- 테스트 피처 데이터 세트를 파라미터로 입력하면\n",
    "- 테스트 피처 레코드의 개별 클래스 예측 확률 반환\n",
    "- predict() 메서드와 유사하지만\n",
    "- 반환 결과가 예측 결과 클래스 값이 아닌 예측 확률 결과\n",
    "\n",
    "predict() : 예측값 반환(0 또는 1)\n",
    "predict_proba() : 예측 확률 반환 (0.12344)    \n",
    "    "
   ]
  },
  {
   "cell_type": "code",
   "execution_count": null,
   "metadata": {},
   "outputs": [],
   "source": [
    "###  predict_proba() 메서드 확인\n",
    "타이타닉 생존자 데이터를 학습한 LogisticRegression 객체에서  \n",
    "predict_proba() 메서드를 수행한 뒤 반환 값 확인하고  \n",
    "prediec() 메서드와 결과 비교\n",
    "\n",
    "앞 예제에 이어서 코드 작성"
   ]
  },
  {
   "cell_type": "code",
   "execution_count": 72,
   "metadata": {},
   "outputs": [
    {
     "data": {
      "text/plain": [
       "array([[0.46229622, 0.53770378],\n",
       "       [0.87874129, 0.12125871],\n",
       "       [0.87717043, 0.12282957],\n",
       "       [0.88247007, 0.11752993],\n",
       "       [0.85523492, 0.14476508],\n",
       "       [0.88214616, 0.11785384],\n",
       "       [0.88847937, 0.11152063],\n",
       "       [0.20873209, 0.79126791],\n",
       "       [0.78276578, 0.21723422],\n",
       "       [0.36924035, 0.63075965],\n",
       "       [0.89971747, 0.10028253],\n",
       "       [0.87508961, 0.12491039],\n",
       "       [0.87716449, 0.12283551],\n",
       "       [0.88843381, 0.11156619],\n",
       "       [0.43682403, 0.56317597],\n",
       "       [0.85905385, 0.14094615],\n",
       "       [0.90374533, 0.09625467],\n",
       "       [0.73325843, 0.26674157],\n",
       "       [0.72469694, 0.27530306],\n",
       "       [0.17156233, 0.82843767],\n",
       "       [0.75344126, 0.24655874],\n",
       "       [0.618854  , 0.381146  ],\n",
       "       [0.85469419, 0.14530581],\n",
       "       [0.81457741, 0.18542259],\n",
       "       [0.88806592, 0.11193408],\n",
       "       [0.76534522, 0.23465478],\n",
       "       [0.85955392, 0.14044608],\n",
       "       [0.92584638, 0.07415362],\n",
       "       [0.71942684, 0.28057316],\n",
       "       [0.69543537, 0.30456463],\n",
       "       [0.05280315, 0.94719685],\n",
       "       [0.18291408, 0.81708592],\n",
       "       [0.87302609, 0.12697391],\n",
       "       [0.17377639, 0.82622361],\n",
       "       [0.60036068, 0.39963932],\n",
       "       [0.76534522, 0.23465478],\n",
       "       [0.92763285, 0.07236715],\n",
       "       [0.38930966, 0.61069034],\n",
       "       [0.9471097 , 0.0528903 ],\n",
       "       [0.89613718, 0.10386282],\n",
       "       [0.64864373, 0.35135627],\n",
       "       [0.91663622, 0.08336378],\n",
       "       [0.17839629, 0.82160371],\n",
       "       [0.29222526, 0.70777474],\n",
       "       [0.36970917, 0.63029083],\n",
       "       [0.369693  , 0.630307  ],\n",
       "       [0.08118137, 0.91881863],\n",
       "       [0.64109996, 0.35890004],\n",
       "       [0.05111153, 0.94888847],\n",
       "       [0.88803164, 0.11196836],\n",
       "       [0.40762839, 0.59237161],\n",
       "       [0.88843381, 0.11156619],\n",
       "       [0.86727703, 0.13272297],\n",
       "       [0.27459459, 0.72540541],\n",
       "       [0.69049301, 0.30950699],\n",
       "       [0.80293315, 0.19706685],\n",
       "       [0.77357666, 0.22642334],\n",
       "       [0.87716939, 0.12283061],\n",
       "       [0.84587589, 0.15412411],\n",
       "       [0.56710719, 0.43289281],\n",
       "       [0.71971672, 0.28028328],\n",
       "       [0.89931044, 0.10068956],\n",
       "       [0.45468679, 0.54531321],\n",
       "       [0.48499324, 0.51500676],\n",
       "       [0.5556633 , 0.4443367 ],\n",
       "       [0.90545027, 0.09454973],\n",
       "       [0.33351101, 0.66648899],\n",
       "       [0.40620393, 0.59379607],\n",
       "       [0.04820272, 0.95179728],\n",
       "       [0.85169429, 0.14830571],\n",
       "       [0.87119992, 0.12880008],\n",
       "       [0.83164017, 0.16835983],\n",
       "       [0.89613496, 0.10386504],\n",
       "       [0.05205247, 0.94794753],\n",
       "       [0.80123077, 0.19876923],\n",
       "       [0.88843381, 0.11156619],\n",
       "       [0.65201024, 0.34798976],\n",
       "       [0.81621794, 0.18378206],\n",
       "       [0.16438336, 0.83561664],\n",
       "       [0.87716939, 0.12283061],\n",
       "       [0.20533843, 0.79466157],\n",
       "       [0.35435649, 0.64564351],\n",
       "       [0.06878205, 0.93121795],\n",
       "       [0.8667891 , 0.1332109 ],\n",
       "       [0.05110903, 0.94889097],\n",
       "       [0.04973427, 0.95026573],\n",
       "       [0.84634589, 0.15365411],\n",
       "       [0.87452403, 0.12547597],\n",
       "       [0.12545737, 0.87454263],\n",
       "       [0.88843381, 0.11156619],\n",
       "       [0.88843381, 0.11156619],\n",
       "       [0.76534522, 0.23465478],\n",
       "       [0.7675191 , 0.2324809 ],\n",
       "       [0.88843381, 0.11156619],\n",
       "       [0.369693  , 0.630307  ],\n",
       "       [0.92432011, 0.07567989],\n",
       "       [0.07112887, 0.92887113],\n",
       "       [0.89933585, 0.10066415],\n",
       "       [0.49494056, 0.50505944],\n",
       "       [0.03492526, 0.96507474],\n",
       "       [0.49856366, 0.50143634],\n",
       "       [0.90556437, 0.09443563],\n",
       "       [0.05219029, 0.94780971],\n",
       "       [0.90250743, 0.09749257],\n",
       "       [0.47028036, 0.52971964],\n",
       "       [0.87168548, 0.12831452],\n",
       "       [0.85900718, 0.14099282],\n",
       "       [0.8516946 , 0.1483054 ],\n",
       "       [0.55088999, 0.44911001],\n",
       "       [0.89203406, 0.10796594],\n",
       "       [0.88286116, 0.11713884],\n",
       "       [0.89116648, 0.10883352],\n",
       "       [0.59677526, 0.40322474],\n",
       "       [0.34580038, 0.65419962],\n",
       "       [0.88806592, 0.11193408],\n",
       "       [0.92903805, 0.07096195],\n",
       "       [0.87553222, 0.12446778],\n",
       "       [0.80145946, 0.19854054],\n",
       "       [0.07403621, 0.92596379],\n",
       "       [0.93136905, 0.06863095],\n",
       "       [0.8884426 , 0.1115574 ],\n",
       "       [0.86911826, 0.13088174],\n",
       "       [0.93632925, 0.06367075],\n",
       "       [0.67829464, 0.32170536],\n",
       "       [0.9883973 , 0.0116027 ],\n",
       "       [0.8884426 , 0.1115574 ],\n",
       "       [0.88381677, 0.11618323],\n",
       "       [0.6831938 , 0.3168062 ],\n",
       "       [0.3225201 , 0.6774799 ],\n",
       "       [0.6783169 , 0.3216831 ],\n",
       "       [0.03492526, 0.96507474],\n",
       "       [0.54607037, 0.45392963],\n",
       "       [0.26464144, 0.73535856],\n",
       "       [0.55700362, 0.44299638],\n",
       "       [0.43049625, 0.56950375],\n",
       "       [0.64908165, 0.35091835],\n",
       "       [0.25151778, 0.74848222],\n",
       "       [0.81395324, 0.18604676],\n",
       "       [0.89611   , 0.10389   ],\n",
       "       [0.19648439, 0.80351561],\n",
       "       [0.09103453, 0.90896547],\n",
       "       [0.8516946 , 0.1483054 ],\n",
       "       [0.88196415, 0.11803585],\n",
       "       [0.89879743, 0.10120257],\n",
       "       [0.90841415, 0.09158585],\n",
       "       [0.33194674, 0.66805326],\n",
       "       [0.92436481, 0.07563519],\n",
       "       [0.76583447, 0.23416553],\n",
       "       [0.08200405, 0.91799595],\n",
       "       [0.83172741, 0.16827259],\n",
       "       [0.57076066, 0.42923934],\n",
       "       [0.36882802, 0.63117198],\n",
       "       [0.363734  , 0.636266  ],\n",
       "       [0.87722459, 0.12277541],\n",
       "       [0.22229026, 0.77770974],\n",
       "       [0.11938091, 0.88061909],\n",
       "       [0.51281863, 0.48718137],\n",
       "       [0.86711489, 0.13288511],\n",
       "       [0.24823579, 0.75176421],\n",
       "       [0.30971458, 0.69028542],\n",
       "       [0.85030213, 0.14969787],\n",
       "       [0.20695085, 0.79304915],\n",
       "       [0.90877188, 0.09122812],\n",
       "       [0.33357807, 0.66642193],\n",
       "       [0.62009898, 0.37990102],\n",
       "       [0.34901586, 0.65098414],\n",
       "       [0.11574789, 0.88425211],\n",
       "       [0.69043445, 0.30956555],\n",
       "       [0.90839503, 0.09160497],\n",
       "       [0.10702297, 0.89297703],\n",
       "       [0.88847937, 0.11152063],\n",
       "       [0.14589781, 0.85410219],\n",
       "       [0.74889015, 0.25110985],\n",
       "       [0.75969248, 0.24030752],\n",
       "       [0.59908616, 0.40091384],\n",
       "       [0.93771954, 0.06228046],\n",
       "       [0.85900022, 0.14099978],\n",
       "       [0.45524963, 0.54475037],\n",
       "       [0.37304547, 0.62695453]])"
      ]
     },
     "execution_count": 72,
     "metadata": {},
     "output_type": "execute_result"
    }
   ],
   "source": [
    "#lr_clf = LogisticRegression()\n",
    "# predict_proba(테스트 피처 데이터 세트) : 예측 확률 반환\n",
    "\n",
    "pred_proba = lr_clf.predict_proba(X_test)\n",
    "pred_proba\n",
    "\n",
    "#[[0이 될 확률 , 1이 될 확률]]\n",
    "#[[0.46229622, 0.53770378]]\n",
    "\n",
    "\n",
    "# predict_proba() 결과 설명 : 예측 확률 array\n",
    "# 첫 번째 칼럼은 0이 될 확률\n",
    "# 두 번째 칼럼은 1이 될 확률\n",
    "# 첫 번째 칼럼과 두 번째 칼럼 값을 더하면 1이 됨\n",
    "# 0.46229622 + 0.53770378 = 1"
   ]
  },
  {
   "cell_type": "code",
   "execution_count": 74,
   "metadata": {},
   "outputs": [
    {
     "data": {
      "text/plain": [
       "array([1, 0, 0, 0, 0, 0, 0, 1, 0, 1, 0, 0, 0, 0, 1, 0, 0, 0, 0, 1, 0, 0,\n",
       "       0, 0, 0, 0, 0, 0, 0, 0, 1, 1, 0, 1, 0, 0, 0, 1, 0, 0, 0, 0, 1, 1,\n",
       "       1, 1, 1, 0, 1, 0, 1, 0, 0, 1, 0, 0, 0, 0, 0, 0, 0, 0, 1, 1, 0, 0,\n",
       "       1, 1, 1, 0, 0, 0, 0, 1, 0, 0, 0, 0, 1, 0, 1, 1, 1, 0, 1, 1, 0, 0,\n",
       "       1, 0, 0, 0, 0, 0, 1, 0, 1, 0, 1, 1, 1, 0, 1, 0, 1, 0, 0, 0, 0, 0,\n",
       "       0, 0, 0, 1, 0, 0, 0, 0, 1, 0, 0, 0, 0, 0, 0, 0, 0, 0, 1, 0, 1, 0,\n",
       "       1, 0, 1, 0, 1, 0, 0, 1, 1, 0, 0, 0, 0, 1, 0, 0, 1, 0, 0, 1, 1, 0,\n",
       "       1, 1, 0, 0, 1, 1, 0, 1, 0, 1, 0, 1, 1, 0, 0, 1, 0, 1, 0, 0, 0, 0,\n",
       "       0, 1, 1], dtype=int64)"
      ]
     },
     "execution_count": 74,
     "metadata": {},
     "output_type": "execute_result"
    }
   ],
   "source": [
    "# predict(테스트 피처 데이터 세트) : 예측 결과 클래스 값(결정값) 반환\n",
    "pred = lr_clf.predict(X_test)\n",
    "pred"
   ]
  },
  {
   "cell_type": "code",
   "execution_count": 75,
   "metadata": {},
   "outputs": [
    {
     "name": "stdout",
     "output_type": "stream",
     "text": [
      "두 개의 class 중에서 더 큰 확률을 클래스 값으로 예측 \n",
      " [[0.46229622 0.53770378 1.        ]\n",
      " [0.87874129 0.12125871 0.        ]\n",
      " [0.87717043 0.12282957 0.        ]\n",
      " [0.88247007 0.11752993 0.        ]\n",
      " [0.85523492 0.14476508 0.        ]\n",
      " [0.88214616 0.11785384 0.        ]\n",
      " [0.88847937 0.11152063 0.        ]\n",
      " [0.20873209 0.79126791 1.        ]\n",
      " [0.78276578 0.21723422 0.        ]\n",
      " [0.36924035 0.63075965 1.        ]\n",
      " [0.89971747 0.10028253 0.        ]\n",
      " [0.87508961 0.12491039 0.        ]\n",
      " [0.87716449 0.12283551 0.        ]\n",
      " [0.88843381 0.11156619 0.        ]\n",
      " [0.43682403 0.56317597 1.        ]]\n"
     ]
    }
   ],
   "source": [
    "# 예측 확률 array와 예측 결과값 array를\n",
    "# concatenate() 사용해서 \n",
    "# 예측 확률과 결과값을 한 눈에 확인\n",
    "pred_proba_result = np.concatenate([pred_proba, pred.reshape(-1,1)], axis=1)\n",
    "print('두 개의 class 중에서 더 큰 확률을 클래스 값으로 예측 \\n', pred_proba_result[:15])"
   ]
  },
  {
   "cell_type": "code",
   "execution_count": null,
   "metadata": {},
   "outputs": [],
   "source": [
    "predict() / predict_proba() 메서드 관계\n",
    "- predict()는 predict_proba()에 기반해서 생성\n",
    "- predict_proba() 호출 결과로 반환된 배열에서\n",
    "- 분류 결정 임계값보다 큰 값이 들어 있는 칼럼의 위치를 받아서\n",
    "- 최종적으로 예측 클래스(결정값) 결정"
   ]
  },
  {
   "cell_type": "markdown",
   "metadata": {},
   "source": [
    "### Binarizer 클래스 활용"
   ]
  },
  {
   "cell_type": "markdown",
   "metadata": {},
   "source": [
    "사이킷런의 Binarizer 클래스 이용해서    \n",
    "분류 결정 임계값을 조절하여    \n",
    "정밀도와 재현율의 성능 수치를 상호 보완적으로 조정 가능    "
   ]
  },
  {
   "cell_type": "markdown",
   "metadata": {},
   "source": [
    "Binarizer 클래스 이용 예측값 변환 예제\n",
    "\n",
    " - 임계값(threshold) 변수를 특정 값으로 설정하고\n",
    " - Binarizer 클래스의 fit_transform() 메서드를 이용해서\n",
    " - 넘파이 ndarray 입력 값을 지정 threshold 보다 같거나 작으면 0값으로,\n",
    " - 크면 1값으로 변환해서 반환"
   ]
  },
  {
   "cell_type": "code",
   "execution_count": 76,
   "metadata": {},
   "outputs": [
    {
     "name": "stdout",
     "output_type": "stream",
     "text": [
      "[[0. 0. 1.]\n",
      " [1. 0. 0.]\n",
      " [0. 0. 1.]]\n"
     ]
    }
   ],
   "source": [
    "from sklearn.preprocessing import Binarizer\n",
    "X = [[1, -1, 2],\n",
    "     [2, 0, 0],\n",
    "     [0, 1.1, 1.2]]\n",
    "\n",
    "# threshold 기준값보다 작으면 0, 크면 1 반환\n",
    "binarizer = Binarizer(threshold=1.1)\n",
    "print(binarizer.fit_transform(X))"
   ]
  },
  {
   "cell_type": "markdown",
   "metadata": {},
   "source": [
    "### 분류 결정 임계값 0.5 기반에서 Binarizer를 이용해서 예측값 변환"
   ]
  },
  {
   "cell_type": "code",
   "execution_count": 77,
   "metadata": {},
   "outputs": [
    {
     "name": "stdout",
     "output_type": "stream",
     "text": [
      "오차 행렬\n",
      "[[104  14]\n",
      " [ 13  48]]\n",
      "정확도 : 0.8492, 정밀도: 0.7742, 재현율 : 0.7869\n"
     ]
    }
   ],
   "source": [
    "from sklearn.preprocessing import Binarizer\n",
    "\n",
    "# Binarizer의 threshold 값을 0.5로 설정\n",
    "custom_threshold = 0.5\n",
    "\n",
    "# predict_proba() 반환값([0확률   1확률])의 두 번째 칼럼\n",
    "# 즉, Positive 클래스 칼럼 하나만 추출해서 Binarizer를 적용\n",
    "pred_proba_1 = pred_proba[:, 1].reshape(-1,1)\n",
    "\n",
    "binarizer = Binarizer(threshold=custom_threshold).fit(pred_proba_1)\n",
    "custom_predict = binarizer.transform(pred_proba_1)\n",
    "\n",
    "get_clf_eval(y_test, custom_predict)\n",
    "\n",
    "# 앞에서 predict()로 구한 결과와 동일"
   ]
  },
  {
   "cell_type": "markdown",
   "metadata": {},
   "source": [
    "### 분류 결정 임계값을 0.4로 변경"
   ]
  },
  {
   "cell_type": "code",
   "execution_count": 84,
   "metadata": {},
   "outputs": [
    {
     "name": "stdout",
     "output_type": "stream",
     "text": [
      "오차 행렬\n",
      "[[98 20]\n",
      " [10 51]]\n",
      "정확도 : 0.8324, 정밀도: 0.7183, 재현율 : 0.8361\n"
     ]
    }
   ],
   "source": [
    "# Binarizer의 threshold 값을 0.4로 변경\n",
    "custom_threshold = 0.4\n",
    "\n",
    "# predict_proba() 반환값([0확률   1확률])의 두 번째 칼럼\n",
    "# 즉, Positive 클래스 칼럼 하나만 추출해서 Binarizer를 적용\n",
    "pred_proba_1 = pred_proba[:, 1].reshape(-1,1)\n",
    "\n",
    "binarizer = Binarizer(threshold=custom_threshold).fit(pred_proba_1)\n",
    "custom_predict = binarizer.transform(pred_proba_1)\n",
    "\n",
    "get_clf_eval(y_test, custom_predict)\n",
    "\n",
    "# 결과\n",
    "# 임계값을 낮추니까 정밀도는 떨어지고 재현율 값은 올라감\n",
    "# 이유\n",
    "# 분류 결정 임계값은 Positive 예측값을 결정하는 확률의 기준이 되는데\n",
    "# 확률이 0.5가 아닌 0.4부터 Positive로 예측을 더 너그럽게 하기 때문에\n",
    "# 임계값을 낮출수록 True 값이 많아지게 됨\n",
    "\n"
   ]
  },
  {
   "cell_type": "markdown",
   "metadata": {},
   "source": [
    "### 여러 개의 분류 결정 임계값을 변경하면서 Bin arizer를 이용하여 예측값 변환"
   ]
  },
  {
   "cell_type": "code",
   "execution_count": 85,
   "metadata": {},
   "outputs": [
    {
     "name": "stdout",
     "output_type": "stream",
     "text": [
      "\n",
      "임계값 :  0.4\n",
      "오차 행렬\n",
      "[[98 20]\n",
      " [10 51]]\n",
      "정확도 : 0.8324, 정밀도: 0.7183, 재현율 : 0.8361\n",
      "\n",
      "임계값 :  0.45\n",
      "오차 행렬\n",
      "[[103  15]\n",
      " [ 12  49]]\n",
      "정확도 : 0.8492, 정밀도: 0.7656, 재현율 : 0.8033\n",
      "\n",
      "임계값 :  0.5\n",
      "오차 행렬\n",
      "[[104  14]\n",
      " [ 13  48]]\n",
      "정확도 : 0.8492, 정밀도: 0.7742, 재현율 : 0.7869\n",
      "\n",
      "임계값 :  0.55\n",
      "오차 행렬\n",
      "[[109   9]\n",
      " [ 15  46]]\n",
      "정확도 : 0.8659, 정밀도: 0.8364, 재현율 : 0.7541\n",
      "\n",
      "임계값 :  0.6\n",
      "오차 행렬\n",
      "[[112   6]\n",
      " [ 16  45]]\n",
      "정확도 : 0.8771, 정밀도: 0.8824, 재현율 : 0.7377\n"
     ]
    }
   ],
   "source": [
    "# 테스트를 수행할 모든 임계값 리스트 생성\n",
    "thresholds = [0.4, 0.45, 0.50, 0.55, 0.60]\n",
    "\n",
    "def get_eval_by_threshold(y_test, pred_proba_c1, thresholds):\n",
    "    # thresholds 리스트 값을 차례로 반복하면서 평가 수행\n",
    "    for custom_threshold in thresholds:\n",
    "        binarizer = Binarizer(threshold=custom_threshold).fit(pred_proba_c1)\n",
    "        custom_predict = binarizer.transform(pred_proba_c1)\n",
    "        \n",
    "        print('\\n임계값 : ', custom_threshold)\n",
    "        \n",
    "        # 위에서 만든 평가 함수 호출\n",
    "        get_clf_eval(y_test, custom_predict)\n",
    "        \n",
    "get_eval_by_threshold(y_test, pred_proba[:,1].reshape(-1,1), thresholds)     \n",
    "\n",
    "# 결과\n",
    "# 정밀도/재현율 트레이드 오프\n",
    "# 한 쪽을 향상시키려면 다른 수치가 감소하니까 적당한 수치 선택\n",
    "# 재현율을 높이려면 임계값 0.45가 적당\n",
    "\n",
    "# 0.4일때 재현형이 더 높지만 정밀도가 너무 낮으니까\n",
    "# 정밀도를 약간 높여서 임계값 0.45를 선택\n",
    "\n",
    "# 그 이상은 재현율이 너무 낮아짐"
   ]
  },
  {
   "cell_type": "markdown",
   "metadata": {},
   "source": [
    "###  precision_recall_curve() 이용하여 임계값에 다른 정밀도-재현율 값 추출"
   ]
  },
  {
   "cell_type": "markdown",
   "metadata": {},
   "source": [
    "precision_recall_curve(실제값, 레이블 값이 1일 때의 예측 확률값)\n",
    "- 정밀도, 재현율, 임계값을 ndarray로 반환\n",
    "- 임계값 : 일반적으로 0.11 ~ 0.95 범위\n",
    "- 정밀도와 재현율의 임계값에 따른 값 변화를 구선 형태의 그래프로 시각화하는데 이용\n",
    "\n",
    "예제\n",
    "- 반환되는 임계값이 너무 작은 값 단위로 많이 구성되어 있음\n",
    "- 반횐 임계값의 데이터 143건인데\n",
    "- 임계값을 15단계로 해서 샘플로 10건만 추출\n",
    "- 좀 더 큰 값의 임계값와 그때의 정밀도/재현율 확인"
   ]
  },
  {
   "cell_type": "code",
   "execution_count": 91,
   "metadata": {},
   "outputs": [
    {
     "name": "stdout",
     "output_type": "stream",
     "text": [
      "반환된 분류 결정 임계값 배열의 shape :  (143,)\n",
      "반환된 precisions 배열의 shape :  (144,)\n",
      "반환된 recalls 배열의 shape :  (144,)\n",
      "\n",
      "thresholds 5 sample :  [0.10386282 0.10386504 0.10389    0.10796594 0.10883352]\n",
      "precisions 5 sample :  [0.38853503 0.38461538 0.38709677 0.38961039 0.38562092]\n",
      "recalls 5 sample :  [1.         0.98360656 0.98360656 0.98360656 0.96721311]\n"
     ]
    }
   ],
   "source": [
    "from sklearn.metrics import precision_recall_curve\n",
    "# 레이블 값이 1일때의 예측 확률 추출\n",
    "prd_proba_class1 = lr_clf.predict_proba(X_test)[:, 1]\n",
    "prd_proba_class1\n",
    "\n",
    "# 실제값 데이터 셋과 레이블 값이 1일 때의 예측 확률을 precision_recall_curve() 인자로 입력\n",
    "precisions, recalls, thresholds = precision_recall_curve(y_test, prd_proba_class1)\n",
    "\n",
    "print('반환된 분류 결정 임계값 배열의 shape : ', thresholds.shape)\n",
    "print('반환된 precisions 배열의 shape : ', precisions.shape)\n",
    "print('반환된 recalls 배열의 shape : ', recalls.shape)\n",
    "\n",
    "print('\\nthresholds 5 sample : ', thresholds[:5])\n",
    "print('precisions 5 sample : ', precisions[:5])\n",
    "print('recalls 5 sample : ', recalls[:5])\n"
   ]
  },
  {
   "cell_type": "code",
   "execution_count": 92,
   "metadata": {},
   "outputs": [
    {
     "name": "stdout",
     "output_type": "stream",
     "text": [
      "샘플 추출을 위한 임계값 배열의 index 10개 :  [  0  15  30  45  60  75  90 105 120 135]\n",
      "샘플용 10개의 임계값 :  [0.1  0.12 0.14 0.19 0.28 0.4  0.56 0.67 0.82 0.95]\n",
      "샘플 임계값 정밀도 :  [0.389 0.44  0.466 0.539 0.647 0.729 0.836 0.949 0.958 1.   ]\n",
      "샘플 임계값 재현율 :  [1.    0.967 0.902 0.902 0.902 0.836 0.754 0.607 0.377 0.148]\n"
     ]
    }
   ],
   "source": [
    "# 반환된 임계값 배열 행이 143건으로\n",
    "# 임계값을 15단계로 해서 샘플로 10건 추출\n",
    "thr_index = np.arange(0, thresholds.shape[0], 15)\n",
    "print('샘플 추출을 위한 임계값 배열의 index 10개 : ', thr_index)\n",
    "print('샘플용 10개의 임계값 : ', np.round(thresholds[thr_index], 2))\n",
    "\n",
    "# 15단계 단위로 추출된 임계값에 따른 정밀도와 재현율 값 출력\n",
    "print('샘플 임계값 정밀도 : ', np.round(precisions[thr_index], 3))\n",
    "print('샘플 임계값 재현율 : ', np.round(recalls[thr_index], 3))\n",
    "\n",
    "# 결과\n",
    "# 임계값이 증가할수록\n",
    "# 정밀도 값은 같이 높아지지만\n",
    "# 재현율 값은 낮아짐 "
   ]
  },
  {
   "cell_type": "code",
   "execution_count": 98,
   "metadata": {},
   "outputs": [
    {
     "data": {
      "text/plain": [
       "array([0, 3, 6, 9])"
      ]
     },
     "execution_count": 98,
     "metadata": {},
     "output_type": "execute_result"
    }
   ],
   "source": [
    "import numpy as np\n",
    "k = np.arange(0,10, 3)\n",
    "k"
   ]
  },
  {
   "cell_type": "markdown",
   "metadata": {},
   "source": [
    "### 임계값의 변화에 따른 정밀도-재현율 변환 곡선을 그래프로 표현"
   ]
  },
  {
   "cell_type": "code",
   "execution_count": 102,
   "metadata": {},
   "outputs": [
    {
     "data": {
      "image/png": "[encoded data removed]",
      "text/plain": [
       "<Figure size 576x432 with 1 Axes>"
      ]
     },
     "metadata": {
      "needs_background": "light"
     },
     "output_type": "display_data"
    }
   ],
   "source": [
    "import matplotlib.pyplot as plt\n",
    "import matplotlib.ticker as ticker\n",
    "%matplotlib inline\n",
    "\n",
    "def precision_recall_curve_plot(y_test, pred_proba_c1):\n",
    "    precisions, recalls, thresholds = precision_recall_curve(y_test, prd_proba_class1)\n",
    "    \n",
    "    # X축을 thresholds 값, Y축은 정밀도, 재현율 값으로 각각 Plot 수행\n",
    "    plt.figure(figsize=(8,6))\n",
    "    threshold_boundary = thresholds.shape[0] # (143, 0)에서 143 추출\n",
    "    \n",
    "     # thresholds는 143이고, precisions과 recalls는 144로 X축과 Y축 값의 개수 가 맞이 낳으므로\n",
    "    # 이 precisions과 recalls 갓으로 그래프를 그리면 오류 발생\n",
    "    # y 값을 [0:threshold_boundary]로 143개 추출해서 X축 개수와 맞춤\n",
    "    plt.plot(thresholds, precisions[0:threshold_boundary], linestyle='--', label='precision')\n",
    "    \n",
    "    plt.plot(thresholds, recalls[0:threshold_boundary], label='recall')\n",
    "    \n",
    "    # threshold 값 X축의 Scaledmf 0.1 단위로 변경\n",
    "    # xlim() : X축 범위를 지정하거나 반환\n",
    "    start, end = plt.xlim() # X축 범위 반환\n",
    "    plt.xticks(np.round(np.arange(start, end, 0.1), 2))\n",
    "    \n",
    "    \n",
    "     # X축, Y축 label과 legend, grid 설정\n",
    "    plt.xlabel('Threshold Value')\n",
    "    plt.ylabel('Precision and Recall Value')\n",
    "    plt.legend(); plt.grid()\n",
    "    plt.show()\n",
    "    \n",
    "    \n",
    "precision_recall_curve_plot(y_test, lr_clf.predict_proba(X_test)[:, 1])        "
   ]
  },
  {
   "cell_type": "markdown",
   "metadata": {},
   "source": [
    "정밀도와 재현율 조합\n",
    "- Positive 예측의 임계값에 따라 정밀도와 재현율 수치가 변경\n",
    "- 임계값은 업무 환경에 맞춰 정밀도와 재현율의 수치를 상호 보완할 수 있는 수준에서 적용\n",
    "- 단순히 하나의 성능 지표 수치를 높이기 위한 수단으로 사용돼서는 안됨\n",
    "\n",
    "- 정밀도 또는 재현율 중 하나에 상대적인 중요도를 부여해\n",
    "- 각 예측 상황에 맞는 분류 알고리즘율 튜닝할 수는 있지만\n",
    "- 정밀도와 재현율 성능 수치를 어느 한쪽만 참조하면 극단적인 수치 조작 가능"
   ]
  },
  {
   "cell_type": "code",
   "execution_count": null,
   "metadata": {},
   "outputs": [],
   "source": [
    "정밀도를 100%로 만드는 법\n",
    "- 확실한 기준이 되는 경우만 Positive로 예측하고\n",
    "- 나머지는 모두 Negative로 예측\n",
    "- 전체 환자 1,000 명 중 확실한 Positive 징후만 가진 환자는 단 1명이라고 하면\n",
    "- 한 명만 Positive로 예측하고 나머지는 모두 Negaitve로 예측할 경우\n",
    "- 정밀도 = TP/(FP+TP)에서\n",
    "- FP는 0, TP는 1\n",
    "- 정밀도는 1/(0+1)= 1로 100%가 됨"
   ]
  },
  {
   "cell_type": "code",
   "execution_count": null,
   "metadata": {},
   "outputs": [],
   "source": [
    "분류의 종합적인 성능 평가에 사용하기 위해서는\n",
    "정밀도와 재현율의 수치를 적절하게 조합하는 것이 필요함"
   ]
  },
  {
   "cell_type": "markdown",
   "metadata": {},
   "source": [
    "## F1 Score"
   ]
  },
  {
   "cell_type": "markdown",
   "metadata": {},
   "source": [
    "F1 Score\n",
    "\n",
    "- 정밀도와 재현율을 결합한 지표\n",
    "- 정밀도와 재현율이 어느 한쪽으로 치우치지 않는 수치를 나타낼때\n",
    "- 높은 값을 가짐"
   ]
  },
  {
   "cell_type": "code",
   "execution_count": null,
   "metadata": {},
   "outputs": [],
   "source": [
    "예: 2개의 예측 모델 비교\n",
    "    \n",
    "A 예측 모델\n",
    "- 정밀도 : 0.9\n",
    "- 재현율 : 0.1 (극단적 차이)\n",
    "- F1 스코어 : 0.18\n",
    "    \n",
    "B 예측 모델\n",
    "- 정밀도 : 0.5\n",
    "- 재현율 : 0.5 (큰 차이 없음)\n",
    "- F1 스코어 : 0.5\n",
    " \n",
    "B 모델의 F1 스코어가 A 모델에 비해 매우 우수"
   ]
  },
  {
   "cell_type": "code",
   "execution_count": 103,
   "metadata": {},
   "outputs": [
    {
     "name": "stdout",
     "output_type": "stream",
     "text": [
      "F1 스코어 : 0.7805\n"
     ]
    }
   ],
   "source": [
    "# 사이킷런의 F1 스코어 API f1_score()\n",
    "from sklearn.metrics import f1_score\n",
    "\n",
    "f1 = f1_score(y_test, pred)\n",
    "print('F1 스코어 : {0:.4f}'.format(f1))"
   ]
  },
  {
   "cell_type": "markdown",
   "metadata": {},
   "source": [
    "타이타닉 생존자 예측에서 임계값을 변화시면서\n",
    "F1 스코어를 포함한 평가 지표 구하기"
   ]
  },
  {
   "cell_type": "code",
   "execution_count": 105,
   "metadata": {
    "scrolled": true
   },
   "outputs": [
    {
     "name": "stdout",
     "output_type": "stream",
     "text": [
      "\n",
      "임계값 :  0.4\n",
      "오차 행렬\n",
      "[[98 20]\n",
      " [10 51]]\n",
      "정확도 : 0.8324, 정밀도: 0.7183, 재현율 : 0.8361, F1 : 0.7727\n",
      "\n",
      "임계값 :  0.45\n",
      "오차 행렬\n",
      "[[103  15]\n",
      " [ 12  49]]\n",
      "정확도 : 0.8492, 정밀도: 0.7656, 재현율 : 0.8033, F1 : 0.7840\n",
      "\n",
      "임계값 :  0.5\n",
      "오차 행렬\n",
      "[[104  14]\n",
      " [ 13  48]]\n",
      "정확도 : 0.8492, 정밀도: 0.7742, 재현율 : 0.7869, F1 : 0.7805\n",
      "\n",
      "임계값 :  0.55\n",
      "오차 행렬\n",
      "[[109   9]\n",
      " [ 15  46]]\n",
      "정확도 : 0.8659, 정밀도: 0.8364, 재현율 : 0.7541, F1 : 0.7931\n",
      "\n",
      "임계값 :  0.6\n",
      "오차 행렬\n",
      "[[112   6]\n",
      " [ 16  45]]\n",
      "정확도 : 0.8771, 정밀도: 0.8824, 재현율 : 0.7377, F1 : 0.8036\n"
     ]
    }
   ],
   "source": [
    "def get_clf_eval(y_test, pred):\n",
    "    confusion = confusion_matrix(y_test, pred) # 오차행렬\n",
    "    accuracy = accuracy_score(y_test, pred)    # 정확도\n",
    "    precision = precision_score(y_test, pred) # 정밀도\n",
    "    recall = recall_score(y_test, pred)        # 재현율\n",
    "    \n",
    "    # F1 스코어 추가\n",
    "    f1 = f1_score(y_test, pred)\n",
    "    \n",
    "    print(\"오차 행렬\")\n",
    "    print(confusion)\n",
    "                                \n",
    "    print('정확도 : {0:.4f}, 정밀도: {1:.4f}, 재현율 : {2:.4f}, F1 : {3:.4f}'.format(accuracy, precision, recall, f1))\n",
    "    \n",
    "# 임계값을 0.4~0.6 별로 정확도, 정밀도, 재현율, F1 스코어 확인\n",
    "thresholds = [0.4, 0.45, 0.50, 0.55, 0.60]\n",
    "pred_proba = lr_clf.predict_proba(X_test)\n",
    "get_eval_by_threshold(y_test, pred_proba[:, 1].reshape(-1,1), thresholds)"
   ]
  },
  {
   "cell_type": "markdown",
   "metadata": {},
   "source": [
    "### ROC Curve와 AUC"
   ]
  },
  {
   "cell_type": "code",
   "execution_count": null,
   "metadata": {},
   "outputs": [],
   "source": [
    "ROC 곡선  \n",
    "- FPR(False Positive Rate)이 변할 때 TPR(True Positie Rate)이 어떻게 변하는지를 나타내는 곡선\n",
    "- 양성으로 잘못 판단한 것에 대한 진짜 양성의 비율을 나타내는 곡선"
   ]
  },
  {
   "cell_type": "code",
   "execution_count": null,
   "metadata": {},
   "outputs": [],
   "source": [
    "ROC(Receiver Operation Characterisic Curve)\n",
    "- 임계값을 1부터 0까지 변화시키면서 FPR(X축)을 구하고\n",
    "- FPR(X축)의 변화에 따른 TPR(Y축)을 구하는 곡선\n",
    "- 머신러닝의 이진 분류 모델의 예측 성능을 판단하는 평가 지표\n",
    "\n",
    "TPR(True Positie Rate) : 재현율(민감도)\n",
    "- 실제 Positive를 Positive로 예측한 비율\n",
    "- 질병이 있는 사람을 질병이 있는 것으로 양성 판정\n",
    "- 값이 클수록 좋음 (양성을 잘 예측)\n",
    "\n",
    "FPR(False Positive Rate)\n",
    "- 실제는 Negative인데 Positive로 잘못 예측한 비율\n",
    "- 1 - 특이성\n",
    "\n",
    "TNR(True Negative Rate) : 특이성 (Specificity)\n",
    "- 실제 음성인데 음성으로 예측한 비율\n",
    "- 질병이 없는 사람을 질병이 없는 것으로 음성 판정\n",
    "- 값이 클수록 좋음 (음성을 잘 예측)"
   ]
  },
  {
   "cell_type": "code",
   "execution_count": null,
   "metadata": {},
   "outputs": [],
   "source": [
    "사이킷런의 roc_curve() APi 이용해서  \n",
    "타이타닉 생존자 예측 모델의 FPR, TPR, 임계값 구하기  \n",
    "\n",
    "정밀도와 재현율에서 학습한 LogisticRegression의 predic_proba() 결과 이용  \n",
    "\n",
    "roc_curve(실제 데이터, 예측 확률)  \n",
    "- FPR, TRP, thresholds 반환  "
   ]
  },
  {
   "cell_type": "code",
   "execution_count": 106,
   "metadata": {},
   "outputs": [
    {
     "name": "stdout",
     "output_type": "stream",
     "text": [
      "샘플 추출을 위한 임계값 배열의 index :  [ 0  5 10 15 20 25 30 35 40 45 50]\n",
      "샘플임계값 :  [1.97 0.75 0.63 0.59 0.49 0.4  0.35 0.23 0.13 0.12 0.11]\n",
      "샘플 임계값 FPR :  [0.    0.017 0.034 0.051 0.127 0.161 0.203 0.331 0.585 0.636 0.797]\n",
      "샘플 임계값 TPR :  [0.    0.475 0.689 0.754 0.787 0.836 0.869 0.902 0.918 0.967 0.967]\n"
     ]
    }
   ],
   "source": [
    "from sklearn.metrics import roc_curve\n",
    "\n",
    "# 레이블 값이 1일때의 예측 확률 추출\n",
    "prd_proba_class1 = lr_clf.predict_proba(X_test)[:, 1]\n",
    "\n",
    "fprs, tprs, thresholds = roc_curve(y_test, prd_proba_class1)\n",
    "\n",
    "thr_index = np.arange(0, thresholds.shape[0], 5)\n",
    "print('샘플 추출을 위한 임계값 배열의 index : ', thr_index)\n",
    "print('샘플임계값 : ', np.round(thresholds[thr_index], 2))\n",
    "\n",
    "# 5단계 단위로 추출된 임계값에 따른 FPR, TPR 값 출력\n",
    "print('샘플 임계값 FPR : ', np.round(fprs[thr_index], 3))\n",
    "print('샘플 임계값 TPR : ', np.round(tprs[thr_index], 3))\n",
    "\n",
    "# 결과\n",
    "# 임계값이 1에 가까운 값에서 점점 작아지면서 FPR이 점점 커짐\n",
    "# FPR이 조금씩 커질 때 TPR은 가파르게 증가 "
   ]
  },
  {
   "cell_type": "markdown",
   "metadata": {},
   "source": [
    "### FPR의 변화에 따른 TPR의 변화를 ROC 곡선으로 시각화"
   ]
  },
  {
   "cell_type": "code",
   "execution_count": 107,
   "metadata": {},
   "outputs": [
    {
     "data": {
      "image/png": "[encoded data removed]",
      "text/plain": [
       "<Figure size 432x288 with 1 Axes>"
      ]
     },
     "metadata": {
      "needs_background": "light"
     },
     "output_type": "display_data"
    }
   ],
   "source": [
    "def roc_curve_plot(y_test , pred_proba_c1):\n",
    "    # 임곗값에 따른 FPR, TPR 값을 반환 받음. \n",
    "    fprs , tprs , thresholds = roc_curve(y_test ,pred_proba_c1)\n",
    "\n",
    "    # ROC Curve를 plot 곡선으로 그림. \n",
    "    plt.plot(fprs , tprs, label='ROC')\n",
    "    # 가운데 대각선 직선을 그림. \n",
    "    plt.plot([0, 1], [0, 1], 'k--', label='Random')\n",
    "    \n",
    "    # FPR X 축의 Scale을 0.1 단위로 변경, X,Y 축명 설정등   \n",
    "    start, end = plt.xlim()\n",
    "    plt.xticks(np.round(np.arange(start, end, 0.1),2))\n",
    "    plt.xlim(0,1); plt.ylim(0,1)\n",
    "    plt.xlabel('FPR( 1 - Sensitivity )'); plt.ylabel('TPR( Recall )')\n",
    "    plt.legend()\n",
    "    plt.show()\n",
    "    \n",
    "roc_curve_plot(y_test, lr_clf.predict_proba(X_test)[:, 1] )\n",
    "\n",
    "# 그래프 설명\n",
    "# 일반적으로 곡선 자체는 RPR과 TRP의 변화값을 보든데 이용하고\n",
    "# 분류의 성능 지표로 사용되는 것은 ROC 곡선 면적에 기반한 AUC 값으로 결정\n",
    "# AUC(Area Under Curve) 값은 ROC 곡선 밑의 면적을 구한 것으로\n",
    "# 일반적으로 1에 가까울수록 좋음\n",
    "# AUC 수치가 커지려면 FPR이 작은 상태에서 얼마나 큰 TPR을 얻을 수 있느냐가 관건\n",
    "# 가운데 직선에서 멀어지고 왼족 상단 모서리 쪽으로 가파르게 곡선이 이동할 수록\n",
    "# 직사각형에 가까운 곡선이 되어 면적이 1에 가까워지는\n",
    "# 좋은 ROC AUC 성능 수치를 얻게 됨\n",
    "# 가운데 직선은 랜덤 수준의 이진 분류 AUC 값으로 0.5\n",
    "# 따라서 보통의 분류는 0.5이상의 AUC 값을 가짐"
   ]
  },
  {
   "cell_type": "code",
   "execution_count": null,
   "metadata": {},
   "outputs": [],
   "source": []
  }
 ],
 "metadata": {
  "kernelspec": {
   "display_name": "Python 3",
   "language": "python",
   "name": "python3"
  },
  "language_info": {
   "codemirror_mode": {
    "name": "ipython",
    "version": 3
   },
   "file_extension": ".py",
   "mimetype": "text/x-python",
   "name": "python",
   "nbconvert_exporter": "python",
   "pygments_lexer": "ipython3",
   "version": "3.8.3"
  },
  "toc": {
   "base_numbering": 1,
   "nav_menu": {},
   "number_sections": true,
   "sideBar": true,
   "skip_h1_title": false,
   "title_cell": "Table of Contents",
   "title_sidebar": "Contents",
   "toc_cell": false,
   "toc_position": {},
   "toc_section_display": true,
   "toc_window_display": false
  }
 },
 "nbformat": 4,
 "nbformat_minor": 4
}
