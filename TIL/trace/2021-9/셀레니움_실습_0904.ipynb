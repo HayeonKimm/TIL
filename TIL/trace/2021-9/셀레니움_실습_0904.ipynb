{
 "cells": [
  {
   "cell_type": "markdown",
   "id": "df4f62a5",
   "metadata": {},
   "source": [
    "# 셀리니움 실습 0904"
   ]
  },
  {
   "cell_type": "code",
   "execution_count": 1,
   "id": "f7ac149e",
   "metadata": {},
   "outputs": [],
   "source": [
    "from bs4 import BeautifulSoup\n",
    "import requests\n",
    "import pandas as pd\n",
    "import datetime\n",
    "\n",
    "from selenium import webdriver\n",
    "import time"
   ]
  },
  {
   "cell_type": "code",
   "execution_count": 2,
   "id": "43b3db34",
   "metadata": {},
   "outputs": [
    {
     "name": "stdout",
     "output_type": "stream",
     "text": [
      " C 드라이브의 볼륨에는 이름이 없습니다.\n",
      " 볼륨 일련 번호: 3C26-45E0\n",
      "\n",
      " C:\\Users\\cityo\\Desktop\\Git_Space\\jupyter\\ㅋㅋ 디렉터리\n",
      "\n",
      "2021-09-04  오후 07:10    <DIR>          .\n",
      "2021-09-04  오후 07:10    <DIR>          ..\n",
      "2021-09-04  오후 07:11    <DIR>          .ipynb_checkpoints\n",
      "2021-09-04  오후 07:03            21,714 20210701_01_데이터수집_selenium-checkpoint.ipynb\n",
      "2021-09-04  오후 07:07             5,974 20210701_02_데이터수집_coffeebean(자바스크립트)-checkpoint.ipynb\n",
      "2021-07-18  오전 02:50        11,177,472 chromedriver.exe\n",
      "2021-09-04  오후 07:10             8,100 Untitled.ipynb\n",
      "               4개 파일          11,213,260 바이트\n",
      "               3개 디렉터리  193,945,018,368 바이트 남음\n"
     ]
    }
   ],
   "source": [
    "%ls"
   ]
  },
  {
   "cell_type": "code",
   "execution_count": 26,
   "id": "65347c40",
   "metadata": {},
   "outputs": [],
   "source": [
    "path = 'C:/Users/cityo/Desktop/chromedriver.exe'\n",
    "driver = webdriver.Chrome(path)"
   ]
  },
  {
   "cell_type": "code",
   "execution_count": 27,
   "id": "ed295e12",
   "metadata": {},
   "outputs": [],
   "source": [
    "url = 'https://tmacs.kotsa.or.kr/main.jsp#'\n",
    "driver.get(url)"
   ]
  },
  {
   "cell_type": "code",
   "execution_count": 28,
   "id": "178e7519",
   "metadata": {},
   "outputs": [],
   "source": [
    "transBtn = driver.find_element_by_css_selector('#header > div > p.tmenu > a')\n",
    "transBtn.click()"
   ]
  },
  {
   "cell_type": "code",
   "execution_count": 31,
   "id": "7359c341",
   "metadata": {},
   "outputs": [],
   "source": [
    "tranBtn2= driver.find_element_by_css_selector('#gnb > div.mgnb > div.mbright > div:nth-child(1) > ul > li:nth-child(2) > ul > li:nth-child(1) > a')\n",
    "tranBtn2.click()"
   ]
  },
  {
   "cell_type": "code",
   "execution_count": 32,
   "id": "1da986ef",
   "metadata": {},
   "outputs": [],
   "source": [
    "transBtn3 = driver.find_element_by_css_selector('#gnb > div.mgnb > div.mbright > div:nth-child(1) > ul > li:nth-child(2) > ul > li:nth-child(1) > ul > li:nth-child(1) > a')\n",
    "transBtn3.click()"
   ]
  },
  {
   "cell_type": "code",
   "execution_count": null,
   "id": "03e73a94",
   "metadata": {},
   "outputs": [],
   "source": []
  },
  {
   "cell_type": "markdown",
   "id": "0f18b159",
   "metadata": {},
   "source": [
    "## ver2"
   ]
  },
  {
   "cell_type": "code",
   "execution_count": 47,
   "id": "cab669b2",
   "metadata": {},
   "outputs": [],
   "source": [
    "path = 'C:/Users/cityo/Desktop/chromedriver.exe'\n",
    "driver = webdriver.Chrome(path)"
   ]
  },
  {
   "cell_type": "code",
   "execution_count": 48,
   "id": "033735aa",
   "metadata": {},
   "outputs": [],
   "source": [
    "url = 'https://tmacs.kotsa.or.kr/web/TG/TG300/TG3100/Tg2127.jsp?mid=S1810#'\n",
    "driver.get(url)"
   ]
  },
  {
   "cell_type": "code",
   "execution_count": 49,
   "id": "750e0eb3",
   "metadata": {},
   "outputs": [],
   "source": [
    "transbtnn = driver.find_element_by_css_selector('#sido')\n",
    "transbtnn.click()"
   ]
  },
  {
   "cell_type": "code",
   "execution_count": 50,
   "id": "b7eb4aed",
   "metadata": {},
   "outputs": [],
   "source": [
    "trans2 = driver.find_element_by_css_selector('#sido > option:nth-child(2)')\n",
    "trans2.click()"
   ]
  },
  {
   "cell_type": "code",
   "execution_count": 52,
   "id": "f8504a76",
   "metadata": {},
   "outputs": [],
   "source": [
    "trans3 = driver.find_element_by_css_selector('#content > div.cont_box > div.filterForm.h_md > div.btn_wrap > a')\n",
    "trans3.click()"
   ]
  },
  {
   "cell_type": "markdown",
   "id": "63926392",
   "metadata": {},
   "source": [
    "-----------"
   ]
  },
  {
   "cell_type": "code",
   "execution_count": null,
   "id": "e0cfc844",
   "metadata": {},
   "outputs": [],
   "source": []
  },
  {
   "cell_type": "code",
   "execution_count": null,
   "id": "018c9bf2",
   "metadata": {},
   "outputs": [],
   "source": []
  },
  {
   "cell_type": "code",
   "execution_count": null,
   "id": "33cfc5d5",
   "metadata": {},
   "outputs": [],
   "source": []
  },
  {
   "cell_type": "code",
   "execution_count": null,
   "id": "878d6ab5",
   "metadata": {},
   "outputs": [],
   "source": []
  },
  {
   "cell_type": "code",
   "execution_count": null,
   "id": "f138e9d3",
   "metadata": {},
   "outputs": [],
   "source": []
  },
  {
   "cell_type": "code",
   "execution_count": null,
   "id": "170f632c",
   "metadata": {},
   "outputs": [],
   "source": []
  },
  {
   "cell_type": "code",
   "execution_count": null,
   "id": "3ef6d8a2",
   "metadata": {},
   "outputs": [],
   "source": []
  },
  {
   "cell_type": "code",
   "execution_count": null,
   "id": "c4dc5241",
   "metadata": {},
   "outputs": [],
   "source": [
    "# 커피빈 예시"
   ]
  },
  {
   "cell_type": "code",
   "execution_count": null,
   "id": "bb61b585",
   "metadata": {},
   "outputs": [],
   "source": [
    "# result = []\n",
    "\n",
    "# for i in range(1,6): #매장 수 만큼 반복 수행\n",
    "#     driver.get(url)\n",
    "#     time.sleep(1)  # 웹 페이지 연결할 동안 1초 대기\n",
    "    \n",
    "#     try:\n",
    "#         driver.execute_script('storePop2(%d)' % i)\n",
    "#         time.sleep(1)\n",
    "\n",
    "#         source = driver.page_source\n",
    "#         soupCB = BeautifulSoup(source, 'lxml')\n",
    "\n",
    "#         # 매장명\n",
    "#         store_name_h2 = soupCB.select_one('div.store_txt>h2').text \n",
    "#         print(store_name_h2)\n",
    "\n",
    "#         # 매장 주소\n",
    "#         store_info_add = soupCB.select_one('div.store_txt>table.store_table>tbody>tr:nth-of-type(3)>td')\n",
    "#         store_address = store_info_add.text\n",
    "#         print(store_address)\n",
    "\n",
    "#         # 매장 전화번호\n",
    "#         store_info_phone = soupCB.select_one('div.store_txt>table.store_table>tbody>tr:nth-of-type(4)>td')\n",
    "#         store_phone = store_info_phone.text\n",
    "#         print(store_phone)\n",
    "        \n",
    "#         # result에 매장 정보 저장\n",
    "#         result.append([store_name_h2]+[store_address]+[store_phone])\n",
    "#     except:\n",
    "#         continue"
   ]
  }
 ],
 "metadata": {
  "kernelspec": {
   "display_name": "Python 3 (ipykernel)",
   "language": "python",
   "name": "python3"
  },
  "language_info": {
   "codemirror_mode": {
    "name": "ipython",
    "version": 3
   },
   "file_extension": ".py",
   "mimetype": "text/x-python",
   "name": "python",
   "nbconvert_exporter": "python",
   "pygments_lexer": "ipython3",
   "version": "3.8.11"
  }
 },
 "nbformat": 4,
 "nbformat_minor": 5
}
