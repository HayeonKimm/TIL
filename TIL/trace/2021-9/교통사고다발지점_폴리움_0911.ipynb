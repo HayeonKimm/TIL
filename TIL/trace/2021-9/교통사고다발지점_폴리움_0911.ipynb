{
 "cells": [
  {
   "cell_type": "markdown",
   "id": "6e7430b7",
   "metadata": {},
   "source": [
    "# 교통 관측지점 데이터와 교통다발지점 데이터 시각화"
   ]
  },
  {
   "cell_type": "code",
   "execution_count": null,
   "id": "a270d16b",
   "metadata": {},
   "outputs": [],
   "source": [
    "import pandas as pd"
   ]
  },
  {
   "cell_type": "code",
   "execution_count": null,
   "id": "a2a53979",
   "metadata": {},
   "outputs": [],
   "source": [
    "df = pd.read_csv('교통사고_강남구.csv',encoding='utf-8')"
   ]
  },
  {
   "cell_type": "code",
   "execution_count": null,
   "id": "16e5e9cc",
   "metadata": {},
   "outputs": [],
   "source": [
    "df_song = pd.read_csv('교통사고_송파구.csv',encoding='utf-8')\n",
    "df_young = pd.read_csv('교통사고_영등포구.csv',encoding='utf-8')"
   ]
  },
  {
   "cell_type": "code",
   "execution_count": null,
   "id": "be8cd4f9",
   "metadata": {},
   "outputs": [],
   "source": [
    "df_song=df_song[['위도','경도']]\n",
    "df_young=df_young[['위도','경도']]"
   ]
  },
  {
   "cell_type": "code",
   "execution_count": null,
   "id": "da8c9563",
   "metadata": {},
   "outputs": [],
   "source": [
    "df_wido=df_[['위도','경도']]"
   ]
  },
  {
   "cell_type": "code",
   "execution_count": null,
   "id": "0595d226",
   "metadata": {},
   "outputs": [],
   "source": [
    "df2=df[['위도','경도']]\n",
    "df2"
   ]
  },
  {
   "cell_type": "code",
   "execution_count": null,
   "id": "d8c4bb8b",
   "metadata": {},
   "outputs": [],
   "source": [
    "df_wido=df_wido.dropna(subset=['위도'])\n",
    "\n",
    "df_wido=df_wido.dropna(subset=['경도'])"
   ]
  },
  {
   "cell_type": "markdown",
   "id": "bb80cf5b",
   "metadata": {},
   "source": [
    "# 강남구"
   ]
  },
  {
   "cell_type": "code",
   "execution_count": null,
   "id": "66cb043c",
   "metadata": {
    "scrolled": true
   },
   "outputs": [],
   "source": [
    "# import folium\n",
    "map=folium.Map(location=[df2['위도'].mean(),df2['경도'].mean()],zoom_start=12)\n",
    "\n",
    "\n",
    "for n in df2.index:\n",
    "#     name=df_route_p.loc[n,'_']\n",
    "    \n",
    "    location=[df2.loc[n,'위도'], df2.loc[n,'경도']]\n",
    "#     adress=df_sample.loc[n,'구']\n",
    "#     popup=f'{name}-{adress}'\n",
    "\n",
    "    folium.Marker(\n",
    "        location = location,\n",
    "        icon=folium.Icon(color = 'green')\n",
    "#         popup = popup,\n",
    "    ).add_to(map)\n",
    "# map\n",
    "\n",
    "\n",
    "\n",
    "map2=folium.Map(location=[df_wido['위도'].mean(),df_wido['경도'].mean()],zoom_start=12)\n",
    "\n",
    "\n",
    "for i in df_wido.index:\n",
    "#     name=df_route_p.loc[n,'_']\n",
    "    \n",
    "    location2=[df_wido.loc[i,'위도'], df_wido.loc[i,'경도']]\n",
    "#     adress=df_sample.loc[n,'구']\n",
    "#     popup=f'{name}-{adress}'\n",
    "\n",
    "    folium.Marker(\n",
    "        location = location2,\n",
    "        icon=folium.Icon(color = 'blue')\n",
    "#         popup = popup,\n",
    "    ).add_to(map)\n",
    "map"
   ]
  },
  {
   "cell_type": "markdown",
   "id": "6d0151dc",
   "metadata": {},
   "source": [
    "# 송파구"
   ]
  },
  {
   "cell_type": "code",
   "execution_count": null,
   "id": "8b3686d8",
   "metadata": {},
   "outputs": [],
   "source": [
    "# import folium\n",
    "map=folium.Map(location=[df_song['위도'].mean(),df_song['경도'].mean()],zoom_start=12)\n",
    "\n",
    "\n",
    "for n in df_song.index:\n",
    "#     name=df_route_p.loc[n,'_']\n",
    "    \n",
    "    location=[df_song.loc[n,'위도'], df_song.loc[n,'경도']]\n",
    "#     adress=df_sample.loc[n,'구']\n",
    "#     popup=f'{name}-{adress}'\n",
    "\n",
    "    folium.Marker(\n",
    "        location = location,\n",
    "        icon=folium.Icon(color = 'green')\n",
    "#         popup = popup,\n",
    "    ).add_to(map)\n",
    "# map\n",
    "\n",
    "\n",
    "\n",
    "# map2=folium.Map(location=[df_song['위도'].mean(),df_song['경도'].mean()],zoom_start=12)\n",
    "\n",
    "\n",
    "for i in df_wido.index:\n",
    "#     name=df_route_p.loc[n,'_']\n",
    "    \n",
    "    location2=[df_wido.loc[i,'위도'], df_wido.loc[i,'경도']]\n",
    "#     adress=df_sample.loc[n,'구']\n",
    "#     popup=f'{name}-{adress}'\n",
    "\n",
    "    folium.Marker(\n",
    "        location = location2,\n",
    "        icon=folium.Icon(color = 'blue')\n",
    "#         popup = popup,\n",
    "    ).add_to(map)\n",
    "map"
   ]
  },
  {
   "cell_type": "markdown",
   "id": "433473d8",
   "metadata": {},
   "source": [
    "# 영등포구"
   ]
  },
  {
   "cell_type": "code",
   "execution_count": null,
   "id": "04ba40ba",
   "metadata": {},
   "outputs": [],
   "source": [
    "# import folium\n",
    "map=folium.Map(location=[df_young['위도'].mean(),df_young['경도'].mean()],zoom_start=12)\n",
    "\n",
    "\n",
    "for n in df_young.index:\n",
    "#     name=df_route_p.loc[n,'_']\n",
    "    \n",
    "    location=[df_young.loc[n,'위도'], df_young.loc[n,'경도']]\n",
    "#     adress=df_sample.loc[n,'구']\n",
    "#     popup=f'{name}-{adress}'\n",
    "\n",
    "    folium.Marker(\n",
    "        location = location,\n",
    "        icon=folium.Icon(color = 'green')\n",
    "#         popup = popup,\n",
    "    ).add_to(map)\n",
    "# map\n",
    "\n",
    "\n",
    "\n",
    "map2=folium.Map(location=[df_song['위도'].mean(),df_song['경도'].mean()],zoom_start=12)\n",
    "\n",
    "\n",
    "for i in df_wido.index:\n",
    "#     name=df_route_p.loc[n,'_']\n",
    "    \n",
    "    location2=[df_wido.loc[i,'위도'], df_wido.loc[i,'경도']]\n",
    "#     adress=df_sample.loc[n,'구']\n",
    "#     popup=f'{name}-{adress}'\n",
    "\n",
    "    folium.Marker(\n",
    "        location = location2,\n",
    "        icon=folium.Icon(color = 'blue')\n",
    "#         popup = popup,\n",
    "    ).add_to(map)\n",
    "map"
   ]
  }
 ],
 "metadata": {
  "kernelspec": {
   "display_name": "Python 3 (ipykernel)",
   "language": "python",
   "name": "python3"
  },
  "language_info": {
   "codemirror_mode": {
    "name": "ipython",
    "version": 3
   },
   "file_extension": ".py",
   "mimetype": "text/x-python",
   "name": "python",
   "nbconvert_exporter": "python",
   "pygments_lexer": "ipython3",
   "version": "3.8.11"
  }
 },
 "nbformat": 4,
 "nbformat_minor": 5
}
