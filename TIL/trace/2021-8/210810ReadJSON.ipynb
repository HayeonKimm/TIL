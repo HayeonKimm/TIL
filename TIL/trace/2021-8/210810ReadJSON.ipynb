{
 "cells": [
  {
   "cell_type": "code",
   "execution_count": 4,
   "id": "sophisticated-groove",
   "metadata": {},
   "outputs": [],
   "source": [
    "# from pyspark import SparkConf, SparkContext\n",
    "# sc = SparkContext(master='local', appName='firstApp')"
   ]
  },
  {
   "cell_type": "code",
   "execution_count": 1,
   "id": "meaningful-bronze",
   "metadata": {},
   "outputs": [],
   "source": [
    "from pyspark.sql import SparkSession\n",
    "from pyspark.sql.functions import explode\n",
    "\n",
    "spark = SparkSession \\\n",
    "    .builder \\\n",
    "    .appName(\"Python Spark SQL basic example\") \\\n",
    "    .config(\"spark.some.config.option\", \"some-value\") \\\n",
    "    .getOrCreate()"
   ]
  },
  {
   "cell_type": "code",
   "execution_count": 7,
   "id": "japanese-wings",
   "metadata": {},
   "outputs": [
    {
     "data": {
      "text/html": [
       "\n",
       "            <div>\n",
       "                <p><b>SparkSession - in-memory</b></p>\n",
       "                \n",
       "        <div>\n",
       "            <p><b>SparkContext</b></p>\n",
       "\n",
       "            <p><a href=\"http://ip-172-31-11-38.ap-northeast-2.compute.internal:4041\">Spark UI</a></p>\n",
       "\n",
       "            <dl>\n",
       "              <dt>Version</dt>\n",
       "                <dd><code>v3.1.2</code></dd>\n",
       "              <dt>Master</dt>\n",
       "                <dd><code>local</code></dd>\n",
       "              <dt>AppName</dt>\n",
       "                <dd><code>firstApp</code></dd>\n",
       "            </dl>\n",
       "        </div>\n",
       "        \n",
       "            </div>\n",
       "        "
      ],
      "text/plain": [
       "<pyspark.sql.session.SparkSession at 0x7ff2c2206950>"
      ]
     },
     "execution_count": 7,
     "metadata": {},
     "output_type": "execute_result"
    }
   ],
   "source": [
    "spark"
   ]
  },
  {
   "cell_type": "code",
   "execution_count": 2,
   "id": "waiting-contemporary",
   "metadata": {},
   "outputs": [],
   "source": [
    "df_bus_original = spark.read.json(\"/home/lab01/bus/*.json\")"
   ]
  },
  {
   "cell_type": "code",
   "execution_count": 42,
   "id": "valid-resort",
   "metadata": {
    "scrolled": true
   },
   "outputs": [
    {
     "name": "stdout",
     "output_type": "stream",
     "text": [
      "+--------------------+\n",
      "|       ServiceResult|\n",
      "+--------------------+\n",
      "|{null, {[{1, 0, 2...|\n",
      "|{null, {[{1, 0, 2...|\n",
      "|{null, {[{1, 0, 2...|\n",
      "|{null, {[{1, 0, 2...|\n",
      "|{null, {[{0, 0, 2...|\n",
      "|{null, {[{1, 0, 2...|\n",
      "|{null, {[{1, 0, 2...|\n",
      "|{null, {[{1, 0, 2...|\n",
      "|{null, {[{0, 0, 2...|\n",
      "|{null, {[{1, 0, 2...|\n",
      "|{null, {[{0, 0, 2...|\n",
      "|{null, {[{1, 0, 2...|\n",
      "|{null, {[{0, 0, 2...|\n",
      "|{null, {[{0, 0, 2...|\n",
      "|{null, {[{1, 0, 2...|\n",
      "|{null, {[{0, 0, 2...|\n",
      "|{null, {[{1, 0, 2...|\n",
      "|{null, {[{1, 0, 2...|\n",
      "|{null, {[{0, 0, 2...|\n",
      "|{null, {[{1, 0, 2...|\n",
      "+--------------------+\n",
      "only showing top 20 rows\n",
      "\n"
     ]
    }
   ],
   "source": [
    "df_bus_original.show()"
   ]
  },
  {
   "cell_type": "code",
   "execution_count": 43,
   "id": "invalid-chain",
   "metadata": {
    "scrolled": true
   },
   "outputs": [
    {
     "name": "stdout",
     "output_type": "stream",
     "text": [
      "root\n",
      " |-- ServiceResult: struct (nullable = true)\n",
      " |    |-- comMsgHeader: string (nullable = true)\n",
      " |    |-- msgBody: struct (nullable = true)\n",
      " |    |    |-- itemList: array (nullable = true)\n",
      " |    |    |    |-- element: struct (containsNull = true)\n",
      " |    |    |    |    |-- busType: string (nullable = true)\n",
      " |    |    |    |    |-- congetion: string (nullable = true)\n",
      " |    |    |    |    |-- dataTm: string (nullable = true)\n",
      " |    |    |    |    |-- fullSectDist: string (nullable = true)\n",
      " |    |    |    |    |-- gpsX: string (nullable = true)\n",
      " |    |    |    |    |-- gpsY: string (nullable = true)\n",
      " |    |    |    |    |-- isFullFlag: string (nullable = true)\n",
      " |    |    |    |    |-- islastyn: string (nullable = true)\n",
      " |    |    |    |    |-- isrunyn: string (nullable = true)\n",
      " |    |    |    |    |-- lastStTm: string (nullable = true)\n",
      " |    |    |    |    |-- lastStnId: string (nullable = true)\n",
      " |    |    |    |    |-- nextStId: string (nullable = true)\n",
      " |    |    |    |    |-- nextStTm: string (nullable = true)\n",
      " |    |    |    |    |-- plainNo: string (nullable = true)\n",
      " |    |    |    |    |-- posX: string (nullable = true)\n",
      " |    |    |    |    |-- posY: string (nullable = true)\n",
      " |    |    |    |    |-- rtDist: string (nullable = true)\n",
      " |    |    |    |    |-- sectDist: string (nullable = true)\n",
      " |    |    |    |    |-- sectOrd: string (nullable = true)\n",
      " |    |    |    |    |-- sectionId: string (nullable = true)\n",
      " |    |    |    |    |-- stopFlag: string (nullable = true)\n",
      " |    |    |    |    |-- trnstnid: string (nullable = true)\n",
      " |    |    |    |    |-- vehId: string (nullable = true)\n",
      " |    |-- msgHeader: struct (nullable = true)\n",
      " |    |    |-- headerCd: string (nullable = true)\n",
      " |    |    |-- headerMsg: string (nullable = true)\n",
      " |    |    |-- itemCount: string (nullable = true)\n",
      "\n"
     ]
    }
   ],
   "source": [
    "df_bus_original.printSchema()"
   ]
  },
  {
   "cell_type": "code",
   "execution_count": 44,
   "id": "tight-fortune",
   "metadata": {},
   "outputs": [
    {
     "name": "stdout",
     "output_type": "stream",
     "text": [
      "+--------------------+\n",
      "|            itemList|\n",
      "+--------------------+\n",
      "|[{1, 0, 202108101...|\n",
      "|[{1, 0, 202108101...|\n",
      "|[{1, 0, 202108101...|\n",
      "|[{1, 0, 202108101...|\n",
      "|[{0, 0, 202108101...|\n",
      "|[{1, 0, 202108101...|\n",
      "|[{1, 0, 202108101...|\n",
      "|[{1, 0, 202108101...|\n",
      "|[{0, 0, 202108101...|\n",
      "|[{1, 0, 202108101...|\n",
      "|[{0, 0, 202108100...|\n",
      "|[{1, 0, 202108101...|\n",
      "|[{0, 0, 202108101...|\n",
      "|[{0, 0, 202108100...|\n",
      "|[{1, 0, 202108101...|\n",
      "|[{0, 0, 202108100...|\n",
      "|[{1, 0, 202108101...|\n",
      "|[{1, 0, 202108101...|\n",
      "|[{0, 0, 202108101...|\n",
      "|[{1, 0, 202108101...|\n",
      "+--------------------+\n",
      "only showing top 20 rows\n",
      "\n"
     ]
    }
   ],
   "source": [
    "df_bus_original.select('ServiceResult.msgBody.itemList').show()"
   ]
  },
  {
   "cell_type": "code",
   "execution_count": null,
   "id": "divine-strap",
   "metadata": {},
   "outputs": [],
   "source": []
  },
  {
   "cell_type": "code",
   "execution_count": 4,
   "id": "employed-source",
   "metadata": {},
   "outputs": [
    {
     "name": "stdout",
     "output_type": "stream",
     "text": [
      "root\n",
      " |-- col: struct (nullable = true)\n",
      " |    |-- busType: string (nullable = true)\n",
      " |    |-- congetion: string (nullable = true)\n",
      " |    |-- dataTm: string (nullable = true)\n",
      " |    |-- fullSectDist: string (nullable = true)\n",
      " |    |-- gpsX: string (nullable = true)\n",
      " |    |-- gpsY: string (nullable = true)\n",
      " |    |-- isFullFlag: string (nullable = true)\n",
      " |    |-- islastyn: string (nullable = true)\n",
      " |    |-- isrunyn: string (nullable = true)\n",
      " |    |-- lastStTm: string (nullable = true)\n",
      " |    |-- lastStnId: string (nullable = true)\n",
      " |    |-- nextStId: string (nullable = true)\n",
      " |    |-- nextStTm: string (nullable = true)\n",
      " |    |-- plainNo: string (nullable = true)\n",
      " |    |-- posX: string (nullable = true)\n",
      " |    |-- posY: string (nullable = true)\n",
      " |    |-- rtDist: string (nullable = true)\n",
      " |    |-- sectDist: string (nullable = true)\n",
      " |    |-- sectOrd: string (nullable = true)\n",
      " |    |-- sectionId: string (nullable = true)\n",
      " |    |-- stopFlag: string (nullable = true)\n",
      " |    |-- trnstnid: string (nullable = true)\n",
      " |    |-- vehId: string (nullable = true)\n",
      "\n"
     ]
    }
   ],
   "source": [
    "\n",
    "\n",
    "df_bus_original.select(explode(df_bus_original.ServiceResult.msgBody.itemList)).printSchema()"
   ]
  },
  {
   "cell_type": "code",
   "execution_count": 6,
   "id": "native-demand",
   "metadata": {},
   "outputs": [],
   "source": [
    "df_bus = df_bus_original.select(explode(df_bus_original.ServiceResult.msgBody.itemList).alias(\"buses\")).select('buses.*')"
   ]
  },
  {
   "cell_type": "code",
   "execution_count": 7,
   "id": "certified-lincoln",
   "metadata": {},
   "outputs": [
    {
     "name": "stdout",
     "output_type": "stream",
     "text": [
      "+--------------+----------+---------+---------+---------+\n",
      "|dataTm        |gpsX      |gpsY     |lastStnId|nextStId |\n",
      "+--------------+----------+---------+---------+---------+\n",
      "|20210810101243|127.043534|37.689716|109000406|109000001|\n",
      "|20210810102002|127.044352|37.689948|109000406|109000408|\n",
      "|20210810102244|127.045855|37.683359|109000003|109000015|\n",
      "|20210810102243|127.042529|37.663667|109000009|109000015|\n",
      "|20210810102248|127.035952|37.65084 |109000013|109000015|\n",
      "|20210810102256|127.028935|37.641198|108000001|108000003|\n",
      "|20210810102255|127.023335|37.634736|108000003|108000005|\n",
      "|20210810102254|127.025071|37.628969|108000005|108000011|\n",
      "|20210810102252|127.021762|37.599769|107000003|107000009|\n",
      "|20210810102245|127.012992|37.591794|107000007|107000009|\n",
      "|20210810102243|127.001744|37.586243|100000005|102000071|\n",
      "|20210810102243|126.997073|37.576906|100000002|102000071|\n",
      "|20210810102256|126.997911|37.569003|100000151|102000071|\n",
      "|20210810102142|126.993244|37.554905|101000328|102000071|\n",
      "|20210810102256|127.007087|37.533908|102000071|121000013|\n",
      "|20210810102253|127.019281|37.516301|102000071|121000013|\n",
      "|20210810102255|127.022926|37.507411|121000013|121000009|\n",
      "|20210810102253|127.029204|37.49425 |121000009|121000003|\n",
      "|20210810102255|127.032484|37.48736 |121000005|121000003|\n",
      "|20210810102250|127.038971|37.469453|121000218|121000004|\n",
      "+--------------+----------+---------+---------+---------+\n",
      "only showing top 20 rows\n",
      "\n"
     ]
    }
   ],
   "source": [
    "df_bus.select('dataTm', 'gpsX', 'gpsY', 'lastStnId', 'nextStId').show(truncate=False)"
   ]
  },
  {
   "cell_type": "code",
   "execution_count": 8,
   "id": "portable-concentration",
   "metadata": {},
   "outputs": [
    {
     "data": {
      "text/plain": [
       "44511"
      ]
     },
     "execution_count": 8,
     "metadata": {},
     "output_type": "execute_result"
    }
   ],
   "source": [
    "df_bus.count()"
   ]
  },
  {
   "cell_type": "code",
   "execution_count": 10,
   "id": "eastern-foster",
   "metadata": {},
   "outputs": [],
   "source": [
    "df_bus.write.save(\"df_bus.parquet\", mode='overwrite')"
   ]
  },
  {
   "cell_type": "code",
   "execution_count": 55,
   "id": "tested-packaging",
   "metadata": {},
   "outputs": [],
   "source": [
    "df_bus.write.save(\"df_bus.json\", format='json')"
   ]
  },
  {
   "cell_type": "code",
   "execution_count": 51,
   "id": "optical-techno",
   "metadata": {},
   "outputs": [],
   "source": [
    "df_bus_read_from = spark.read.parquet('df_bus.parquet')"
   ]
  },
  {
   "cell_type": "code",
   "execution_count": 52,
   "id": "general-tattoo",
   "metadata": {
    "scrolled": false
   },
   "outputs": [
    {
     "data": {
      "text/plain": [
       "36106"
      ]
     },
     "execution_count": 52,
     "metadata": {},
     "output_type": "execute_result"
    }
   ],
   "source": [
    "df_bus_read_from.count()"
   ]
  },
  {
   "cell_type": "code",
   "execution_count": 56,
   "id": "hairy-process",
   "metadata": {},
   "outputs": [],
   "source": [
    "df_bus.coalesce(1).write.format('json').save('df_bus.json')"
   ]
  },
  {
   "cell_type": "code",
   "execution_count": 12,
   "id": "atomic-rolling",
   "metadata": {
    "scrolled": true
   },
   "outputs": [
    {
     "name": "stdout",
     "output_type": "stream",
     "text": [
      "+-------+---------+--------------+------------+----------+---------+----------+--------+-------+--------+---------+---------+--------+------------+------------------+------------------+------+--------+-------+---------+--------+---------+---------+\n",
      "|busType|congetion|        dataTm|fullSectDist|      gpsX|     gpsY|isFullFlag|islastyn|isrunyn|lastStTm|lastStnId| nextStId|nextStTm|     plainNo|              posX|              posY|rtDist|sectDist|sectOrd|sectionId|stopFlag| trnstnid|    vehId|\n",
      "+-------+---------+--------------+------------+----------+---------+----------+--------+-------+--------+---------+---------+--------+------------+------------------+------------------+------+--------+-------+---------+--------+---------+---------+\n",
      "|      1|        0|20210810101243|        0.23|127.043534|37.689716|         0|       0|      1|   13302|109000406|109000001|      94|서울71사1862|203839.25952829327|  465565.062315932|  58.1|   0.005|      1|109602290|       0|121000222|123060191|\n",
      "|      1|        0|20210810102002|        0.23|127.044352|37.689948|         0|       0|      1|       0|109000406|109000408|     120|서울71사1816|203911.38669255972|465590.84320912743|  58.1|       0|      1|109602290|       0|121000222|123060233|\n",
      "|      0|        0|20210810102244|       0.714|127.045855|37.683359|         0|       0|      1|   13208|109000003|109000015|     887|서울74사1616|204044.29350184428|464859.66849716194|  58.1|   0.102|      3|109602294|       0|121000222|123060189|\n",
      "|      1|        3|20210810102243|       0.852|127.042529|37.663667|         0|       0|      1|   12798|109000009|109000015|     483|서울71사1901|203751.94022580024|462674.14296175493|  58.1|   0.333|      7|109602298|       0|121000222|123060159|\n",
      "|      0|        3|20210810102248|       0.705|127.035952| 37.65084|         0|       0|      1|   12462|109000013|109000015|     156|서울74사4051|203172.25805741872|461250.38379062666|  58.1|   0.546|      9|109600007|       0|121000222|123060555|\n",
      "|      1|        3|20210810102256|       0.402|127.028935|37.641198|         0|       0|      1|   12024|108000001|108000003|     201|서울74사1613|202553.43660548862| 460180.1206443948|  58.1|   0.123|     12|108601712|       1|121000222|123060145|\n",
      "|      0|        3|20210810102255|       0.641|127.023335|37.634736|         0|       0|      1|   11830|108000003|108000005|     124|서울71사1866|202059.42989054552| 459462.8447237881|  58.1|   0.303|     14|108602692|       0|121000222|123060137|\n",
      "|      1|        3|20210810102254|        0.74|127.025071|37.628969|         0|       0|      1|   11704|108000005|108000011|     396|서울71사1859|202212.81153081846|458822.87618969986|  58.1|   0.378|     15|108602395|       0|121000222|123060514|\n",
      "|      0|        3|20210810102252|       0.636|127.021762|37.599769|         0|       0|      1|   11020|107000003|107000009|     428|서울74사4071|201921.50447505852| 455582.2658235654|  58.1|   0.524|     20|107603122|       0|121000222|123060118|\n",
      "|      1|        3|20210810102245|       0.912|127.012992|37.591794|         0|       0|      1|   10786|107000007|107000009|     225|서울74사1617|201147.26819890362|454697.08126973547|  58.1|   0.631|     22|107603129|       0|121000222|123060098|\n",
      "|      0|        3|20210810102243|       0.499|127.001744|37.586243|         0|       0|      1|   10410|100000005|102000071|    1643|서울71사1863| 200154.0166518581|454080.97095198696|  58.1|       0|     24|100600049|       1|121000222|123060157|\n",
      "|      1|        3|20210810102243|       0.521|126.997073|37.576906|         0|       0|      1|   10142|100000002|102000071|    1363|서울74사4054|199741.47761183206| 453044.7841678737|  58.1|   0.285|     26|100602751|       0|121000222|123060102|\n",
      "|      0|        3|20210810102256|       0.528|126.997911|37.569003|         0|       0|      1|    9684|100000151|102000071|     913|서울74사2230|199815.47306363028| 452167.7346683615|  58.1|   0.082|     28|101604592|       1|121000222|123060099|\n",
      "|      1|        3|20210810102142|       2.585|126.993244|37.554905|         0|       0|      1|    9071|101000328|102000071|     304|서울75사2557| 199403.1120512772|450603.20984831173|  58.1|   0.382|     32|102603021|       0|121000222|123060522|\n",
      "|      0|        3|20210810102256|       2.673|127.007087|37.533908|         0|       0|      1|    8780|102000071|121000013|     772|서울74사3888|200626.30720974237| 448273.0490394379|  58.1|   0.561|     33|121600088|       0|121000222|123060105|\n",
      "|      1|        3|20210810102253|       2.673|127.019281|37.516301|         0|       0|      1|    8785|102000071|121000013|     757|서울71사1815|201704.34144863402| 446319.2521278886|  58.1|   2.528|     33|121600088|       0|121000222|123060370|\n",
      "|      0|        3|20210810102255|       0.647|127.022926|37.507411|         0|       0|      1|    8001|121000013|121000009|     352|서울74사9969|202026.78113141385|445332.75322187226|  58.1|   0.025|     35|121600012|       1|121000222|123060608|\n",
      "|      1|        3|20210810102253|       0.494|127.029204| 37.49425|         0|       0|      1|    7654|121000009|121000003|     506|서울74사3353|202582.24316051416| 443872.3626078693|  58.1|   0.287|     37|122600078|       0|121000222|123060544|\n",
      "|      0|        3|20210810102255|        0.65|127.032484| 37.48736|         0|       0|      1|    7329|121000005|121000003|     180|서울74사9968|202872.52747977074| 443107.8399404362|  58.1|   0.121|     39|121608025|       0|121000222|123060132|\n",
      "|      1|        3|20210810102250|       0.649|127.038971|37.469453|         0|       0|      1|    6907|121000218|121000004|    1386|서울74사4014|203446.98884166087|441120.83257092955|  58.1|   0.543|     42|121601369|       0|121000222|123060101|\n",
      "+-------+---------+--------------+------------+----------+---------+----------+--------+-------+--------+---------+---------+--------+------------+------------------+------------------+------+--------+-------+---------+--------+---------+---------+\n",
      "only showing top 20 rows\n",
      "\n"
     ]
    }
   ],
   "source": [
    "df_bus.show()"
   ]
  },
  {
   "cell_type": "code",
   "execution_count": null,
   "id": "97d2e4c4",
   "metadata": {},
   "outputs": [],
   "source": []
  }
 ],
 "metadata": {
  "kernelspec": {
   "display_name": "pyspakr_gckim",
   "language": "python",
   "name": "pyspark_gichan"
  },
  "language_info": {
   "codemirror_mode": {
    "name": "ipython",
    "version": 3
   },
   "file_extension": ".py",
   "mimetype": "text/x-python",
   "name": "python",
   "nbconvert_exporter": "python",
   "pygments_lexer": "ipython3",
   "version": "3.7.10"
  }
 },
 "nbformat": 4,
 "nbformat_minor": 5
}
