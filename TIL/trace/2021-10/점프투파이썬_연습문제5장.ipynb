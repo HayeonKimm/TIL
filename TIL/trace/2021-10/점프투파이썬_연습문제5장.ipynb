{
  "nbformat": 4,
  "nbformat_minor": 0,
  "metadata": {
    "colab": {
      "name": "점프투파이썬_연습문제5장.ipynb",
      "provenance": [],
      "collapsed_sections": []
    },
    "kernelspec": {
      "name": "python3",
      "display_name": "Python 3"
    },
    "language_info": {
      "name": "python"
    }
  },
  "cells": [
    {
      "cell_type": "markdown",
      "metadata": {
        "id": "84BBvnRlcmAa"
      },
      "source": [
        "# Q1\n",
        "\n",
        "다음은 Calculator 클래스이다."
      ]
    },
    {
      "cell_type": "code",
      "metadata": {
        "id": "6d_gFDGhbVYT"
      },
      "source": [
        "# Q1\n",
        "class Calculator:\n",
        "    def __init__(self):\n",
        "        self.value = 0\n",
        "\n",
        "    def add(self, val):\n",
        "        self.value += val"
      ],
      "execution_count": 1,
      "outputs": []
    },
    {
      "cell_type": "markdown",
      "metadata": {
        "id": "b6uEsYzYbZ9m"
      },
      "source": [
        "위 클래스를 상속하는 UpgradeCalculator를 만들고 값을 뺄 수 있는 minus 메서드를 추가해 보자. 즉 다음과 같이 동작하는 클래스를 만들어야 한다.\n"
      ]
    },
    {
      "cell_type": "code",
      "metadata": {
        "id": "DrVVTat-Xe6U"
      },
      "source": [
        "class UpgradeCalculator(Calculator):\n",
        "\n",
        "  def minus(self,val):\n",
        "    self.value-=val"
      ],
      "execution_count": 6,
      "outputs": []
    },
    {
      "cell_type": "code",
      "metadata": {
        "id": "f-hKl-ltbmSa"
      },
      "source": [
        "cal=UpgradeCalculator()\n",
        "cal.add(10)"
      ],
      "execution_count": 7,
      "outputs": []
    },
    {
      "cell_type": "code",
      "metadata": {
        "colab": {
          "base_uri": "https://localhost:8080/"
        },
        "id": "eUxiNDnScRcZ",
        "outputId": "2cf87546-42ea-4d08-d127-5b1b802644d6"
      },
      "source": [
        "cal.minus(7)\n",
        "print(cal.value,'성공')"
      ],
      "execution_count": 9,
      "outputs": [
        {
          "output_type": "stream",
          "name": "stdout",
          "text": [
            "-4 성공\n"
          ]
        }
      ]
    },
    {
      "cell_type": "markdown",
      "metadata": {
        "id": "SOUqPc6HcVl-"
      },
      "source": [
        "# Q2\n",
        "객체변수 value가 100 이상의 값은 가질 수 없도록 제한하는 MaxLimitCalculator 클래스를 만들어 보자. 즉 다음과 같이 동작해야 한다."
      ]
    },
    {
      "cell_type": "code",
      "metadata": {
        "id": "M3-OPzGpcoCy"
      },
      "source": [
        "#참고용\n",
        "\n",
        "cal = MaxLimitCalculator()\n",
        "cal.add(50) # 50 더하기\n",
        "cal.add(60) # 60 더하기\n",
        "\n",
        "print(cal.value) # 100 출력"
      ],
      "execution_count": null,
      "outputs": []
    },
    {
      "cell_type": "code",
      "metadata": {
        "id": "5LSgylBMc1Ip"
      },
      "source": [
        "class MaxLimitCalculator():\n",
        "\n",
        "\n",
        "  def __init__(self):\n",
        "    self.value=0\n",
        "\n",
        "  def add(self,val):\n",
        "    self.value+=val"
      ],
      "execution_count": 10,
      "outputs": []
    },
    {
      "cell_type": "markdown",
      "metadata": {
        "id": "0sJPMbzgdx7U"
      },
      "source": [
        "# Q3"
      ]
    },
    {
      "cell_type": "markdown",
      "metadata": {
        "id": "tf5RGW3cd0Ks"
      },
      "source": [
        "--생략--"
      ]
    },
    {
      "cell_type": "markdown",
      "metadata": {
        "id": "DCc88E1-d9Gb"
      },
      "source": [
        "# Q4\n",
        "\n",
        "filter와 lambda를 사용하여 리스트 [1, -2, 3, -5, 8, -3]에서 음수를 모두 제거해 보자."
      ]
    },
    {
      "cell_type": "code",
      "metadata": {
        "colab": {
          "base_uri": "https://localhost:8080/"
        },
        "id": "aEzNknMLd-xE",
        "outputId": "8a17592c-b28e-4ee3-e078-d53cfcc24a0e"
      },
      "source": [
        "list(filter(lambda x : x>0, [1,-2,3,-5,8,-3]))"
      ],
      "execution_count": 32,
      "outputs": [
        {
          "output_type": "execute_result",
          "data": {
            "text/plain": [
              "[1, 3, 8]"
            ]
          },
          "metadata": {},
          "execution_count": 32
        }
      ]
    },
    {
      "cell_type": "markdown",
      "metadata": {
        "id": "fwtcWhk6d-8h"
      },
      "source": [
        "# Q6\n",
        "\n",
        "\n",
        "map과 lambda를 사용하여 [1, 2, 3, 4] 라는 리스트의 각 요솟값에 3이 곱해진 리스트 [3, 6, 9, 12]를 만들어 보자."
      ]
    },
    {
      "cell_type": "code",
      "metadata": {
        "colab": {
          "base_uri": "https://localhost:8080/"
        },
        "id": "IpPU8Uk9eGG_",
        "outputId": "6a36fce8-1306-466a-ecde-5b57739ee267"
      },
      "source": [
        "list(map(lambda x:x*3, [1,2,3,4]))"
      ],
      "execution_count": 29,
      "outputs": [
        {
          "output_type": "execute_result",
          "data": {
            "text/plain": [
              "[3, 6, 9, 12]"
            ]
          },
          "metadata": {},
          "execution_count": 29
        }
      ]
    },
    {
      "cell_type": "markdown",
      "metadata": {
        "id": "iRJdSUxCeGlc"
      },
      "source": [
        "# Q7"
      ]
    },
    {
      "cell_type": "code",
      "metadata": {
        "colab": {
          "base_uri": "https://localhost:8080/"
        },
        "id": "pikvFLO3eGwA",
        "outputId": "ebb2923e-5ca8-4935-c876-98995cae06e5"
      },
      "source": [
        "list_2=[-8, 2, 7, 5, -3, 5, 0, 1]\n",
        "\n",
        "max(list_2)+min(list_2)\n"
      ],
      "execution_count": 30,
      "outputs": [
        {
          "output_type": "execute_result",
          "data": {
            "text/plain": [
              "-1"
            ]
          },
          "metadata": {},
          "execution_count": 30
        }
      ]
    },
    {
      "cell_type": "markdown",
      "metadata": {
        "id": "TMN24ePJe-20"
      },
      "source": [
        "# Q8"
      ]
    },
    {
      "cell_type": "code",
      "metadata": {
        "colab": {
          "base_uri": "https://localhost:8080/"
        },
        "id": "VpKsCdoxeGzM",
        "outputId": "8b6e5503-221f-412b-dc5b-52921666aa39"
      },
      "source": [
        "# way1\n",
        "\n",
        "num=17/3\n",
        "\n",
        "'{0:0.4f}'.format(num)\n",
        "\n",
        "# way2\n",
        "\n",
        "round(17/3,4)"
      ],
      "execution_count": 31,
      "outputs": [
        {
          "output_type": "execute_result",
          "data": {
            "text/plain": [
              "5.6667"
            ]
          },
          "metadata": {},
          "execution_count": 31
        }
      ]
    },
    {
      "cell_type": "markdown",
      "metadata": {
        "id": "OdueZE27eG2K"
      },
      "source": [
        "# Q13\n",
        "\n",
        "random 모듈을 사용하여 로또 번호(1~45 사이의 숫자 6개)를 생성해 보자(단 중복된 숫자가 있으면 안 됨).\n",
        "\n"
      ]
    },
    {
      "cell_type": "code",
      "metadata": {
        "colab": {
          "base_uri": "https://localhost:8080/"
        },
        "id": "TU0Sz82Bd_Da",
        "outputId": "4546616d-5955-4601-e827-0fe7acbd8d3e"
      },
      "source": [
        "import random\n",
        "\n",
        "for i in range(6):\n",
        "  a=random.randint(1,46)\n",
        "  print(a)  "
      ],
      "execution_count": 26,
      "outputs": [
        {
          "output_type": "stream",
          "name": "stdout",
          "text": [
            "28\n",
            "23\n",
            "37\n",
            "36\n",
            "41\n",
            "16\n"
          ]
        }
      ]
    }
  ]
}