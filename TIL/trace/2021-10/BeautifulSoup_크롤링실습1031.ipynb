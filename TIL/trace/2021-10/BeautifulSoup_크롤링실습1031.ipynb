{
 "cells": [
  {
   "cell_type": "code",
   "execution_count": 1,
   "id": "73389c38",
   "metadata": {
    "scrolled": true
   },
   "outputs": [],
   "source": [
    "import requests\n",
    "from bs4 import BeautifulSoup\n",
    "\n",
    "url = 'https://en.wikivoyage.org/wiki/Brno'\n",
    "\n",
    "response = requests.get(url)\n",
    "\n",
    "if response.status_code == 200:\n",
    "    html = response.text\n",
    "    soup = BeautifulSoup(html, 'html.parser')\n",
    "    top_soup=soup.find_all('div',{'class':'thumbinner'})\n",
    "#     print(soup)\n",
    "\n",
    "else : \n",
    "    print(response.status_code)\n",
    "    \n",
    "\n",
    "a_list=[]\n",
    "for top in top_soup:\n",
    "    \n",
    "    dodo=top.find('a',{'class':'mw-kartographer-map'})\n",
    "    if dodo != None:\n",
    "        a_list.append(dodo)"
   ]
  },
  {
   "cell_type": "code",
   "execution_count": 7,
   "id": "ff17fbd9",
   "metadata": {},
   "outputs": [],
   "source": [
    "a_list=[]\n",
    "for top in top_soup:\n",
    "    \n",
    "    dodo=top.find('a',{'class':'mw-kartographer-map'})\n",
    "    if dodo != None:\n",
    "        a_list.append(dodo)"
   ]
  },
  {
   "cell_type": "code",
   "execution_count": 8,
   "id": "40183e86",
   "metadata": {},
   "outputs": [
    {
     "data": {
      "text/plain": [
       "[<a class=\"mw-kartographer-map\" data-height=\"420\" data-lat=\"49.1963\" data-lon=\"16.6046\" data-mw=\"interface\" data-overlays='[\"mask\",\"around\",\"buy\",\"city\",\"do\",\"drink\",\"eat\",\"go\",\"listing\",\"other\",\"see\",\"sleep\",\"vicinity\",\"view\",\"black\",\"blue\",\"brown\",\"chocolate\",\"forestgreen\",\"gold\",\"gray\",\"grey\",\"lime\",\"magenta\",\"maroon\",\"mediumaquamarine\",\"navy\",\"red\",\"royalblue\",\"silver\",\"steelblue\",\"teal\",\"fuchsia\",\"route1\",\"route2\",\"route3\",\"route4\",\"route5\"]' data-style=\"osm-intl\" data-width=\"420\" data-zoom=\"14\" href=\"/wiki/Special:Map/14/49.1963/16.6046/en\" style=\"width: 420px; height: 420px;\"><img alt=\"\" decoding=\"async\" height=\"420\" src=\"https://maps.wikimedia.org/img/osm-intl,14,49.1963,16.6046,420x420.png?lang=en&amp;domain=en.wikivoyage.org&amp;title=Brno&amp;groups=mask%2Caround%2Cbuy%2Ccity%2Cdo%2Cdrink%2Ceat%2Cgo%2Clisting%2Cother%2Csee%2Csleep%2Cvicinity%2Cview%2Cblack%2Cblue%2Cbrown%2Cchocolate%2Cforestgreen%2Cgold%2Cgray%2Cgrey%2Clime%2Cmagenta%2Cmaroon%2Cmediumaquamarine%2Cnavy%2Cred%2Croyalblue%2Csilver%2Csteelblue%2Cteal%2Cfuchsia%2Croute1%2Croute2%2Croute3%2Croute4%2Croute5\" srcset=\"https://maps.wikimedia.org/img/osm-intl,14,49.1963,16.6046,420x420@2x.png?lang=en&amp;domain=en.wikivoyage.org&amp;title=Brno&amp;groups=mask%2Caround%2Cbuy%2Ccity%2Cdo%2Cdrink%2Ceat%2Cgo%2Clisting%2Cother%2Csee%2Csleep%2Cvicinity%2Cview%2Cblack%2Cblue%2Cbrown%2Cchocolate%2Cforestgreen%2Cgold%2Cgray%2Cgrey%2Clime%2Cmagenta%2Cmaroon%2Cmediumaquamarine%2Cnavy%2Cred%2Croyalblue%2Csilver%2Csteelblue%2Cteal%2Cfuchsia%2Croute1%2Croute2%2Croute3%2Croute4%2Croute5 2x\" width=\"420\"/></a>]"
      ]
     },
     "execution_count": 8,
     "metadata": {},
     "output_type": "execute_result"
    }
   ],
   "source": [
    "a_list"
   ]
  }
 ],
 "metadata": {
  "hide_input": false,
  "kernelspec": {
   "display_name": "Python 3 (ipykernel)",
   "language": "python",
   "name": "python3"
  },
  "language_info": {
   "codemirror_mode": {
    "name": "ipython",
    "version": 3
   },
   "file_extension": ".py",
   "mimetype": "text/x-python",
   "name": "python",
   "nbconvert_exporter": "python",
   "pygments_lexer": "ipython3",
   "version": "3.8.11"
  },
  "toc": {
   "base_numbering": 1,
   "nav_menu": {},
   "number_sections": true,
   "sideBar": true,
   "skip_h1_title": false,
   "title_cell": "Table of Contents",
   "title_sidebar": "Contents",
   "toc_cell": false,
   "toc_position": {},
   "toc_section_display": true,
   "toc_window_display": false
  }
 },
 "nbformat": 4,
 "nbformat_minor": 5
}
