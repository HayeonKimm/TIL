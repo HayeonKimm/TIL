{
 "cells": [
  {
   "cell_type": "code",
   "execution_count": null,
   "id": "aeb85d4a",
   "metadata": {},
   "outputs": [],
   "source": [
    "#1\n",
    "# for\n",
    "\n",
    "\n",
    "sido_list=[]\n",
    "sido = df_2['소재지'].str.contains('제주시')\n",
    "for i in range(len(df_2)):\n",
    "\n",
    "    if sido.iloc[i] == True:\n",
    "        sido_list.append('제주시')\n",
    "        \n",
    "    \n",
    "    elif sido.iloc[i] == False:\n",
    "        sido_list.append('서귀포시')\n",
    "        \n",
    "    else:\n",
    "        pass\n",
    "    \n",
    "print(sido_list)"
   ]
  },
  {
   "cell_type": "markdown",
   "id": "65224cdb",
   "metadata": {},
   "source": [
    "----------"
   ]
  },
  {
   "cell_type": "code",
   "execution_count": null,
   "id": "41224706",
   "metadata": {},
   "outputs": [],
   "source": [
    "#2\n",
    "#split\n",
    "\n",
    "sojaeji2 = []\n",
    "\n",
    "for i in df_2['소재지'].str.split(' '):\n",
    "    sojaeji2.append(i[2])   "
   ]
  }
 ],
 "metadata": {
  "hide_input": false,
  "kernelspec": {
   "display_name": "Python 3",
   "language": "python",
   "name": "python3"
  },
  "language_info": {
   "codemirror_mode": {
    "name": "ipython",
    "version": 3
   },
   "file_extension": ".py",
   "mimetype": "text/x-python",
   "name": "python",
   "nbconvert_exporter": "python",
   "pygments_lexer": "ipython3",
   "version": "3.8.8"
  },
  "toc": {
   "base_numbering": 1,
   "nav_menu": {},
   "number_sections": true,
   "sideBar": true,
   "skip_h1_title": false,
   "title_cell": "Table of Contents",
   "title_sidebar": "Contents",
   "toc_cell": false,
   "toc_position": {},
   "toc_section_display": true,
   "toc_window_display": false
  },
  "varInspector": {
   "cols": {
    "lenName": 16,
    "lenType": 16,
    "lenVar": 40
   },
   "kernels_config": {
    "python": {
     "delete_cmd_postfix": "",
     "delete_cmd_prefix": "del ",
     "library": "var_list.py",
     "varRefreshCmd": "print(var_dic_list())"
    },
    "r": {
     "delete_cmd_postfix": ") ",
     "delete_cmd_prefix": "rm(",
     "library": "var_list.r",
     "varRefreshCmd": "cat(var_dic_list()) "
    }
   },
   "types_to_exclude": [
    "module",
    "function",
    "builtin_function_or_method",
    "instance",
    "_Feature"
   ],
   "window_display": false
  }
 },
 "nbformat": 4,
 "nbformat_minor": 5
}
