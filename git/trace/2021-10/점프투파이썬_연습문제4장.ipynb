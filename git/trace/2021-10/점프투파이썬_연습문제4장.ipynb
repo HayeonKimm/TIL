{
  "nbformat": 4,
  "nbformat_minor": 0,
  "metadata": {
    "colab": {
      "name": "점프투파이썬_연습문제4장.ipynb",
      "provenance": [],
      "collapsed_sections": []
    },
    "kernelspec": {
      "name": "python3",
      "display_name": "Python 3"
    },
    "language_info": {
      "name": "python"
    }
  },
  "cells": [
    {
      "cell_type": "markdown",
      "metadata": {
        "id": "iIrqJYej7EoC"
      },
      "source": [
        "# 점프투파이썬_연습문제 4장"
      ]
    },
    {
      "cell_type": "markdown",
      "metadata": {
        "id": "p5MIYG4oz6IR"
      },
      "source": [
        "Q1\n",
        "주어진 자연수가 홀수인지 짝수인지 판별해 주는 함수(is_odd)를 작성해 보자."
      ]
    },
    {
      "cell_type": "code",
      "metadata": {
        "id": "Fbwr5NbIz0-c"
      },
      "source": [
        "def is_odd(a):\n",
        "\n",
        "  if a%2==0:\n",
        "\n",
        "    print('a는 짝수입니다.')\n",
        "\n",
        "  else:\n",
        "\n",
        "    print('a는 홀수입니다.')\n"
      ],
      "execution_count": 1,
      "outputs": []
    },
    {
      "cell_type": "code",
      "metadata": {
        "colab": {
          "base_uri": "https://localhost:8080/"
        },
        "id": "PWwVdhCi0Jod",
        "outputId": "0e26d6fd-8d1b-4ad9-bcf5-a84f9003e62a"
      },
      "source": [
        "is_odd(5)\n",
        "is_odd(6)"
      ],
      "execution_count": 3,
      "outputs": [
        {
          "output_type": "stream",
          "name": "stdout",
          "text": [
            "a는 홀수입니다.\n",
            "a는 짝수입니다.\n"
          ]
        }
      ]
    },
    {
      "cell_type": "markdown",
      "metadata": {
        "id": "axdK3tf_0L83"
      },
      "source": [
        "입력으로 들어오는 모든 수의 평균 값을 계산해 주는 함수를 작성해 보자. (단 입력으로 들어오는 수의 개수는 정해져 있지 않다.)\n",
        "\n",
        "※ 평균 값을 구할 때 len 함수를 사용해 보자."
      ]
    },
    {
      "cell_type": "code",
      "metadata": {
        "id": "aBZjwIsu21S_"
      },
      "source": [
        "def haha(*args):\n",
        "\n",
        "  result=0\n",
        "  num=0\n",
        "  for i in args:\n",
        "    num+=1\n",
        "    result+=i\n",
        "\n",
        "  return result/num\n",
        "  "
      ],
      "execution_count": 8,
      "outputs": []
    },
    {
      "cell_type": "code",
      "metadata": {
        "colab": {
          "base_uri": "https://localhost:8080/"
        },
        "id": "Jll_XY2m3JPc",
        "outputId": "a8fa750b-8f04-4bff-8a8c-9bf7608128a8"
      },
      "source": [
        "haha(1,3,5)"
      ],
      "execution_count": 9,
      "outputs": [
        {
          "output_type": "execute_result",
          "data": {
            "text/plain": [
              "3.0"
            ]
          },
          "metadata": {},
          "execution_count": 9
        }
      ]
    },
    {
      "cell_type": "markdown",
      "metadata": {
        "id": "p_pgJMbd3K3t"
      },
      "source": [
        "Q3\n",
        "다음은 두 개의 숫자를 입력받아 더하여 돌려주는 프로그램이다."
      ]
    },
    {
      "cell_type": "code",
      "metadata": {
        "colab": {
          "base_uri": "https://localhost:8080/"
        },
        "id": "Sd1xSp3D3wk8",
        "outputId": "64b1d0af-a79a-43c0-a06b-d66932339099"
      },
      "source": [
        "input1 = input(\"첫번째 숫자를 입력하세요:\")\n",
        "input2 = input(\"두번째 숫자를 입력하세요:\")\n",
        "\n",
        "total = input1 + input2\n",
        "print(\"두 수의 합은 %s 입니다\" % total)"
      ],
      "execution_count": 10,
      "outputs": [
        {
          "output_type": "stream",
          "name": "stdout",
          "text": [
            "첫번째 숫자를 입력하세요:3\n",
            "두번째 숫자를 입력하세요:5\n",
            "두 수의 합은 35 입니다\n"
          ]
        }
      ]
    },
    {
      "cell_type": "markdown",
      "metadata": {
        "id": "IF4-tSrS3xf0"
      },
      "source": [
        "3과 6을 입력했을 때 9가 아닌 36이라는 결괏값을 돌려주었다. 이 프로그램의 오류를 수정해 보자."
      ]
    },
    {
      "cell_type": "code",
      "metadata": {
        "colab": {
          "base_uri": "https://localhost:8080/"
        },
        "id": "elxYGu3x31xr",
        "outputId": "255b26f9-d530-43ee-d8b6-f5952d3a9812"
      },
      "source": [
        "input1 = int(input(\"첫번째 숫자를 입력하세요:\"))\n",
        "input2 = int(input(\"두번째 숫자를 입력하세요:\"))\n",
        "\n",
        "total = input1 + input2\n",
        "print(\"두 수의 합은 %s 입니다\" % total)"
      ],
      "execution_count": 11,
      "outputs": [
        {
          "output_type": "stream",
          "name": "stdout",
          "text": [
            "첫번째 숫자를 입력하세요:3\n",
            "두번째 숫자를 입력하세요:5\n",
            "두 수의 합은 8 입니다\n"
          ]
        }
      ]
    },
    {
      "cell_type": "markdown",
      "metadata": {
        "id": "BxWGXnqj37r-"
      },
      "source": [
        "Q4\n",
        "다음 중 출력 결과가 다른 것 한 개를 골라 보자."
      ]
    },
    {
      "cell_type": "markdown",
      "metadata": {
        "id": "7TDzKIUX3_fS"
      },
      "source": [
        "print(\"you\" \"need\" \"python\")     \n",
        "print(\"you\"+\"need\"+\"python\")    \n",
        "print(\"you\", \"need\", \"python\")    \n",
        "print(\"\".join([\"you\", \"need\", \"python\"]))   "
      ]
    },
    {
      "cell_type": "markdown",
      "metadata": {
        "id": "38rzxkHE4Bbm"
      },
      "source": [
        "4번"
      ]
    },
    {
      "cell_type": "markdown",
      "metadata": {
        "id": "ApdZlLyR4NYP"
      },
      "source": [
        "Q5   \n",
        "다음은 \"test.txt\"라는 파일에 \"Life is too short\" 문자열을 저장한 후 다시 그    파일을 읽어서 출력하는 프로그램이다.\n",
        "\n",
        "이 프로그램은 우리가 예상한 \"Life is too short\"라는 문장을 출력하지 않는다.    우리가 예상한 값을 출력할 수 있도록 프로그램을 수정해 보자."
      ]
    },
    {
      "cell_type": "code",
      "metadata": {
        "colab": {
          "base_uri": "https://localhost:8080/"
        },
        "id": "-5E67n0A4G3_",
        "outputId": "b18e0587-0c52-4654-f844-2d1b6ba65b1d"
      },
      "source": [
        "f1 = open(\"test.txt\", 'w')\n",
        "f1.write(\"Life is too short\")\n",
        "f1.close()\n",
        "\n",
        "f2 = open(\"test.txt\", 'r')\n",
        "print(f2.read())"
      ],
      "execution_count": 12,
      "outputs": [
        {
          "output_type": "stream",
          "name": "stdout",
          "text": [
            "Life is too short\n"
          ]
        }
      ]
    },
    {
      "cell_type": "markdown",
      "metadata": {
        "id": "XdeYdYtr4SpX"
      },
      "source": [
        "Q6    \n",
        "사용자의 입력을 파일(test.txt)에 저장하는 프로그램을 작성해 보자. (단 프로그램을 다시 실행하더라도 기존에 작성한 내용을 유지하고 새로 입력한 내용을 추가해야 한다.)"
      ]
    },
    {
      "cell_type": "markdown",
      "metadata": {
        "id": "5A7gnsVY5BkB"
      },
      "source": [
        "기존 내용을 유지하고 새로운 내용을 덧붙이기 위해서 다음과 같이 'a' 모드를 사용해야 한다."
      ]
    },
    {
      "cell_type": "code",
      "metadata": {
        "id": "8Ls45_f358Df"
      },
      "source": [
        "user_input = input(\"저장할 내용을 입력하세요.:\")\n",
        "f= open('text.txt','a')\n",
        "f.write(user_input)\n",
        "f.write('\\n')\n",
        "\n",
        "f.close()"
      ],
      "execution_count": null,
      "outputs": []
    },
    {
      "cell_type": "markdown",
      "metadata": {
        "id": "GuWIqrZ-6RtB"
      },
      "source": [
        "Q7.\n",
        "\n",
        "다음과 같은 내용을 지닌 파일 test.txt가 있다. 이 파일의 내용 중 \"java\"라는 문자열을 \"python\"으로 바꾸어서 저장해 보자."
      ]
    },
    {
      "cell_type": "code",
      "metadata": {
        "colab": {
          "base_uri": "https://localhost:8080/"
        },
        "id": "l4n_YIpp4oqF",
        "outputId": "fa80a24f-1546-403e-d20b-f1cb455b7eb1"
      },
      "source": [
        "f1 = open(\"text.txt1\",'w')\n",
        "f1.write(\"Life is too short\\nYou need java\")\n",
        "f1.close()\n",
        "\n",
        "f2 = open('text.txt1','r')\n",
        "print(f2.read())"
      ],
      "execution_count": 14,
      "outputs": [
        {
          "output_type": "stream",
          "name": "stdout",
          "text": [
            "Life is too short\n",
            "You need java\n"
          ]
        }
      ]
    },
    {
      "cell_type": "code",
      "metadata": {
        "id": "Lj-QYlAM4-jA"
      },
      "source": [
        "f3= open(\"text.txt1\",'r')\n",
        "body=f3.read()\n",
        "f3.close()\n",
        "\n",
        "body=body.replace('java','python')\n",
        "\n",
        "f4=open('text.txt1','w')\n",
        "f4.write(body)\n",
        "f4.close()"
      ],
      "execution_count": 19,
      "outputs": []
    },
    {
      "cell_type": "code",
      "metadata": {
        "colab": {
          "base_uri": "https://localhost:8080/"
        },
        "id": "DsNZxd7G5NQc",
        "outputId": "652c910f-05b1-48f6-9371-68f60a0a1250"
      },
      "source": [
        "f4=open('text.txt1','r')\n",
        "print(f4.read()) # print를 넣어야 \\n 같은 요소가 안나온다."
      ],
      "execution_count": 22,
      "outputs": [
        {
          "output_type": "stream",
          "name": "stdout",
          "text": [
            "Life is too short\n",
            "You need python\n"
          ]
        }
      ]
    }
  ]
}