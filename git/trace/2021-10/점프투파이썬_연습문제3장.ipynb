{
  "nbformat": 4,
  "nbformat_minor": 0,
  "metadata": {
    "colab": {
      "name": "점프투파이썬_연습문제3장.ipynb",
      "provenance": [],
      "collapsed_sections": []
    },
    "kernelspec": {
      "name": "python3",
      "display_name": "Python 3"
    },
    "language_info": {
      "name": "python"
    }
  },
  "cells": [
    {
      "cell_type": "markdown",
      "metadata": {
        "id": "dPGJCSufzSt4"
      },
      "source": [
        "### 2장 복습부터"
      ]
    },
    {
      "cell_type": "code",
      "metadata": {
        "colab": {
          "base_uri": "https://localhost:8080/",
          "height": 35
        },
        "id": "48cBtBYwrkx-",
        "outputId": "c9870ac6-2a2a-4b2a-8900-8a0bdbf192ee"
      },
      "source": [
        "# Q7\n",
        "\n",
        "a = ['Life', 'is', 'too', 'short']\n",
        "\n",
        "' '.join(a)\n"
      ],
      "execution_count": 1,
      "outputs": [
        {
          "output_type": "execute_result",
          "data": {
            "application/vnd.google.colaboratory.intrinsic+json": {
              "type": "string"
            },
            "text/plain": [
              "'Life is too short'"
            ]
          },
          "metadata": {},
          "execution_count": 1
        }
      ]
    },
    {
      "cell_type": "code",
      "metadata": {
        "colab": {
          "base_uri": "https://localhost:8080/"
        },
        "id": "_kfhSwIaryMW",
        "outputId": "483c0179-08b1-4a63-d5e0-734adb8aa657"
      },
      "source": [
        "# Q8\n",
        "\n",
        "(1,2,3)+(4,)"
      ],
      "execution_count": 2,
      "outputs": [
        {
          "output_type": "execute_result",
          "data": {
            "text/plain": [
              "(1, 2, 3, 4)"
            ]
          },
          "metadata": {},
          "execution_count": 2
        }
      ]
    },
    {
      "cell_type": "code",
      "metadata": {
        "id": "oOjdKykQr487"
      },
      "source": [
        "# Q9\n",
        "\n",
        "#3번. list는 고정값이 아니라서 안된다.\n",
        "# 딕셔너리의 키로는 변하는 값을 사용할 수 없다."
      ],
      "execution_count": null,
      "outputs": []
    },
    {
      "cell_type": "code",
      "metadata": {
        "colab": {
          "base_uri": "https://localhost:8080/"
        },
        "id": "RYY8x-u0sIID",
        "outputId": "420b1959-750f-47c3-b355-fa4783ec9fdd"
      },
      "source": [
        "# Q10\n",
        "\n",
        "a = {'A':90, 'B':80, 'C':70}\n",
        "\n",
        "a.pop('A')\n",
        "a.pop('B')\n"
      ],
      "execution_count": 4,
      "outputs": [
        {
          "output_type": "execute_result",
          "data": {
            "text/plain": [
              "80"
            ]
          },
          "metadata": {},
          "execution_count": 4
        }
      ]
    },
    {
      "cell_type": "code",
      "metadata": {
        "colab": {
          "base_uri": "https://localhost:8080/"
        },
        "id": "Cs7mgzNZsMxL",
        "outputId": "d70ab660-282b-4453-c0e1-45e1d6b1290e"
      },
      "source": [
        "a = [1, 1, 1, 2, 2, 3, 3, 3, 4, 4, 5]\n",
        "set(a)"
      ],
      "execution_count": 5,
      "outputs": [
        {
          "output_type": "execute_result",
          "data": {
            "text/plain": [
              "{1, 2, 3, 4, 5}"
            ]
          },
          "metadata": {},
          "execution_count": 5
        }
      ]
    },
    {
      "cell_type": "markdown",
      "metadata": {
        "id": "IIYb77tlzWeF"
      },
      "source": [
        "### 3장"
      ]
    },
    {
      "cell_type": "code",
      "metadata": {
        "id": "e0Kdk5CrsSxs"
      },
      "source": [
        "# Q1 \n",
        "\n",
        "shirt"
      ],
      "execution_count": null,
      "outputs": []
    },
    {
      "cell_type": "code",
      "metadata": {
        "colab": {
          "base_uri": "https://localhost:8080/"
        },
        "id": "oQbLjGk_syyD",
        "outputId": "dac3bc27-af60-46d2-e183-425fa5c0552f"
      },
      "source": [
        "# Q3 \n",
        "\n",
        "# 좀 해멨다.\n",
        "\n",
        "result=0\n",
        "i=1\n",
        "\n",
        "while i<=1000:\n",
        "\n",
        "  if i%3==0:\n",
        "    result+=i\n",
        "\n",
        "  i+=1\n",
        "\n",
        "print(result)"
      ],
      "execution_count": 13,
      "outputs": [
        {
          "output_type": "stream",
          "name": "stdout",
          "text": [
            "166833\n"
          ]
        }
      ]
    },
    {
      "cell_type": "code",
      "metadata": {
        "colab": {
          "base_uri": "https://localhost:8080/"
        },
        "id": "4tD4SA37vONL",
        "outputId": "87d5d630-307c-4b33-f492-6f4a07c4e982"
      },
      "source": [
        "for i in range(1,101):\n",
        "  print(i)"
      ],
      "execution_count": 12,
      "outputs": [
        {
          "output_type": "stream",
          "name": "stdout",
          "text": [
            "1\n",
            "2\n",
            "3\n",
            "4\n",
            "5\n",
            "6\n",
            "7\n",
            "8\n",
            "9\n",
            "10\n",
            "11\n",
            "12\n",
            "13\n",
            "14\n",
            "15\n",
            "16\n",
            "17\n",
            "18\n",
            "19\n",
            "20\n",
            "21\n",
            "22\n",
            "23\n",
            "24\n",
            "25\n",
            "26\n",
            "27\n",
            "28\n",
            "29\n",
            "30\n",
            "31\n",
            "32\n",
            "33\n",
            "34\n",
            "35\n",
            "36\n",
            "37\n",
            "38\n",
            "39\n",
            "40\n",
            "41\n",
            "42\n",
            "43\n",
            "44\n",
            "45\n",
            "46\n",
            "47\n",
            "48\n",
            "49\n",
            "50\n",
            "51\n",
            "52\n",
            "53\n",
            "54\n",
            "55\n",
            "56\n",
            "57\n",
            "58\n",
            "59\n",
            "60\n",
            "61\n",
            "62\n",
            "63\n",
            "64\n",
            "65\n",
            "66\n",
            "67\n",
            "68\n",
            "69\n",
            "70\n",
            "71\n",
            "72\n",
            "73\n",
            "74\n",
            "75\n",
            "76\n",
            "77\n",
            "78\n",
            "79\n",
            "80\n",
            "81\n",
            "82\n",
            "83\n",
            "84\n",
            "85\n",
            "86\n",
            "87\n",
            "88\n",
            "89\n",
            "90\n",
            "91\n",
            "92\n",
            "93\n",
            "94\n",
            "95\n",
            "96\n",
            "97\n",
            "98\n",
            "99\n",
            "100\n"
          ]
        }
      ]
    },
    {
      "cell_type": "code",
      "metadata": {
        "colab": {
          "base_uri": "https://localhost:8080/"
        },
        "id": "RzfWQ1J_wKSA",
        "outputId": "e1c778eb-8247-4000-ec42-0fffe09632b6"
      },
      "source": [
        "#Q3\n",
        "\n",
        "i=1\n",
        "while i<6:\n",
        "\n",
        "  print('*'*i)\n",
        "\n",
        "  i+=1 # while 안에 맞춰야한다."
      ],
      "execution_count": 15,
      "outputs": [
        {
          "output_type": "stream",
          "name": "stdout",
          "text": [
            "*\n",
            "**\n",
            "***\n",
            "****\n",
            "*****\n"
          ]
        }
      ]
    },
    {
      "cell_type": "code",
      "metadata": {
        "colab": {
          "base_uri": "https://localhost:8080/"
        },
        "id": "CUfqJntkxOkO",
        "outputId": "954e0daa-cd1f-4092-c02e-7065a52d15ed"
      },
      "source": [
        "# Q5\n",
        "\n",
        "jumsu =[70, 60, 55, 75, 95, 90, 80, 80, 85, 100]\n",
        "sum_=0\n",
        "su_=0\n",
        "for i in jumsu:\n",
        "  \n",
        "  sum_+=i\n",
        "  su_+=1\n",
        "\n",
        "print(sum_/su_)\n",
        "\n",
        "  \n"
      ],
      "execution_count": 16,
      "outputs": [
        {
          "output_type": "stream",
          "name": "stdout",
          "text": [
            "79.0\n"
          ]
        }
      ]
    },
    {
      "cell_type": "code",
      "metadata": {
        "colab": {
          "base_uri": "https://localhost:8080/"
        },
        "id": "i0N8oD76x6dj",
        "outputId": "477a84b1-7edb-4f63-b3bb-30e64757d225"
      },
      "source": [
        "# Q6\n",
        "# 리스트내포?\n",
        "\n",
        "numbers = [1, 2, 3, 4, 5]\n",
        "result = [n*2 for n in numbers if n%2==1]\n",
        "\n",
        "print(result)\n",
        "\n",
        "\n",
        "# for n in numbers:\n",
        "#     if n % 2 == 1:\n",
        "#         result.append(n*2)\n",
        "\n",
        "\n"
      ],
      "execution_count": 19,
      "outputs": [
        {
          "output_type": "stream",
          "name": "stdout",
          "text": [
            "[2, 6, 10]\n"
          ]
        }
      ]
    }
  ]
}