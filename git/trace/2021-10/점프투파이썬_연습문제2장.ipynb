{
 "cells": [
  {
   "cell_type": "code",
   "execution_count": 8,
   "id": "3bd15348",
   "metadata": {},
   "outputs": [
    {
     "data": {
      "text/plain": [
       "70.0"
      ]
     },
     "execution_count": 8,
     "metadata": {},
     "output_type": "execute_result"
    }
   ],
   "source": [
    "# 홍길동 씨의 평균 점수를 구해보자.\n",
    "\n",
    "(80+75+55)/3\n",
    "\n",
    "# 70점"
   ]
  },
  {
   "cell_type": "code",
   "execution_count": 9,
   "id": "17239f0a",
   "metadata": {},
   "outputs": [
    {
     "name": "stdout",
     "output_type": "stream",
     "text": [
      "홀수\n"
     ]
    }
   ],
   "source": [
    "if 13%2 == 0:\n",
    "    print('짝수')\n",
    "    \n",
    "else:\n",
    "    print('홀수')"
   ]
  },
  {
   "cell_type": "code",
   "execution_count": 13,
   "id": "f86243cb",
   "metadata": {},
   "outputs": [
    {
     "data": {
      "text/plain": [
       "['881120', '1068234']"
      ]
     },
     "execution_count": 13,
     "metadata": {},
     "output_type": "execute_result"
    }
   ],
   "source": [
    "# 홍길동 씨의 주민등록번호는 881120-1068234이다. \n",
    "\n",
    "\n",
    "# 홍길동 씨의 주민등록번호를 연월일(YYYYMMDD) 부분과 그 뒤의 숫자 부분으로 나누어 출력해 보자.\n",
    "\n",
    "\n",
    "a='881120-1068234'\n",
    "a.split('-')"
   ]
  },
  {
   "cell_type": "code",
   "execution_count": 15,
   "id": "00c14e68",
   "metadata": {},
   "outputs": [
    {
     "data": {
      "text/plain": [
       "'1'"
      ]
     },
     "execution_count": 15,
     "metadata": {},
     "output_type": "execute_result"
    }
   ],
   "source": [
    "pin = \"881120-1068234\"\n",
    "\n",
    "pin[7]"
   ]
  },
  {
   "cell_type": "code",
   "execution_count": 16,
   "id": "d5c852ab",
   "metadata": {},
   "outputs": [
    {
     "data": {
      "text/plain": [
       "'a#b#c#d'"
      ]
     },
     "execution_count": 16,
     "metadata": {},
     "output_type": "execute_result"
    }
   ],
   "source": [
    "# 다음과 같은 문자열 a:b:c:d가 있다. 문자열의 replace 함수를 사용하여 a#b#c#d로 바꿔서 출력해 보자.\n",
    "\n",
    "\n",
    "a = \"a:b:c:d\"\n",
    "\n",
    "a.replace(':','#')"
   ]
  },
  {
   "cell_type": "code",
   "execution_count": 19,
   "id": "4c6153e9",
   "metadata": {},
   "outputs": [
    {
     "data": {
      "text/plain": [
       "[1, 2, 3, 4, 5]"
      ]
     },
     "execution_count": 19,
     "metadata": {},
     "output_type": "execute_result"
    }
   ],
   "source": [
    "# [1, 3, 5, 4, 2] 리스트를 [5, 4, 3, 2, 1]로 만들어 보자.\n",
    "\n",
    "\n",
    "b=[1,3,5,4,2]\n",
    "b.sort()\n",
    "b"
   ]
  },
  {
   "cell_type": "code",
   "execution_count": 23,
   "id": "1d68fb4a",
   "metadata": {},
   "outputs": [
    {
     "data": {
      "text/plain": [
       "'Life is too short'"
      ]
     },
     "execution_count": 23,
     "metadata": {},
     "output_type": "execute_result"
    }
   ],
   "source": [
    "# ['Life', 'is', 'too', 'short'] 리스트를 Life is too short 문자열로 만들어 출력해 보자.\n",
    "\n",
    "\n",
    "\n",
    "c=['Life', 'is', 'too', 'short']\n",
    "\" \".join(c)\n",
    "\n",
    "\n",
    "\n",
    "# a 리스트의 각 단어들을 한 문장으로 조립할 때 단어들 사이마다 공백을 넣어 주어야 한다.\n",
    "\n",
    "# 1개의 공백문자(\" \")를 사용하여 join한다."
   ]
  },
  {
   "cell_type": "code",
   "execution_count": 35,
   "id": "af1cfd4f",
   "metadata": {},
   "outputs": [
    {
     "data": {
      "text/plain": [
       "(1, 2, 3, 4)"
      ]
     },
     "execution_count": 35,
     "metadata": {},
     "output_type": "execute_result"
    }
   ],
   "source": [
    "a=(1,2,3)\n",
    "b=(4,)\n",
    "a+b\n",
    "\n",
    "\n",
    "\n",
    "# a 튜플에 (4, )라는 튜플을 더하면 된다.\n",
    "\n",
    "\n",
    "# 단, 이때 만들어지는 a + (4, )의 결과는 a 값이 변경되는 것이 아니라(튜플은 그 값을 변경할 수 없다) 새로운 튜플이 생성되고 그 값이 a 변수에 대입되는 것임에 유념하자."
   ]
  },
  {
   "cell_type": "code",
   "execution_count": 36,
   "id": "48adf259",
   "metadata": {},
   "outputs": [
    {
     "data": {
      "text/plain": [
       "{}"
      ]
     },
     "execution_count": 36,
     "metadata": {},
     "output_type": "execute_result"
    }
   ],
   "source": [
    "a = dict()\n",
    "a\n",
    "\n",
    "\n",
    "# a['name'] = 'python'\n",
    "# a[('a',)] = 'python'\n",
    "# a[[1]] = 'python'\n",
    "# a[250] = 'python'\n",
    "\n",
    "오류가 발생하는 이유는 딕셔너리의 키로는 변하는(mutable) 값을 사용할 수 없기 때문이다.  \n",
    "\n",
    "위 예에서 키로 사용된 [1]은 리스트이므로 변하는 값이다. 다른 예에서 키로 사용된 문자열, 튜플, 숫자는 변하지 않는(immutable) 값이므로 딕셔너리의 키로 사용이 가능하다."
   ]
  },
  {
   "cell_type": "code",
   "execution_count": 39,
   "id": "49f9fdda",
   "metadata": {},
   "outputs": [
    {
     "data": {
      "text/plain": [
       "80"
      ]
     },
     "execution_count": 39,
     "metadata": {},
     "output_type": "execute_result"
    }
   ],
   "source": [
    "a = {'A':90, 'B':80, 'C':70}\n",
    "\n",
    "a.pop('B')"
   ]
  },
  {
   "cell_type": "code",
   "execution_count": 40,
   "id": "e1b25bab",
   "metadata": {},
   "outputs": [
    {
     "data": {
      "text/plain": [
       "{1, 2, 3, 4, 5}"
      ]
     },
     "execution_count": 40,
     "metadata": {},
     "output_type": "execute_result"
    }
   ],
   "source": [
    "a = [1, 1, 1, 2, 2, 3, 3, 3, 4, 4, 5]\n",
    "\n",
    "set(a)"
   ]
  },
  {
   "cell_type": "code",
   "execution_count": 41,
   "id": "e7eec75b",
   "metadata": {},
   "outputs": [
    {
     "name": "stdout",
     "output_type": "stream",
     "text": [
      "[1, 4, 3]\n"
     ]
    }
   ],
   "source": [
    "a=b=[1,2,3]\n",
    "a[1]=4\n",
    "print(b)\n",
    "\n",
    "\n",
    "# [1, 4, 3]이 출력된다. a와 b 변수는 모두 동일한 [1, 2, 3]이라는 리스트 객체를 가리키고 있기 때문이다."
   ]
  }
 ],
 "metadata": {
  "kernelspec": {
   "display_name": "Python 3 (ipykernel)",
   "language": "python",
   "name": "python3"
  },
  "language_info": {
   "codemirror_mode": {
    "name": "ipython",
    "version": 3
   },
   "file_extension": ".py",
   "mimetype": "text/x-python",
   "name": "python",
   "nbconvert_exporter": "python",
   "pygments_lexer": "ipython3",
   "version": "3.8.11"
  },
  "toc": {
   "base_numbering": 1,
   "nav_menu": {},
   "number_sections": true,
   "sideBar": true,
   "skip_h1_title": false,
   "title_cell": "Table of Contents",
   "title_sidebar": "Contents",
   "toc_cell": false,
   "toc_position": {},
   "toc_section_display": true,
   "toc_window_display": false
  }
 },
 "nbformat": 4,
 "nbformat_minor": 5
}
