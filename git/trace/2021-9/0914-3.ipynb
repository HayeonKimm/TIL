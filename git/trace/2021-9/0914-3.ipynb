{
 "cells": [
  {
   "cell_type": "code",
   "execution_count": 1,
   "id": "bdff846c",
   "metadata": {},
   "outputs": [],
   "source": [
    "# 필요 라이브러리 import\n",
    "\n",
    "from bs4 import BeautifulSoup\n",
    "import requests\n",
    "import pandas as pd\n",
    "import datetime\n",
    "from selenium import webdriver\n",
    "import time\n",
    "from selenium.webdriver.common.keys import Keys"
   ]
  },
  {
   "cell_type": "code",
   "execution_count": 2,
   "id": "194f7184",
   "metadata": {},
   "outputs": [],
   "source": [
    "path = 'chromedriver.exe'\n",
    "driver = webdriver.Chrome(path)\n",
    "\n",
    "# url\n",
    "url = 'https://data.kma.go.kr/data/grnd/selectAsosRltmList.do?pgmNo=36'\n",
    "driver.get(url)"
   ]
  },
  {
   "cell_type": "code",
   "execution_count": 3,
   "id": "3e090d57",
   "metadata": {},
   "outputs": [],
   "source": [
    "# day_day=list(range(1,32,1))\n",
    "day_month= ['01','02','03','04','05','06','07','08','09','10','11','12']\n",
    "day_year=list(range(2017,2020,1))\n",
    "day_day =['01', '02','03','04', '05', '06', '07', '08', '09', '10', '11', '12', '13', '14', '15', '16', '17', '18', '19', '20',\n",
    "'21', '22', '23', '24', '25', '26', '27', '28', '29', '30', '31']"
   ]
  },
  {
   "cell_type": "code",
   "execution_count": 4,
   "id": "aa7bc8fd",
   "metadata": {},
   "outputs": [
    {
     "name": "stdout",
     "output_type": "stream",
     "text": [
      "1 10\n",
      "11 20\n",
      "21 23\n"
     ]
    }
   ],
   "source": [
    "time1 = [1,11,21]\n",
    "time2 = [10,20,23]\n",
    "\n",
    "for time_1, time_2 in zip(time1, time2):\n",
    "    print(time_1, time_2)"
   ]
  },
  {
   "cell_type": "code",
   "execution_count": 5,
   "id": "12b1588e",
   "metadata": {},
   "outputs": [],
   "source": [
    "pass_number=0"
   ]
  },
  {
   "cell_type": "code",
   "execution_count": 6,
   "id": "5d022f34",
   "metadata": {},
   "outputs": [],
   "source": [
    "import random"
   ]
  },
  {
   "cell_type": "code",
   "execution_count": null,
   "id": "71e99c9c",
   "metadata": {},
   "outputs": [
    {
     "name": "stdout",
     "output_type": "stream",
     "text": [
      "1\n"
     ]
    }
   ],
   "source": [
    "for j in day_month:\n",
    "\n",
    "\n",
    "    for i in day_day:\n",
    "\n",
    "        try:\n",
    "            \n",
    "            \n",
    "            time.sleep(random.uniform(5,10))\n",
    "\n",
    "            \n",
    "            \n",
    "            driver.find_element_by_css_selector('#ztree_63_check').click()\n",
    "            driver.find_element_by_css_selector('#ztree1_1_check').click()\n",
    "            \n",
    "            time.sleep(random.uniform(5,10))\n",
    "            \n",
    "            driver.find_element_by_xpath('//*[@id=\"startDt_d\"]').clear()\n",
    "            driver.find_element_by_xpath('//*[@id=\"startDt_d\"]').send_keys('2017{}{}'.format(j,i))\n",
    "\n",
    "            driver.find_element_by_xpath('//*[@id=\"endDt_d\"]').clear()\n",
    "            driver.find_element_by_xpath('//*[@id=\"endDt_d\"]').send_keys('2017{}{}'.format(j,i))\n",
    "\n",
    "            time.sleep(random.uniform(5,10))\n",
    "        \n",
    "            for time_1, time_2 in zip(time1, time2):\n",
    "            \n",
    "                driver.find_element_by_css_selector('#startHh > option:nth-child(%d)'%time_1).click()\n",
    "                driver.find_element_by_css_selector('#endHh > option:nth-child(%d)'%time_2).click()\n",
    "            \n",
    "                                            \n",
    "                # 조회버튼 클릭\n",
    "\n",
    "                driver.find_element_by_css_selector('#dsForm > div.wrap_btn > button').click()\n",
    "                time.sleep(random.uniform(5,10))\n",
    "\n",
    "\n",
    "                # csv 다운로드 클릭\n",
    "\n",
    "    #             driver.find_element_by_css_selector('#wrap_content > div.wrap_itm.area_data > div.hd_itm > div > a:nth-child(1)').clear().click()\n",
    "                driver.find_element_by_css_selector('#wrap_content > div.wrap_itm.area_data > div.hd_itm > div > a:nth-child(1)').click()\n",
    "\n",
    "                # driver.find_element_by_css_selector('#reqstPurposeCd7').click()\n",
    "                # driver.find_element_by_css_selector('#wrap-datapop > div > div.cont_layer.box > div > a.btn_request').click()\n",
    "\n",
    "                # 다운로드 화면\n",
    "                \n",
    "                time.sleep(random.uniform(5,10))\n",
    "                \n",
    "                driver.find_element_by_css_selector('#reqstPurposeCd7').click()\n",
    "\n",
    "    #             driver.find_element_by_css_selector('#wrap-datapop > div > div.cont_layer.box > div > a.btn_request').clear()\n",
    "                driver.find_element_by_css_selector('#wrap-datapop > div > div.cont_layer.box > div > a.btn_request').click()\n",
    "\n",
    "                time.sleep(random.uniform(7,12))\n",
    "\n",
    "            \n",
    "            # -------------            \n",
    "            \n",
    "            \n",
    "        except:\n",
    "            pass_number+=1\n",
    "            print(pass_number)"
   ]
  },
  {
   "cell_type": "code",
   "execution_count": 2,
   "id": "e1aca135",
   "metadata": {},
   "outputs": [],
   "source": [
    "import pandas as pd"
   ]
  },
  {
   "cell_type": "code",
   "execution_count": 5,
   "id": "62d3ea7d",
   "metadata": {},
   "outputs": [],
   "source": [
    "df1 = pd.read_csv('2017.csv',encoding='cp949')\n",
    "df2 = pd.read_csv('2018.csv',encoding='cp949')\n",
    "df3 = pd.read_csv('2019.csv',encoding='cp949')"
   ]
  },
  {
   "cell_type": "code",
   "execution_count": 7,
   "id": "a9ba2519",
   "metadata": {},
   "outputs": [],
   "source": [
    "df = pd.concat([df1, df2, df3]) "
   ]
  },
  {
   "cell_type": "code",
   "execution_count": 10,
   "id": "d470c0b7",
   "metadata": {},
   "outputs": [],
   "source": [
    "df.to_csv('종로구_날씨데이터.csv',encoding='cp949')"
   ]
  },
  {
   "cell_type": "code",
   "execution_count": 12,
   "id": "6f9b2077",
   "metadata": {},
   "outputs": [],
   "source": [
    "df = pd.read_csv('종로구_날씨데이터.csv',encoding='cp949')"
   ]
  },
  {
   "cell_type": "code",
   "execution_count": 14,
   "id": "592bd248",
   "metadata": {},
   "outputs": [
    {
     "data": {
      "text/html": [
       "<div>\n",
       "<style scoped>\n",
       "    .dataframe tbody tr th:only-of-type {\n",
       "        vertical-align: middle;\n",
       "    }\n",
       "\n",
       "    .dataframe tbody tr th {\n",
       "        vertical-align: top;\n",
       "    }\n",
       "\n",
       "    .dataframe thead th {\n",
       "        text-align: right;\n",
       "    }\n",
       "</style>\n",
       "<table border=\"1\" class=\"dataframe\">\n",
       "  <thead>\n",
       "    <tr style=\"text-align: right;\">\n",
       "      <th></th>\n",
       "      <th>Unnamed: 0</th>\n",
       "      <th>지점</th>\n",
       "      <th>일시</th>\n",
       "      <th>기온(°C)</th>\n",
       "      <th>강수량(mm)</th>\n",
       "      <th>풍속(m/s)</th>\n",
       "      <th>풍향(16방위)</th>\n",
       "      <th>습도(%)</th>\n",
       "      <th>증기압(hPa)</th>\n",
       "      <th>이슬점온도(°C)</th>\n",
       "      <th>...</th>\n",
       "      <th>운형(운형약어)</th>\n",
       "      <th>최저운고(100m )</th>\n",
       "      <th>시정(10m)</th>\n",
       "      <th>지면상태(지면상태코드)</th>\n",
       "      <th>현상번호(국내식)</th>\n",
       "      <th>지면온도(°C)</th>\n",
       "      <th>5cm 지중온도(°C)</th>\n",
       "      <th>10cm 지중온도(°C)</th>\n",
       "      <th>20cm 지중온도(°C)</th>\n",
       "      <th>30cm 지중온도(°C)</th>\n",
       "    </tr>\n",
       "  </thead>\n",
       "  <tbody>\n",
       "    <tr>\n",
       "      <th>0</th>\n",
       "      <td>1</td>\n",
       "      <td>108</td>\n",
       "      <td>2017-01-01 0:00</td>\n",
       "      <td>0.2</td>\n",
       "      <td>NaN</td>\n",
       "      <td>2.2</td>\n",
       "      <td>20.0</td>\n",
       "      <td>79.0</td>\n",
       "      <td>4.9</td>\n",
       "      <td>-3.0</td>\n",
       "      <td>...</td>\n",
       "      <td>Sc</td>\n",
       "      <td>8.0</td>\n",
       "      <td>491</td>\n",
       "      <td>NaN</td>\n",
       "      <td>40.0</td>\n",
       "      <td>-0.9</td>\n",
       "      <td>0.1</td>\n",
       "      <td>0.3</td>\n",
       "      <td>1.7</td>\n",
       "      <td>2.6</td>\n",
       "    </tr>\n",
       "    <tr>\n",
       "      <th>1</th>\n",
       "      <td>2</td>\n",
       "      <td>108</td>\n",
       "      <td>2017-01-01 1:00</td>\n",
       "      <td>0.0</td>\n",
       "      <td>NaN</td>\n",
       "      <td>1.4</td>\n",
       "      <td>20.0</td>\n",
       "      <td>78.0</td>\n",
       "      <td>4.8</td>\n",
       "      <td>-3.3</td>\n",
       "      <td>...</td>\n",
       "      <td>NaN</td>\n",
       "      <td>7.0</td>\n",
       "      <td>549</td>\n",
       "      <td>NaN</td>\n",
       "      <td>40.0</td>\n",
       "      <td>-0.9</td>\n",
       "      <td>0.0</td>\n",
       "      <td>0.3</td>\n",
       "      <td>1.7</td>\n",
       "      <td>2.6</td>\n",
       "    </tr>\n",
       "    <tr>\n",
       "      <th>2</th>\n",
       "      <td>3</td>\n",
       "      <td>108</td>\n",
       "      <td>2017-01-01 2:00</td>\n",
       "      <td>-0.3</td>\n",
       "      <td>NaN</td>\n",
       "      <td>1.9</td>\n",
       "      <td>50.0</td>\n",
       "      <td>81.0</td>\n",
       "      <td>4.9</td>\n",
       "      <td>-3.1</td>\n",
       "      <td>...</td>\n",
       "      <td>NaN</td>\n",
       "      <td>8.0</td>\n",
       "      <td>483</td>\n",
       "      <td>NaN</td>\n",
       "      <td>4019.0</td>\n",
       "      <td>-1.8</td>\n",
       "      <td>0.0</td>\n",
       "      <td>0.3</td>\n",
       "      <td>1.7</td>\n",
       "      <td>2.6</td>\n",
       "    </tr>\n",
       "    <tr>\n",
       "      <th>3</th>\n",
       "      <td>4</td>\n",
       "      <td>108</td>\n",
       "      <td>2017-01-01 3:00</td>\n",
       "      <td>-0.7</td>\n",
       "      <td>NaN</td>\n",
       "      <td>2.0</td>\n",
       "      <td>50.0</td>\n",
       "      <td>84.0</td>\n",
       "      <td>4.9</td>\n",
       "      <td>-3.0</td>\n",
       "      <td>...</td>\n",
       "      <td>NaN</td>\n",
       "      <td>NaN</td>\n",
       "      <td>436</td>\n",
       "      <td>NaN</td>\n",
       "      <td>19.0</td>\n",
       "      <td>-2.1</td>\n",
       "      <td>0.0</td>\n",
       "      <td>0.3</td>\n",
       "      <td>1.7</td>\n",
       "      <td>2.7</td>\n",
       "    </tr>\n",
       "    <tr>\n",
       "      <th>4</th>\n",
       "      <td>5</td>\n",
       "      <td>108</td>\n",
       "      <td>2017-01-01 4:00</td>\n",
       "      <td>-1.1</td>\n",
       "      <td>NaN</td>\n",
       "      <td>1.6</td>\n",
       "      <td>20.0</td>\n",
       "      <td>85.0</td>\n",
       "      <td>4.8</td>\n",
       "      <td>-3.3</td>\n",
       "      <td>...</td>\n",
       "      <td>NaN</td>\n",
       "      <td>NaN</td>\n",
       "      <td>430</td>\n",
       "      <td>NaN</td>\n",
       "      <td>19.0</td>\n",
       "      <td>-2.4</td>\n",
       "      <td>-0.1</td>\n",
       "      <td>0.4</td>\n",
       "      <td>1.7</td>\n",
       "      <td>2.6</td>\n",
       "    </tr>\n",
       "  </tbody>\n",
       "</table>\n",
       "<p>5 rows × 28 columns</p>\n",
       "</div>"
      ],
      "text/plain": [
       "   Unnamed: 0   지점               일시  기온(°C)  강수량(mm)  풍속(m/s)  풍향(16방위)  \\\n",
       "0           1  108  2017-01-01 0:00     0.2      NaN      2.2      20.0   \n",
       "1           2  108  2017-01-01 1:00     0.0      NaN      1.4      20.0   \n",
       "2           3  108  2017-01-01 2:00    -0.3      NaN      1.9      50.0   \n",
       "3           4  108  2017-01-01 3:00    -0.7      NaN      2.0      50.0   \n",
       "4           5  108  2017-01-01 4:00    -1.1      NaN      1.6      20.0   \n",
       "\n",
       "   습도(%)  증기압(hPa)  이슬점온도(°C)  ...  운형(운형약어)  최저운고(100m )  시정(10m)  \\\n",
       "0   79.0       4.9       -3.0  ...        Sc          8.0      491   \n",
       "1   78.0       4.8       -3.3  ...       NaN          7.0      549   \n",
       "2   81.0       4.9       -3.1  ...       NaN          8.0      483   \n",
       "3   84.0       4.9       -3.0  ...       NaN          NaN      436   \n",
       "4   85.0       4.8       -3.3  ...       NaN          NaN      430   \n",
       "\n",
       "   지면상태(지면상태코드)  현상번호(국내식)  지면온도(°C)  5cm 지중온도(°C)  10cm 지중온도(°C)  \\\n",
       "0           NaN       40.0      -0.9           0.1            0.3   \n",
       "1           NaN       40.0      -0.9           0.0            0.3   \n",
       "2           NaN     4019.0      -1.8           0.0            0.3   \n",
       "3           NaN       19.0      -2.1           0.0            0.3   \n",
       "4           NaN       19.0      -2.4          -0.1            0.4   \n",
       "\n",
       "  20cm 지중온도(°C)  30cm 지중온도(°C)  \n",
       "0           1.7            2.6  \n",
       "1           1.7            2.6  \n",
       "2           1.7            2.6  \n",
       "3           1.7            2.7  \n",
       "4           1.7            2.6  \n",
       "\n",
       "[5 rows x 28 columns]"
      ]
     },
     "execution_count": 14,
     "metadata": {},
     "output_type": "execute_result"
    }
   ],
   "source": [
    "df.head()"
   ]
  },
  {
   "cell_type": "code",
   "execution_count": 16,
   "id": "58fb5fea",
   "metadata": {},
   "outputs": [],
   "source": [
    "import missingno"
   ]
  },
  {
   "cell_type": "code",
   "execution_count": 21,
   "id": "b5614c7e",
   "metadata": {
    "scrolled": false
   },
   "outputs": [
    {
     "data": {
      "text/plain": [
       "<AxesSubplot:>"
      ]
     },
     "execution_count": 21,
     "metadata": {},
     "output_type": "execute_result"
    },
    {
     "data": {
      "image/png": "[encoded data removed]",
      "text/plain": [
       "<Figure size 1800x720 with 2 Axes>"
      ]
     },
     "metadata": {
      "needs_background": "light"
     },
     "output_type": "display_data"
    }
   ],
   "source": [
    "missingno.matrix(df)"
   ]
  },
  {
   "cell_type": "code",
   "execution_count": 22,
   "id": "4356ac67",
   "metadata": {},
   "outputs": [
    {
     "data": {
      "text/plain": [
       "Index(['Unnamed: 0', '지점', '일시', '기온(°C)', '강수량(mm)', '풍속(m/s)', '풍향(16방위)',\n",
       "       '습도(%)', '증기압(hPa)', '이슬점온도(°C)', '현지기압(hPa)', '해면기압(hPa)', '일조(hr)',\n",
       "       '일사(MJ/m2)', '적설(cm)', '3시간신적설(cm)', '전운량(10분위)', '중하층운량(10분위)',\n",
       "       '운형(운형약어)', '최저운고(100m )', '시정(10m)', '지면상태(지면상태코드)', '현상번호(국내식)',\n",
       "       '지면온도(°C)', '5cm 지중온도(°C)', '10cm 지중온도(°C)', '20cm 지중온도(°C)',\n",
       "       '30cm 지중온도(°C)'],\n",
       "      dtype='object')"
      ]
     },
     "execution_count": 22,
     "metadata": {},
     "output_type": "execute_result"
    }
   ],
   "source": [
    "df.columns"
   ]
  },
  {
   "cell_type": "code",
   "execution_count": 26,
   "id": "480d1ccb",
   "metadata": {},
   "outputs": [],
   "source": [
    "df=df.drop(['운형(운형약어)','Unnamed: 0','이슬점온도(°C)','해면기압(hPa)','3시간신적설(cm)', '전운량(10분위)', '중하층운량(10분위)','현상번호(국내식)'],axis=1)"
   ]
  },
  {
   "cell_type": "code",
   "execution_count": 28,
   "id": "9e097927",
   "metadata": {},
   "outputs": [],
   "source": [
    "df.to_csv('종로구_날씨데이터.csv',encoding='cp949')"
   ]
  },
  {
   "cell_type": "code",
   "execution_count": null,
   "id": "ad6966f5",
   "metadata": {},
   "outputs": [],
   "source": []
  },
  {
   "cell_type": "code",
   "execution_count": 20,
   "id": "d0be359c",
   "metadata": {},
   "outputs": [],
   "source": [
    "import pandas as pd\n",
    "import seaborn as sns\n",
    "import matplotlib as mp\n",
    "import matplotlib.pyplot as plt\n",
    "# plt.rcParams['font.family'] = 'NanumGothic'\n",
    "plt.rcParams['font.family']='Malgun Gothic'  # Windows\n",
    "plt.style.use(\"seaborn-pastel\")"
   ]
  },
  {
   "cell_type": "code",
   "execution_count": null,
   "id": "1a54b81e",
   "metadata": {},
   "outputs": [],
   "source": []
  }
 ],
 "metadata": {
  "kernelspec": {
   "display_name": "Python 3 (ipykernel)",
   "language": "python",
   "name": "python3"
  },
  "language_info": {
   "codemirror_mode": {
    "name": "ipython",
    "version": 3
   },
   "file_extension": ".py",
   "mimetype": "text/x-python",
   "name": "python",
   "nbconvert_exporter": "python",
   "pygments_lexer": "ipython3",
   "version": "3.8.11"
  }
 },
 "nbformat": 4,
 "nbformat_minor": 5
}
