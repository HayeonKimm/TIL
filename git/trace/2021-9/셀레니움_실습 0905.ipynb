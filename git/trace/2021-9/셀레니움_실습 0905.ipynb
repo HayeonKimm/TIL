{
 "cells": [
  {
   "cell_type": "markdown",
   "id": "1cbe232b",
   "metadata": {},
   "source": [
    "# 셀리니움 실습 0905"
   ]
  },
  {
   "cell_type": "code",
   "execution_count": 55,
   "id": "f7ac149e",
   "metadata": {},
   "outputs": [],
   "source": [
    "from bs4 import BeautifulSoup\n",
    "import requests\n",
    "import pandas as pd\n",
    "import datetime\n",
    "\n",
    "from selenium import webdriver\n",
    "import time"
   ]
  },
  {
   "cell_type": "code",
   "execution_count": 56,
   "id": "43b3db34",
   "metadata": {},
   "outputs": [],
   "source": [
    "# %ls"
   ]
  },
  {
   "cell_type": "code",
   "execution_count": 26,
   "id": "65347c40",
   "metadata": {},
   "outputs": [],
   "source": [
    "path = 'C:/Users/cityo/Desktop/chromedriver.exe'\n",
    "driver = webdriver.Chrome(path)"
   ]
  },
  {
   "cell_type": "code",
   "execution_count": 27,
   "id": "ed295e12",
   "metadata": {},
   "outputs": [],
   "source": [
    "url = 'https://tmacs.kotsa.or.kr/main.jsp#'\n",
    "driver.get(url)"
   ]
  },
  {
   "cell_type": "code",
   "execution_count": 28,
   "id": "dd1c3172",
   "metadata": {},
   "outputs": [],
   "source": [
    "transBtn = driver.find_element_by_css_selector('#header > div > p.tmenu > a')\n",
    "transBtn.click()"
   ]
  },
  {
   "cell_type": "code",
   "execution_count": 31,
   "id": "31e06ebe",
   "metadata": {},
   "outputs": [],
   "source": [
    "tranBtn2= driver.find_element_by_css_selector('#gnb > div.mgnb > div.mbright > div:nth-child(1) > ul > li:nth-child(2) > ul > li:nth-child(1) > a')\n",
    "tranBtn2.click()"
   ]
  },
  {
   "cell_type": "code",
   "execution_count": 32,
   "id": "9e4976ff",
   "metadata": {},
   "outputs": [],
   "source": [
    "transBtn3 = driver.find_element_by_css_selector('#gnb > div.mgnb > div.mbright > div:nth-child(1) > ul > li:nth-child(2) > ul > li:nth-child(1) > ul > li:nth-child(1) > a')\n",
    "transBtn3.click()"
   ]
  },
  {
   "cell_type": "code",
   "execution_count": null,
   "id": "05fa82bb",
   "metadata": {},
   "outputs": [],
   "source": []
  },
  {
   "cell_type": "markdown",
   "id": "8b24837e",
   "metadata": {},
   "source": [
    "## ver2"
   ]
  },
  {
   "cell_type": "code",
   "execution_count": 232,
   "id": "a274d1b0",
   "metadata": {},
   "outputs": [],
   "source": [
    "# 시작\n",
    "path = 'C:/Users/cityo/Desktop/chromedriver.exe'\n",
    "driver = webdriver.Chrome(path)"
   ]
  },
  {
   "cell_type": "code",
   "execution_count": 233,
   "id": "307df2a5",
   "metadata": {},
   "outputs": [],
   "source": [
    "# 홈페이지 들어가기\n",
    "url = 'https://tmacs.kotsa.or.kr/web/TG/TG300/TG3100/Tg2127.jsp?mid=S1810#'\n",
    "driver.get(url)"
   ]
  },
  {
   "cell_type": "code",
   "execution_count": 234,
   "id": "f9b25745",
   "metadata": {},
   "outputs": [],
   "source": [
    "# 시도 구분 선택\n",
    "transbtnn = driver.find_element_by_css_selector('#sido')\n",
    "transbtnn.click()"
   ]
  },
  {
   "cell_type": "code",
   "execution_count": 235,
   "id": "cf60442c",
   "metadata": {},
   "outputs": [],
   "source": [
    "# 검색\n",
    "trans2 = driver.find_element_by_css_selector('#sido > option:nth-child(2)')\n",
    "trans2.click()"
   ]
  },
  {
   "cell_type": "code",
   "execution_count": 236,
   "id": "39aff88a",
   "metadata": {},
   "outputs": [],
   "source": [
    "trans3 = driver.find_element_by_css_selector('#content > div.cont_box > div.filterForm.h_md > div.btn_wrap > a')\n",
    "trans3.click()\n",
    "time.sleep(5)"
   ]
  },
  {
   "cell_type": "code",
   "execution_count": 237,
   "id": "6394fbba",
   "metadata": {},
   "outputs": [],
   "source": [
    "trans4 = driver.find_element_by_css_selector('#rMateH5__Content69 > div:nth-child(15) > span > img')\n",
    "trans4.click()"
   ]
  },
  {
   "cell_type": "code",
   "execution_count": 242,
   "id": "7ddcbf3a",
   "metadata": {},
   "outputs": [],
   "source": [
    "# # 팝업창이 여러개 일때 \n",
    "# main = driver.window_handles \n",
    "# for handle in main: \n",
    "#    if handle != main[1]: \n",
    "#        driver.switch_to_window(handle) \n",
    "#        driver.close()"
   ]
  },
  {
   "cell_type": "code",
   "execution_count": 230,
   "id": "9dae9ed7",
   "metadata": {},
   "outputs": [],
   "source": [
    "def change_window(self, target: str):\n",
    "    if target == 'parent':\n",
    "            # child window close\n",
    "        self.driver.close()\n",
    "        self.driver.switch_to.window(self.driver.window_handles[0])\n",
    "    elif target == 'child':\n",
    "        self.driver.switch_to.window(self.driver.window_handles[1])\n",
    "    else:\n",
    "        print(\"Wrong target!\")"
   ]
  },
  {
   "cell_type": "code",
   "execution_count": 239,
   "id": "b8231c37",
   "metadata": {},
   "outputs": [],
   "source": [
    "# 최근 열린 탭으로 전환\n",
    "driver.switch_to.window(driver.window_handles[-1])\n",
    "\n",
    "# 로딩 기다리기\n",
    "time.sleep(5)"
   ]
  },
  {
   "cell_type": "code",
   "execution_count": 240,
   "id": "809f0d85",
   "metadata": {},
   "outputs": [],
   "source": [
    "trans5 = driver.find_element_by_css_selector('#tabId03 > a')\n",
    "trans5.click()"
   ]
  },
  {
   "cell_type": "code",
   "execution_count": 241,
   "id": "eca9fbb0",
   "metadata": {},
   "outputs": [],
   "source": [
    "trans6 = driver.find_element_by_css_selector('#new_popup > div.pop_cont > div.btn_box > a.btn.exbtn')\n",
    "trans6.click()"
   ]
  },
  {
   "cell_type": "markdown",
   "id": "bb3fb854",
   "metadata": {},
   "source": [
    "-----------"
   ]
  },
  {
   "cell_type": "code",
   "execution_count": 268,
   "id": "4e89579b",
   "metadata": {},
   "outputs": [],
   "source": [
    "# path = 'C:/Users/cityo/Desktop/chromedriver.exe'\n",
    "# driver = webdriver.Chrome(path)\n",
    "\n",
    "# url = 'https://tmacs.kotsa.or.kr/web/TG/TG300/TG3100/Tg2127.jsp?mid=S1810#'\n",
    "# driver.get(url)\n",
    "\n",
    "# transbtnn = driver.find_element_by_css_selector('#sido')\n",
    "# transbtnn.click()\n",
    "\n",
    "# trans2 = driver.find_element_by_css_selector('#sido > option:nth-child(2)')\n",
    "# trans2.click()\n",
    "\n",
    "# trans3 = driver.find_element_by_css_selector('#content > div.cont_box > div.filterForm.h_md > div.btn_wrap > a')\n",
    "# trans3.click()\n",
    "\n",
    "# trans4 = driver.find_element_by_css_selector('#rMateH5__Content69 > div:nth-child(15) > span > img')\n",
    "# trans4.click()\n",
    "\n",
    "# url2='https://tmacs.kotsa.or.kr/web/TG/TG300/TG3100/Tg2127_popup_01.jsp?ACM_PLC_NO=2019110116800002&Year=2019&stand=all&sido=11000&str1=0&str2=20&str3=45&str4=1&str5=1&str6=0&str7=68&str8=13&str9=%BD%C5%B3%ED%C7%F6%BF%AA%20%BB%E7%B0%C5%B8%AE&jijace=11680&Sido=11000&pos_x=202185.4&pos_y=445001.21&tabId=01&mid=S1974'\n",
    "# driver.get(url2)\n",
    "\n",
    "# trans5 = driver.find_element_by_css_selector('#tabId03 > a')\n",
    "# trans5.click()\n",
    "\n",
    "# trans6 = driver.find_element_by_css_selector('#new_popup > div.pop_cont > div.btn_box > a.btn.exbtn')\n",
    "# trans6.click()\n",
    "\n",
    "\n",
    "path = 'C:/Users/cityo/Desktop/chromedriver.exe'\n",
    "driver = webdriver.Chrome(path)\n",
    "\n",
    "for i in range(8,300): #매장 수 만큼 반복 수행\n",
    "    driver.get(url)\n",
    "    time.sleep(2)  # 웹 페이지 연결할 동안 1초 대기\n",
    "    \n",
    "    try:\n",
    "        transbtnn = driver.find_element_by_css_selector('#sido')\n",
    "        transbtnn.click()\n",
    "\n",
    "        trans2 = driver.find_element_by_css_selector('#sido > option:nth-child(2)')\n",
    "        trans2.click()\n",
    "\n",
    "        trans3 = driver.find_element_by_css_selector('#content > div.cont_box > div.filterForm.h_md > div.btn_wrap > a')\n",
    "        trans3.click()\n",
    "        time.sleep(5)\n",
    "\n",
    "        \n",
    "        trans4 = driver.find_element_by_css_selector('#rMateH5__Content69 > div:nth-child(%d) > span > img'%i)\n",
    "        trans4.click()\n",
    "        time.sleep(1)\n",
    "        \n",
    "        # 최근 열린 탭으로 전환\n",
    "        driver.switch_to.window(driver.window_handles[-1])\n",
    "\n",
    "        # 로딩 기다리기\n",
    "        \n",
    "        \n",
    "        trans5 = driver.find_element_by_css_selector('#tabId03 > a')\n",
    "        trans5.click()\n",
    "        time.sleep(10)\n",
    "        trans6 = driver.find_element_by_css_selector('#new_popup > div.pop_cont > div.btn_box > a.btn.exbtn')\n",
    "        trans6.click()\n",
    "        \n",
    "        time.sleep(2)\n",
    "        driver.switch_to.window(driver.window_handles[0])\n",
    "    \n",
    "        \n",
    "    \n",
    "        #new_popup > div.pop_cont > div.btn_box > a.btn.exbtn\n",
    "        \n",
    "    except:\n",
    "        continue"
   ]
  },
  {
   "cell_type": "code",
   "execution_count": 258,
   "id": "339580d4",
   "metadata": {},
   "outputs": [],
   "source": [
    "path = 'C:/Users/cityo/Desktop/chromedriver.exe'\n",
    "driver = webdriver.Chrome(path)\n",
    "\n",
    "\n",
    "driver.get(url)\n",
    "time.sleep(2)  # 웹 페이지 연결할 동안 1초 대기\n",
    "    \n",
    "\n",
    "transbtnn = driver.find_element_by_css_selector('#sido')\n",
    "transbtnn.click()\n",
    "\n",
    "trans2 = driver.find_element_by_css_selector('#sido > option:nth-child(2)')\n",
    "trans2.click()\n",
    "\n",
    "trans3 = driver.find_element_by_css_selector('#content > div.cont_box > div.filterForm.h_md > div.btn_wrap > a')\n",
    "trans3.click()\n",
    "time.sleep(5)\n",
    "\n",
    "        \n",
    "trans4 = driver.find_element_by_css_selector('#rMateH5__Content69 > div:nth-child(%d) > span > img'%i)\n",
    "trans4.click()\n",
    "# time.sleep(2)\n",
    "        "
   ]
  },
  {
   "cell_type": "code",
   "execution_count": null,
   "id": "4691feaf",
   "metadata": {},
   "outputs": [],
   "source": [
    "#rMateH5__Content69 > div:nth-child(36) > span > img\n",
    "#rMateH5__Content69 > div:nth-child(176) > span > img\n",
    "#rMateH5__Content69 > div:nth-child(127) > span > img"
   ]
  },
  {
   "cell_type": "code",
   "execution_count": null,
   "id": "fd076d0f",
   "metadata": {},
   "outputs": [],
   "source": [
    "rMateH5__Content69 > div:nth-child(8) > span > img"
   ]
  },
  {
   "cell_type": "code",
   "execution_count": null,
   "id": "1731449c",
   "metadata": {},
   "outputs": [],
   "source": []
  },
  {
   "cell_type": "code",
   "execution_count": null,
   "id": "d1bdebb6",
   "metadata": {},
   "outputs": [],
   "source": []
  },
  {
   "cell_type": "code",
   "execution_count": 117,
   "id": "7fbaf040",
   "metadata": {},
   "outputs": [],
   "source": [
    "url2='https://tmacs.kotsa.or.kr/web/TG/TG300/TG3100/Tg2127_popup_01.jsp?ACM_PLC_NO=2019110116800004&Year=2019&stand=all&sido=11000&str1=2&str2=9&str3=43&str4=1&str5=0&str6=0&str7=56&str8=7&str9=%C0%BB%C1%F6%BA%B4%BF%F8%20%BE%D5%20%BB%E7%B0%C5%B8%AE&jijace=11680&Sido=11000&pos_x=202491.55&pos_y=446689.5&tabId=01&mid=S1974'\n",
    "driver.get(url2)"
   ]
  },
  {
   "cell_type": "code",
   "execution_count": 90,
   "id": "2b38d28b",
   "metadata": {},
   "outputs": [],
   "source": [
    "trans5 = driver.find_element_by_css_selector('#tabId03 > a')\n",
    "trans5.click()"
   ]
  },
  {
   "cell_type": "code",
   "execution_count": 92,
   "id": "2c1d8480",
   "metadata": {},
   "outputs": [],
   "source": [
    "trans6 = driver.find_element_by_css_selector('#new_popup > div.pop_cont > div.btn_box > a.btn.exbtn')\n",
    "trans6.click()"
   ]
  },
  {
   "cell_type": "code",
   "execution_count": null,
   "id": "98ee0ae6",
   "metadata": {},
   "outputs": [],
   "source": []
  },
  {
   "cell_type": "code",
   "execution_count": null,
   "id": "4118b019",
   "metadata": {},
   "outputs": [],
   "source": []
  },
  {
   "cell_type": "code",
   "execution_count": null,
   "id": "7b9c358c",
   "metadata": {},
   "outputs": [],
   "source": []
  },
  {
   "cell_type": "code",
   "execution_count": null,
   "id": "d0158fae",
   "metadata": {},
   "outputs": [],
   "source": []
  },
  {
   "cell_type": "code",
   "execution_count": null,
   "id": "e01d50ba",
   "metadata": {},
   "outputs": [],
   "source": []
  },
  {
   "cell_type": "code",
   "execution_count": null,
   "id": "2d1a51e7",
   "metadata": {},
   "outputs": [],
   "source": []
  },
  {
   "cell_type": "code",
   "execution_count": null,
   "id": "5d669a24",
   "metadata": {},
   "outputs": [],
   "source": []
  },
  {
   "cell_type": "code",
   "execution_count": null,
   "id": "13a0a690",
   "metadata": {},
   "outputs": [],
   "source": [
    "#rMateH5__Content69 > div:nth-child(64) > span > img"
   ]
  },
  {
   "cell_type": "code",
   "execution_count": null,
   "id": "39e03c8c",
   "metadata": {},
   "outputs": [],
   "source": [
    "#rMateH5__Content69 > div:nth-child(36) > span > img"
   ]
  },
  {
   "cell_type": "code",
   "execution_count": null,
   "id": "e4a83ad5",
   "metadata": {},
   "outputs": [],
   "source": [
    "#rMateH5__Content69 > div:nth-child(43) > span > img\n"
   ]
  },
  {
   "cell_type": "code",
   "execution_count": null,
   "id": "df33d596",
   "metadata": {},
   "outputs": [],
   "source": [
    "#rMateH5__Content69 > div:nth-child(50) > span > img"
   ]
  },
  {
   "cell_type": "code",
   "execution_count": null,
   "id": "8ece35dd",
   "metadata": {},
   "outputs": [],
   "source": [
    "#rMateH5__Content69 > div:nth-child(57) > span > img"
   ]
  },
  {
   "cell_type": "code",
   "execution_count": null,
   "id": "530bbed3",
   "metadata": {},
   "outputs": [],
   "source": [
    "#rMateH5__Content69 > div:nth-child(64) > span > img"
   ]
  },
  {
   "cell_type": "code",
   "execution_count": null,
   "id": "60c24713",
   "metadata": {},
   "outputs": [],
   "source": [
    "# rMateH5__Content69 > div:nth-child(85) > span > img"
   ]
  },
  {
   "cell_type": "code",
   "execution_count": null,
   "id": "bfa73b13",
   "metadata": {},
   "outputs": [],
   "source": [
    "#rMateH5__Content69 > div:nth-child(78) > span > img"
   ]
  },
  {
   "cell_type": "code",
   "execution_count": null,
   "id": "914e1046",
   "metadata": {},
   "outputs": [],
   "source": []
  },
  {
   "cell_type": "code",
   "execution_count": null,
   "id": "c7dc4445",
   "metadata": {},
   "outputs": [],
   "source": []
  },
  {
   "cell_type": "code",
   "execution_count": null,
   "id": "ad95833c",
   "metadata": {},
   "outputs": [],
   "source": []
  },
  {
   "cell_type": "code",
   "execution_count": null,
   "id": "e417c07a",
   "metadata": {},
   "outputs": [],
   "source": []
  },
  {
   "cell_type": "code",
   "execution_count": null,
   "id": "f364979c",
   "metadata": {},
   "outputs": [],
   "source": []
  },
  {
   "cell_type": "code",
   "execution_count": null,
   "id": "97dfbe09",
   "metadata": {},
   "outputs": [],
   "source": []
  },
  {
   "cell_type": "code",
   "execution_count": null,
   "id": "d9b33788",
   "metadata": {},
   "outputs": [],
   "source": []
  },
  {
   "cell_type": "code",
   "execution_count": null,
   "id": "1aaa3f97",
   "metadata": {},
   "outputs": [],
   "source": []
  },
  {
   "cell_type": "code",
   "execution_count": null,
   "id": "d1165174",
   "metadata": {},
   "outputs": [],
   "source": []
  },
  {
   "cell_type": "code",
   "execution_count": null,
   "id": "dd479a0b",
   "metadata": {},
   "outputs": [],
   "source": []
  },
  {
   "cell_type": "code",
   "execution_count": null,
   "id": "3de5378e",
   "metadata": {},
   "outputs": [],
   "source": [
    "# 커피빈 예시"
   ]
  },
  {
   "cell_type": "code",
   "execution_count": null,
   "id": "768ebce1",
   "metadata": {},
   "outputs": [],
   "source": [
    "# result = []\n",
    "\n",
    "# for i in range(1,6): #매장 수 만큼 반복 수행\n",
    "#     driver.get(url)\n",
    "#     time.sleep(1)  # 웹 페이지 연결할 동안 1초 대기\n",
    "    \n",
    "#     try:\n",
    "#         driver.execute_script('storePop2(%d)' % i)\n",
    "#         time.sleep(1)\n",
    "\n",
    "#         source = driver.page_source\n",
    "#         soupCB = BeautifulSoup(source, 'lxml')\n",
    "\n",
    "#         # 매장명\n",
    "#         store_name_h2 = soupCB.select_one('div.store_txt>h2').text \n",
    "#         print(store_name_h2)\n",
    "\n",
    "#         # 매장 주소\n",
    "#         store_info_add = soupCB.select_one('div.store_txt>table.store_table>tbody>tr:nth-of-type(3)>td')\n",
    "#         store_address = store_info_add.text\n",
    "#         print(store_address)\n",
    "\n",
    "#         # 매장 전화번호\n",
    "#         store_info_phone = soupCB.select_one('div.store_txt>table.store_table>tbody>tr:nth-of-type(4)>td')\n",
    "#         store_phone = store_info_phone.text\n",
    "#         print(store_phone)\n",
    "        \n",
    "#         # result에 매장 정보 저장\n",
    "#         result.append([store_name_h2]+[store_address]+[store_phone])\n",
    "#     except:\n",
    "#         continue"
   ]
  }
 ],
 "metadata": {
  "kernelspec": {
   "display_name": "Python 3 (ipykernel)",
   "language": "python",
   "name": "python3"
  },
  "language_info": {
   "codemirror_mode": {
    "name": "ipython",
    "version": 3
   },
   "file_extension": ".py",
   "mimetype": "text/x-python",
   "name": "python",
   "nbconvert_exporter": "python",
   "pygments_lexer": "ipython3",
   "version": "3.8.11"
  }
 },
 "nbformat": 4,
 "nbformat_minor": 5
}
